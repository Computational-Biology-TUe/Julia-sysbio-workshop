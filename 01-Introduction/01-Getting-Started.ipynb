{
 "cells": [
  {
   "attachments": {},
   "cell_type": "markdown",
   "metadata": {},
   "source": [
    "# Getting Started with Julia\n",
    "## Introduction to Julia\n",
    "\n",
    "Traditional scientific computing is heavily reliant on high-performance code, but with the rise of practical-but-slow languages, science heavily relies on specialized packages that often have a hidden set of \"machinery\" under the hood, to retain some of the execution speeds of high-performance languages, such as C and FORTRAN. The practicality of popular programming languages is a general result of their dynamic syntax, allowing for compact readable code, with minimal specification related to language requirements, such as static type specifications. Luckily, modern compiler technology can nearly completely compensate for the performance dips observed in dynamic languages like Python and Matlab. Julia is a compiled language that tries to fill this role. \n",
    "\n",
    "However, performance in Julia may be unintuitive in the beginning, as the compiler optimizations are not always directly clear, when moving from an interpreted language like Python. Sometimes, it is hard to easily grasp why code is slow in Julia. However, once you understand a little how the language works, through reading and your own experiments, you begin to appreciate the language features and choices that have been made. Then, writing fast code is easier than ever. Of course, you don't have to do this alone. The Julia documentation is extremely rich with examples and detailed explanations of sometimes abstract and hard to understand concepts. Furthermore, many scientists have taken it on to develop general packages that make working in Julia more pleasant, or add the functionality that you are used to in other languages.\n",
    "\n",
    "In this introduction, we will begin with some basic Julia features and explain different types. It is assumed that you have a working installation of Julia and that you have some experience with programming in general. We will illustrate Julia extensively by comparing this to Python, Matlab, and R, so some basic knowledge of at least one of these languages may be helpful.\n",
    "\n",
    "## Julia Jargon\n",
    "Some words you might encounter frequently in any Julia tutorial are listed here with a short explanation. The Julia command-line is the basis for most applications, and is named REPL (Read-Eval-Print-Loop). The package manager is called Pkg, which takes care of all of the dependencies and environments of your Julia code, to make sure everything keeps running smoothly, when using external code. The word dispatch is also frequently used, and refers to the specific implementation of a method for (a set of) input objects. You can, for example, dispatch a function on several different types, which means that you create several implementations of a function on these different types."
   ]
  },
  {
   "attachments": {},
   "cell_type": "markdown",
   "metadata": {},
   "source": [
    "## Variables and Types\n",
    "In Julia, values can be assigned to variables, similarly to Matlab and Python (the arrow-syntax of R is reserved for some other functionality we will get to later). The variable naming system is very flexible, and nearly all unicode (UTF-8) characters are allowed. For the Greek notation enthousiasts: you can use Greek letters in variable names, alongside some diacritic signs, such as hats; and sub- and superscripts. Below you can see an example of different variable names."
   ]
  },
  {
   "cell_type": "code",
   "execution_count": 3,
   "metadata": {},
   "outputs": [],
   "source": [
    "x = 1\n",
    "helloworld = \"Hello, World\"\n",
    "ξ = x + 2\n",
    "γρϵϵκ = \"Greek Letters\"\n",
    "ça_va = \"ça va bien\"; # semi-colon suppresses the final output to be printed"
   ]
  },
  {
   "cell_type": "markdown",
   "metadata": {},
   "source": [
    "---\n",
    "Exercise 1: \n",
    "---\n",
    "\n",
    "Try out defining some variables and see which character you can use, and how to use Greek letters in your variables. *(hint: use `\\<charname>` to view suggested characters and press `TAB` to insert the selected character.)*"
   ]
  },
  {
   "cell_type": "code",
   "execution_count": null,
   "metadata": {},
   "outputs": [],
   "source": [
    "# Try it out yourself!"
   ]
  },
  {
   "cell_type": "markdown",
   "metadata": {},
   "source": [
    "---"
   ]
  },
  {
   "attachments": {},
   "cell_type": "markdown",
   "metadata": {},
   "source": [
    "### Chaining variable assignments\n",
    "As you can see, the variable system is a lot like other languages. However, more is possible. In Julia the '=' sign _binds_ a value to a variable name. We can also chain assignments, which is illustrated below."
   ]
  },
  {
   "cell_type": "code",
   "execution_count": 6,
   "metadata": {},
   "outputs": [
    {
     "data": {
      "text/plain": [
       "11"
      ]
     },
     "metadata": {},
     "output_type": "display_data"
    }
   ],
   "source": [
    "a = 3\n",
    "b = c = 2\n",
    "d = (e = a+2*b) + 4"
   ]
  },
  {
   "attachments": {},
   "cell_type": "markdown",
   "metadata": {},
   "source": [
    "From this piece of code, we can see that `d` has the value 11. We can deduce this as follows:\n",
    "1. `a = 3`: the value 3 is assigned to the name `a`\n",
    "2. `b = c = 2`: the value 2 is assigned to `c` and `b` is equal to `c`, giving it also the value 2\n",
    "3. `d = (e = a+2*b) + 4`: the value `a`+2*`b` is assigned to `e`, which equals 3+2*2 = 7. Then, `d` equals `e` + 4, which is 11."
   ]
  },
  {
   "attachments": {},
   "cell_type": "markdown",
   "metadata": {},
   "source": [
    "### Types I: The Basics\n",
    "In this subsection, we will discuss the basic type system of Julia. As the typing system is very extensive and may require additional components to fully grasp, we will discuss this throughout the tutorial, to make sure you have the necessary prerequisite information to easily understand different functionalities. The typing in its most basic form is very similar to the system used by the Python numpy package.\n",
    "\n",
    "Basic types in Julia are:\n",
    "\n",
    "**Integer Types**:\n",
    "`Int<x>` and `UInt<x>` where `<x>` is the number of bits of the integer, which can be 8, 16, 32, 64 and 128. Additionally, Julia has the `Bool` type, which has the values `false` and `true`.\n"
   ]
  },
  {
   "cell_type": "code",
   "execution_count": 4,
   "metadata": {},
   "outputs": [
    {
     "data": {
      "text/plain": [
       "Int64"
      ]
     },
     "metadata": {},
     "output_type": "display_data"
    }
   ],
   "source": [
    "someint = 10\n",
    "typeof(someint)"
   ]
  },
  {
   "attachments": {},
   "cell_type": "markdown",
   "metadata": {},
   "source": [
    "**Floating-point Types**:\n",
    "Julia has three floating point types, half-precision (16-bit), single-precision (32-bit), and double-precision (64-bit), which are named as `Float16`, `Float32`, and `Float64` respectively."
   ]
  },
  {
   "cell_type": "code",
   "execution_count": 5,
   "metadata": {},
   "outputs": [
    {
     "data": {
      "text/plain": [
       "Float64"
      ]
     },
     "metadata": {},
     "output_type": "display_data"
    }
   ],
   "source": [
    "afloat = 10.\n",
    "typeof(afloat)"
   ]
  },
  {
   "attachments": {},
   "cell_type": "markdown",
   "metadata": {},
   "source": [
    "Special floating-point values, which are `Inf` (infinity), `-Inf` (negative-infinity) and `NaN` (not a number). They are by default double precision, but can be made single- or half-precision by adding `32` or `16` to the names respectively. For example, a 32-bit infinity value can be `Inf32`. "
   ]
  },
  {
   "cell_type": "code",
   "execution_count": 6,
   "metadata": {},
   "outputs": [
    {
     "data": {
      "text/plain": [
       "Float16"
      ]
     },
     "metadata": {},
     "output_type": "display_data"
    }
   ],
   "source": [
    "typeof(Inf16)"
   ]
  },
  {
   "attachments": {},
   "cell_type": "markdown",
   "metadata": {},
   "source": [
    "\n",
    "**Char and Strings**\n",
    "In Julia, a character can be represented by `'x'`, so with single quotes. Strings are *always* represented with double quotes: `\"this can be a string\"`. Using single quotes for defining a string will raise an error. If you want to include double quotes in a string, you can do so by representing the full string in triple double quotes: `\"\"\"Adding \"quotes\" can be done like this\"\"\"`. "
   ]
  },
  {
   "cell_type": "code",
   "execution_count": 8,
   "metadata": {},
   "outputs": [
    {
     "name": "stdout",
     "output_type": "stream",
     "text": [
      "String\n",
      "Char\n"
     ]
    }
   ],
   "source": [
    "st = \"this is a string\"\n",
    "println(typeof(st))\n",
    "\n",
    "ch = 'c' # this is a character\n",
    "println(typeof(ch))"
   ]
  },
  {
   "cell_type": "markdown",
   "metadata": {},
   "source": [
    "**String concatenation**: An important difference between Julia, Python and Matlab is the way to combine strings. Observe the difference between the following Python and Matlab codes and their Julia equivalent in the cell below:\n",
    "\n",
    "**Python**:\n",
    "```python\n",
    "a = 'Hello, '\n",
    "b = 'world!'\n",
    "\n",
    "print(a + b)\n",
    "```\n",
    "\n",
    "**MATLAB**:\n",
    "```matlab\n",
    "a = 'Hello, ';\n",
    "b = 'world!';\n",
    "\n",
    "strcat(a, b)\n",
    "\n",
    "```"
   ]
  },
  {
   "cell_type": "code",
   "execution_count": 62,
   "metadata": {},
   "outputs": [
    {
     "name": "stdout",
     "output_type": "stream",
     "text": [
      "Hello, world!\n"
     ]
    }
   ],
   "source": [
    "# Julia\n",
    "a = \"Hello, \" # remember, double quotes only\n",
    "b = \"world!\"\n",
    "\n",
    "println(a*b) # string concatenation is done with * instead of + in Python or strcat in Matlab"
   ]
  },
  {
   "cell_type": "markdown",
   "metadata": {},
   "source": [
    "Similarly, string duplication, which is defined with `*` in Python, is done in Julia using `^` (raise to the power):"
   ]
  },
  {
   "cell_type": "code",
   "execution_count": 66,
   "metadata": {},
   "outputs": [
    {
     "data": {
      "text/plain": [
       "\"HoHoHo\""
      ]
     },
     "metadata": {},
     "output_type": "display_data"
    }
   ],
   "source": [
    "x = \"Ho\"\n",
    "\n",
    "x^3"
   ]
  },
  {
   "cell_type": "markdown",
   "metadata": {},
   "source": [
    "### Arrays\n",
    "An array in Julia is always of the type `Array{T, N}`, which is a parametric type. The `T` specifies the type of the contents of the array, while `N` indicates the dimensionality. Therefore, a 3D array and a vector (1D array) are different types in Julia. We also have two \"special\" array types, named `Vector{T}` and `Matrix{T}`. These are so-called aliases for the `Array{T, 1}` and `Array{T, 2}` types respectively, but they have been given special names because of their frequency of use. It is important to remember that `Array{T, 1}` and `Vector{T}` are *equivalent*, meaning that they are **not** different types. The same holds for matrices and 2D arrays.\n",
    "\n",
    "#### Indexing\n",
    "Indexing in Julia is done with `[]`, and according to Julia conventions, indexing starts at 1. However, this is not a hard rule to live by when using Julia. \n",
    "\n",
    "While this is not generally recommended, options exist to change the way you index. Examples in order of increasing absurdity:\n",
    "* [OffsetArrays.jl](https://github.com/JuliaArrays/OffsetArrays.jl) \n",
    "* [TwoBasedIndexing.jl](https://github.com/simonster/TwoBasedIndexing.jl) \n",
    "* [StarWarsArrays.jl](https://github.com/giordano/StarWarsArrays.jl)"
   ]
  },
  {
   "attachments": {},
   "cell_type": "markdown",
   "metadata": {},
   "source": [
    "### Mutability\n",
    "Mutability in Julia is similar to Python. Vectors and Arrays are mutable by default. Tuples are immutable. Making the parallel to Python, Arrays are more-or-less equivalent to a combination between a Python list and a numpy array."
   ]
  },
  {
   "cell_type": "code",
   "execution_count": 47,
   "metadata": {},
   "outputs": [
    {
     "data": {
      "text/plain": [
       "3"
      ]
     },
     "metadata": {},
     "output_type": "display_data"
    }
   ],
   "source": [
    "# Integers are immutable\n",
    "a = 3\n",
    "b = a\n",
    "a += 2\n",
    "\n",
    "# even though we modify a, b remains unmodified\n",
    "b"
   ]
  },
  {
   "cell_type": "code",
   "execution_count": 45,
   "metadata": {},
   "outputs": [
    {
     "data": {
      "text/plain": [
       "1×3 Matrix{Int64}:\n",
       " 1  4  3"
      ]
     },
     "metadata": {},
     "output_type": "display_data"
    }
   ],
   "source": [
    "# Arrays and matrices are mutable\n",
    "c = [1 2 3]\n",
    "d = c\n",
    "# If we mutate an element of c, it also affects d\n",
    "c[2] = 4\n",
    "\n",
    "d"
   ]
  },
  {
   "cell_type": "markdown",
   "metadata": {},
   "source": [
    "---\n",
    "Exercise 2: \n",
    "---\n",
    "\n",
    "1. Check the mutability of different types.\n",
    "2. You can also check if two names point to the same (mutable) variable using `===`.  \n",
    "Use the `===` operator to verify that `d` and `c` indeed point to the same variable."
   ]
  },
  {
   "cell_type": "code",
   "execution_count": null,
   "metadata": {},
   "outputs": [],
   "source": [
    "# Your turn!"
   ]
  },
  {
   "cell_type": "markdown",
   "metadata": {},
   "source": [
    "---"
   ]
  },
  {
   "attachments": {},
   "cell_type": "markdown",
   "metadata": {},
   "source": [
    "### Specifying Types\n",
    "An optional feature in Julia is specifying the types of each variable. While this may be a bit redundant in very basic code, such as the examples shown here, it can greatly benefit readability or ease-of-use in large complex code. We will dive into when you should specify types later, and just show that it is possible."
   ]
  },
  {
   "cell_type": "code",
   "execution_count": 7,
   "metadata": {},
   "outputs": [
    {
     "data": {
      "text/plain": [
       "true"
      ]
     },
     "metadata": {},
     "output_type": "display_data"
    }
   ],
   "source": [
    "# Types are specified\n",
    "specifiedint::Int64 = 3\n",
    "\n",
    "# Types are unspecified\n",
    "unspecifiedint = 4\n",
    "\n",
    "# Type specification can change how variables are printed. The bool 'int' type has values false(0) and true(1).\n",
    "yes::Bool = 1\n",
    "yes"
   ]
  },
  {
   "attachments": {},
   "cell_type": "markdown",
   "metadata": {},
   "source": [
    "## Functions\n",
    "Functions have a central role in the Julia programming language. Similarly to classes in C++ and Python, they form the backbone of _good_ Julia code. A defining feature called muliple dispatch increases their use and leads to innovative programming techniques. An extensive chapter will cover multiple dipatch later on. First let us show some ways of specifying functions. The most general way is through the `function` keyword."
   ]
  },
  {
   "cell_type": "code",
   "execution_count": 17,
   "metadata": {},
   "outputs": [
    {
     "data": {
      "text/plain": [
       "foo (generic function with 2 methods)"
      ]
     },
     "metadata": {},
     "output_type": "display_data"
    }
   ],
   "source": [
    "# Specify a function\n",
    "function foo()\n",
    "    println(\"Hello, world!\")\n",
    "end"
   ]
  },
  {
   "attachments": {},
   "cell_type": "markdown",
   "metadata": {},
   "source": [
    "The output of the cell above shows 'foo (generic function with 1 method)'. This means that we have defined a function named \"foo\", and that there is one method coupled to this. We should therefore first clear up the difference between functions and methods. A _function_ is a specified, sometimes very general, procedure, such as \"Invert the position of the elements\". A _method_ is the specific implementation of this procedure, such as, if the input is a vector, the first element becomes the last, and so on. However, if the input is a multidimensional array, just saying \"invert the positions of the elements\" is too vague, and we need a different implementation that requires an additional argument, which specifies along which dimension we should invert the positions. The function is in this case the same, but the method is different.\n",
    "\n",
    "Another way of specifying a function is as follows:"
   ]
  },
  {
   "cell_type": "code",
   "execution_count": 12,
   "metadata": {},
   "outputs": [
    {
     "data": {
      "text/plain": [
       "bar (generic function with 1 method)"
      ]
     },
     "metadata": {},
     "output_type": "display_data"
    }
   ],
   "source": [
    "bar() = println(\"Hello, world!\")"
   ]
  },
  {
   "attachments": {},
   "cell_type": "markdown",
   "metadata": {},
   "source": [
    "### Function arguments\n",
    "Function arguments are separated into **positional** arguments, and **keyword** arguments. As the names say, positional arguments are interpreted based on their position in the function call, whereas keyword arguments are interpreted based on the argument names. Different from Python, specifying default values in Julia does not automatically convert a positional argument to a keyword argument. Instead, function signatures separate them using a semi-colon (`;`). We can add arguments as:\n",
    "`function name(args; kwargs)`"
   ]
  },
  {
   "cell_type": "code",
   "execution_count": 18,
   "metadata": {},
   "outputs": [
    {
     "data": {
      "text/plain": [
       "foo (generic function with 2 methods)"
      ]
     },
     "metadata": {},
     "output_type": "display_data"
    }
   ],
   "source": [
    "function foo(a)\n",
    "    println(\"Hello, $(a)\") # using the $ we can do string interpolation\n",
    "end"
   ]
  },
  {
   "attachments": {},
   "cell_type": "markdown",
   "metadata": {},
   "source": [
    "We now see that the 'foo' function has 2 methods, one with an argument, and one without. We can add a few more methods."
   ]
  },
  {
   "cell_type": "code",
   "execution_count": 21,
   "metadata": {},
   "outputs": [
    {
     "data": {
      "text/plain": [
       "foo (generic function with 4 methods)"
      ]
     },
     "metadata": {},
     "output_type": "display_data"
    }
   ],
   "source": [
    "function foo(a, b)\n",
    "    println(\"Hello, $(a), $(b)\")\n",
    "end\n",
    "\n",
    "function foo(a, b, c; d = 1)\n",
    "    for i = 1:d\n",
    "        println(\"Hello, $(a), $(b), I am $(c)\")\n",
    "    end\n",
    "end"
   ]
  },
  {
   "cell_type": "code",
   "execution_count": 29,
   "metadata": {},
   "outputs": [
    {
     "name": "stdout",
     "output_type": "stream",
     "text": [
      "Hello, You, nice to meet you, I am Julia\n",
      "Hello, You, nice to meet you, I am Julia\n",
      "Hello, You, nice to meet you, I am Julia\n",
      "Hello, You, nice to meet you, I am Julia\n"
     ]
    }
   ],
   "source": [
    "foo(\"You\", \"nice to meet you\", \"Julia\"; d = 4)"
   ]
  },
  {
   "attachments": {},
   "cell_type": "markdown",
   "metadata": {},
   "source": [
    "### Anonymous functions\n",
    "Julia also has the option to specify anonymous functions (officially named \"closures\") using the \"->\" notation. These functions can be assigned to variables as well."
   ]
  },
  {
   "cell_type": "code",
   "execution_count": 27,
   "metadata": {},
   "outputs": [
    {
     "data": {
      "text/plain": [
       "#21 (generic function with 1 method)"
      ]
     },
     "metadata": {},
     "output_type": "display_data"
    }
   ],
   "source": [
    "otherfunc = (x) -> 5*x"
   ]
  },
  {
   "attachments": {},
   "cell_type": "markdown",
   "metadata": {},
   "source": [
    "### Mathematical Operations are Functions\n",
    "Mathematical operations like addition, multiplication and so on are also functions, each with their methods. It might become evident that functions play a central role in Julia. Take for example, the addition operation. When we ask Julia to show the contents of this function, we see that it has many different methods. This is because of the many different combinations of types that can be specified to the function in general. A separate definition is given for adding two `Float64`s and adding a `Float64` to an `Int64`. This is the case for all operations. The Julia programming style is to favour separate dispatches over internal conversion, as from dispatching functions on various arguments, the types of the inputs and the corresponding output are often known at compile-time, and easily inferred, enabling the compiler to selectively compile and optimize the actually called variations of functions. "
   ]
  },
  {
   "cell_type": "code",
   "execution_count": 1,
   "metadata": {},
   "outputs": [
    {
     "data": {
      "text/plain": [
       "+ (generic function with 207 methods)"
      ]
     },
     "metadata": {},
     "output_type": "display_data"
    }
   ],
   "source": [
    "+"
   ]
  },
  {
   "attachments": {},
   "cell_type": "markdown",
   "metadata": {},
   "source": [
    "### Specifying Types of Function Arguments\n",
    "Similarly to specifying types, we can specify the types of function arguments. In this case, we define a function called `chop`, which has various implementations for different types. For positive integer inputs, it subtracts one. For zero, it returns zero, for negative integers, it throws an exception. For strings however, it cuts off the last character. The method itself is not necessarily important, neither is it very useful, but it suffices to provide a basic idea of what we call type dispatch."
   ]
  },
  {
   "cell_type": "code",
   "execution_count": 3,
   "metadata": {},
   "outputs": [
    {
     "data": {
      "text/plain": [
       "chop (generic function with 1 method)"
      ]
     },
     "metadata": {},
     "output_type": "display_data"
    }
   ],
   "source": [
    "# The first method of chop\n",
    "\n",
    "function chop(x::Int)\n",
    "    # This is a trick, using the short circuit property of the ||-operator: if the first entry is valid, the second will not be executed.\n",
    "    x ≥ 0 || throw(ArgumentError(\"Integer input of x = $(x) does not satisfy x ≥ 0. Please provide a valid input\")) \n",
    "\n",
    "    # Short for if x > 0, return x-1, else return x\n",
    "    return x > 0 ? x-1 : x\n",
    "end"
   ]
  },
  {
   "cell_type": "code",
   "execution_count": 4,
   "metadata": {},
   "outputs": [
    {
     "data": {
      "text/plain": [
       "chop (generic function with 2 methods)"
      ]
     },
     "metadata": {},
     "output_type": "display_data"
    }
   ],
   "source": [
    "# The second method of chop\n",
    "chop(x::String) = return x[1:end-1]"
   ]
  },
  {
   "attachments": {},
   "cell_type": "markdown",
   "metadata": {},
   "source": [
    "We can test the method easily."
   ]
  },
  {
   "cell_type": "code",
   "execution_count": 10,
   "metadata": {},
   "outputs": [
    {
     "data": {
      "text/plain": [
       "4"
      ]
     },
     "metadata": {},
     "output_type": "display_data"
    }
   ],
   "source": [
    "chop(5)"
   ]
  },
  {
   "cell_type": "code",
   "execution_count": 13,
   "metadata": {},
   "outputs": [
    {
     "data": {
      "text/plain": [
       "0"
      ]
     },
     "metadata": {},
     "output_type": "display_data"
    }
   ],
   "source": [
    "chop(0)"
   ]
  },
  {
   "cell_type": "code",
   "execution_count": 12,
   "metadata": {},
   "outputs": [
    {
     "data": {
      "text/plain": [
       "\"5\""
      ]
     },
     "metadata": {},
     "output_type": "display_data"
    }
   ],
   "source": [
    "chop(\"50\")"
   ]
  },
  {
   "attachments": {},
   "cell_type": "markdown",
   "metadata": {},
   "source": [
    "We see that it works as supposed for the conditions that were defined. Moreover, unlike Python, function argument types are checked, which means that an error will occur if we try to call `chop` on a `Float32`, for example."
   ]
  },
  {
   "cell_type": "markdown",
   "metadata": {},
   "source": [
    "---\n",
    "Exercise 3: \n",
    "---\n",
    "\n",
    "1. Inspect the methods of the `+` function to see what types this is defined for\n",
    "2. Add some more methods to the `chop` function\n",
    "3. Experiment with defining methods and using positional and keyword arguments to define a function with several methods."
   ]
  },
  {
   "cell_type": "code",
   "execution_count": 67,
   "metadata": {},
   "outputs": [],
   "source": [
    "# Experiment here!"
   ]
  },
  {
   "cell_type": "markdown",
   "metadata": {},
   "source": [
    "---"
   ]
  },
  {
   "attachments": {},
   "cell_type": "markdown",
   "metadata": {},
   "source": [
    "## Control Flow\n",
    "You may have seen a slight hint of this already, but our programs in Julia can also be composed of several control flow elements. The  components in Julia are:\n",
    "* conditional statements (if, else, elseif)\n",
    "* loops (for, while)\n",
    "* compounding (begin)\n",
    "* short-circuiting (&&, ||, chaining)\n",
    "* exception handling (try, catch, finally)\n",
    "* tasks or coroutines (yieldto)\n",
    "\n",
    "We will discuss all of them, except the last two, which are only mentioned for completeness, and are better discussed in a more advanced tutorial."
   ]
  },
  {
   "attachments": {},
   "cell_type": "markdown",
   "metadata": {},
   "source": [
    "### Conditional Statements and Loops\n",
    "In Julia, we can make conditional expressions using `if`, similarly to Python and Matlab. The syntax is generally equal to the current MATLAB syntax, requiring an `end` keyword to close the expression. Tabs do not have any syntactic meaning, and are generally only included for readability. The other keywords are `elseif` and `else`. An example:"
   ]
  },
  {
   "cell_type": "code",
   "execution_count": 17,
   "metadata": {},
   "outputs": [
    {
     "name": "stdout",
     "output_type": "stream",
     "text": [
      "Your input is 4, which is positive\n",
      "Your input is -12, which is negative\n",
      "Your input is 0, which is neither negative, nor positive\n",
      "Your input is 0, which is neither negative, nor positive\n"
     ]
    }
   ],
   "source": [
    "function conditions(x)\n",
    "\n",
    "    if x > 0\n",
    "        println(\"Your input is $(x), which is positive\")\n",
    "    elseif x < 0\n",
    "        println(\"Your input is $(x), which is negative\")\n",
    "    else\n",
    "        println(\"Your input is $(x), which is neither negative, nor positive\")\n",
    "    end\n",
    "end\n",
    "\n",
    "conditions(4)\n",
    "conditions(-12)\n",
    "conditions(0)\n",
    "conditions(-0)"
   ]
  },
  {
   "attachments": {},
   "cell_type": "markdown",
   "metadata": {},
   "source": [
    "An important difference between Julia, and Matlab & Python, is that the values in conditional expressions *must* be boolean, which means that the Pythonic way of checking if a list or string is empty through `if x` raises an error in Julia code. "
   ]
  },
  {
   "attachments": {},
   "cell_type": "markdown",
   "metadata": {},
   "source": [
    "#### Loops\n",
    "Loops are also syntactically similar to Matlab. We can use the `for` keyword to loop over a predefined set of values, and the `while` keyword to continue repetitive execution until some condition is met. We also close loops with `end`. The `for`-statement can have either the MATLAB or the Python syntax, so writing `for i = 1:10` is equal to writing `for i in 1:10` in terms of the resulting behavior. A small example is given."
   ]
  },
  {
   "cell_type": "code",
   "execution_count": 20,
   "metadata": {},
   "outputs": [
    {
     "name": "stdout",
     "output_type": "stream",
     "text": [
      "1, 2, 3, 4, 5, 6, 7, 8, 9, 10, \n",
      "1, 2, 3, 4, 5, 6, 7, 8, 9, 10, "
     ]
    }
   ],
   "source": [
    "for i = 1:10\n",
    "    print(\"$(i), \")\n",
    "end\n",
    "print(\"\\n\")\n",
    "for i in 1:10\n",
    "    print(\"$(i), \")\n",
    "end"
   ]
  },
  {
   "attachments": {},
   "cell_type": "markdown",
   "metadata": {},
   "source": [
    "Looping through indices of an array can also be done similarly to MATLAB in Python, but because Julia does not necessarily enforce users to adapt its 1-based index (and therefore allows users to change the way arrays or custom objects are indexed), Julia has the `eachindex()` expression to safely loop through all indices in an object."
   ]
  },
  {
   "cell_type": "code",
   "execution_count": 23,
   "metadata": {},
   "outputs": [
    {
     "name": "stdout",
     "output_type": "stream",
     "text": [
      "0.0\n",
      "10.0\n",
      "4.0\n",
      "102.0\n"
     ]
    }
   ],
   "source": [
    "arr = [0., 10., 4., 102.]\n",
    "for i in eachindex(arr)\n",
    "    println(arr[i])\n",
    "end"
   ]
  },
  {
   "attachments": {},
   "cell_type": "markdown",
   "metadata": {},
   "source": [
    "*Note: in older Julia code, you may sometimes encounter the `@inbounds for i in 1:length(x)` way of safe indexing. However, the `eachindex` style is preferred*"
   ]
  },
  {
   "attachments": {},
   "cell_type": "markdown",
   "metadata": {},
   "source": [
    "### Compounding\n",
    "Compound expressions can be created using the `begin` and `end` keywords, and act as a group of expressions that can be executed to yield a single result."
   ]
  },
  {
   "cell_type": "code",
   "execution_count": 69,
   "metadata": {},
   "outputs": [
    {
     "data": {
      "text/plain": [
       "2"
      ]
     },
     "metadata": {},
     "output_type": "display_data"
    }
   ],
   "source": [
    "z = begin\n",
    "    x = 3\n",
    "    y = 1\n",
    "    x-y\n",
    "end"
   ]
  },
  {
   "attachments": {},
   "cell_type": "markdown",
   "metadata": {},
   "source": [
    "A shorthand way of compounding is done using `;` in this way:"
   ]
  },
  {
   "cell_type": "code",
   "execution_count": 26,
   "metadata": {},
   "outputs": [
    {
     "data": {
      "text/plain": [
       "5"
      ]
     },
     "metadata": {},
     "output_type": "display_data"
    }
   ],
   "source": [
    "z = (x = 3; y = 2; x+y)"
   ]
  },
  {
   "attachments": {},
   "cell_type": "markdown",
   "metadata": {},
   "source": [
    "### Short-Circuit Evaluations\n",
    "This type of control flow has already been hinted at. In Julia, the expressions `||` and `&&` depict short-circuited versions of the `or` (`|`) and `and` (`&`) operations. This means that for `||`, the next expression is only executed if the preceding expressions are all `false`, and in `&&`, the next expressions are only executed if all preceding expressions evaluate to `true`. "
   ]
  },
  {
   "cell_type": "markdown",
   "metadata": {},
   "source": [
    "---\n",
    "Exercise 4:\n",
    "---\n",
    "Short-circuit evaluations can also be done to catch errors in functions.\n",
    "Inspect the function with two methods below.\n",
    "\n",
    "1. Modify the 'if-statement' control flow to a single-line short-circuit evaluation that has the same functionality\n",
    "2. Test out the implementation to see if it works."
   ]
  },
  {
   "cell_type": "code",
   "execution_count": 22,
   "metadata": {},
   "outputs": [
    {
     "data": {
      "text/plain": [
       "snake_stack (generic function with 2 methods)"
      ]
     },
     "metadata": {},
     "output_type": "display_data"
    }
   ],
   "source": [
    "\"\"\"\n",
    "  snake_stack(v1, v2, [vx...])\n",
    "\n",
    "Concatenates vectors v2 (and optionally more, specified in vx) to vector or matrix v1, reversing each concatenated vector if it belongs to an even column in the output matrix.\n",
    "\n",
    "# Arguments:\n",
    "```\n",
    "  v1::AbstractVecOrMat  : input vector or matrix\n",
    "  v2::AbstractVector    : vector to concatenate\n",
    "  [vx] (optional)       : other vectors to concatenate\n",
    "```\n",
    "Throws an ArgumentError if one of the vectors to concatenate does not match the dimension of concatenation, specified by size(v1, 1)\n",
    "\n",
    "# Examples\n",
    "\n",
    "```julia-repl\n",
    "julia> snake_stack([1,2,3], [4,5,6])\n",
    "1 6\n",
    "2 5\n",
    "3 4\n",
    "```\n",
    "\"\"\"\n",
    "function snake_stack(v1::AbstractVecOrMat, v2::AbstractVector)\n",
    "  if size(v1, 1) == size(v2, 1)\n",
    "    return size(v1, 2) % 2 == 0 ? [v1 v2] : [v1 reverse(v2)]\n",
    "  else\n",
    "    throw(ArgumentError(\"Concatenation dimensions of inputs are not equal: $(size(v1,1)) ≠ $(size(v2,1))\"))\n",
    "  end\n",
    "end\n",
    "\n",
    "function snake_stack(v1, v2, vx...)\n",
    "  snake_stack(snake_stack(v1, v2), vx...)\n",
    "end"
   ]
  },
  {
   "cell_type": "code",
   "execution_count": 23,
   "metadata": {},
   "outputs": [],
   "source": [
    "# Put your testing code here!"
   ]
  },
  {
   "cell_type": "markdown",
   "metadata": {},
   "source": [
    "---"
   ]
  },
  {
   "cell_type": "markdown",
   "metadata": {},
   "source": [
    "## Scope of Variables\n",
    "The scope of a variable is the region in the code where the variable can be accessed. Scoping avoids conflicts with naming of variables. In Julia, the scoping rules can seem slightly difficult at first. But there are good reasons for this behavior.\n",
    "\n",
    "Initially, Julia uses a so-called *lexical scope*, which is the most common scope paradigm in modern programming languages. This means that the scope of a variable is determined by its location in the written code, contrarily to *dynamic scope*, where a variable's scope is determined by the program's state during runtime. \n",
    "\n",
    "Now we can forget about this and just look at the scoping rules for Julia. Scopes are divided into two main categories: global and local. The global scope is the outermost scope in a Julia program, and is constructed by *modules*. Modules are not covered in this tutorial, as they are generally only used in package development, but all you need to know is that Julia variable definitions are always coupled to the module in which they are defined. While variables from other modules can be read, they can *only* be modified within the module where they are defined. Practically, this will not have a lot of consequences, but we can look at an example."
   ]
  },
  {
   "cell_type": "code",
   "execution_count": 26,
   "metadata": {},
   "outputs": [
    {
     "name": "stdout",
     "output_type": "stream",
     "text": [
      "4\n",
      "3\n"
     ]
    },
    {
     "name": "stderr",
     "output_type": "stream",
     "text": [
      "WARNING: replacing module Foo.\n"
     ]
    }
   ],
   "source": [
    "# define module\n",
    "module Foo\n",
    "  x = 3\n",
    "  foo() = x\n",
    "end\n",
    "\n",
    "# we can import the module\n",
    "using .Foo\n",
    "\n",
    "x = 4\n",
    "println(x)\n",
    "println(Foo.x)"
   ]
  },
  {
   "cell_type": "markdown",
   "metadata": {},
   "source": [
    "We can see from this example that even though we modify `x` in the outer global scope, the `x` defined within the global scope of the module `Foo` remains bound to its original value. If we want to modify the `x` within `Foo`, we could do:"
   ]
  },
  {
   "cell_type": "code",
   "execution_count": 20,
   "metadata": {},
   "outputs": [
    {
     "data": {
      "text/plain": [
       "7"
      ]
     },
     "metadata": {},
     "output_type": "display_data"
    }
   ],
   "source": [
    "Foo.x = 7\n",
    "Foo.foo()"
   ]
  },
  {
   "cell_type": "markdown",
   "metadata": {},
   "source": [
    "And we see that even the function `foo()` that just returns the global `x` returns the new value. In practice, each module has its own global scope. More on modules can be found in [the documentation](https://docs.julialang.org/en/v1/manual/modules/). Now, let's move on to the local scope.\n",
    "\n",
    "The lcoal scope is constructed by other block constructors such as `struct`, `for`, `while`, `macro`, among others. Blocks that do **not** define a new local scope are `begin`-blocks and `if`-blocks. Two types of local scopes exist: the hard local and the soft local. Hard local scopes are created by `do`-blocks, `let`-blocks, functions, comprehensions and generators, while loops, structs and `try`-blocks create soft local scopes. The difference between soft and hard local scopes is in the way they handle variable assignment when a global variable with the same name exists. \n",
    "\n",
    "### Hard Local\n",
    "If a global variable exists, and it a variable with the same name is assigned in a hard local scope, the global variable remains assigned in the global scope, and a new local variable with the same name is created. This does not lead to problems, because the local variable is not accessible in the global scope anyway. This can be illustrated:"
   ]
  },
  {
   "cell_type": "code",
   "execution_count": 30,
   "metadata": {},
   "outputs": [
    {
     "name": "stdout",
     "output_type": "stream",
     "text": [
      "z has the value 12\n",
      "y has the value 30\n"
     ]
    }
   ],
   "source": [
    "# we define y and z\n",
    "y = 30\n",
    "z = 12\n",
    "function dothis()\n",
    "  y = z + 2\n",
    "  return y\n",
    "end\n",
    "\n",
    "println(\"z has the value $(z)\")\n",
    "println(\"y has the value $(y)\")"
   ]
  },
  {
   "cell_type": "markdown",
   "metadata": {},
   "source": [
    "We see that even though we \"reassigned\" `y` within the function, this does not affect the global `y`. What is also apparent from this example is that we can read global variables from a local scope as well. This is a general rule, as inner scopes can **always** access variables from their outer scopes."
   ]
  },
  {
   "cell_type": "markdown",
   "metadata": {},
   "source": [
    "### Soft local\n",
    "The soft local scope is slightly more complicated, as its behavior differs based on the way code is executed. If a local variable is defined within a soft local scope, while a global variable exists, one of two things can happen:\n",
    "* In *non-interactive* context: an ambiguity warning is printed, and a new local is created in the scope of the assignment (same behavior as hard-local, but with a warning)\n",
    "* In *interactive* context: the global variable is assigned.\n",
    "\n",
    "**Why this difference?**\n",
    "\n",
    "This difference is a result of both community wants, and the way interactive and non-interactive contexts are used differently. In a non-interactive context, such as a script that we import, we don't necessarily want to interact with variables assigned within this script. Usually, non-interactive contexts are sets of functions that we import or include in a script. In interactive contexts, we usually directly interact with the variables we define. An example illustrates this difference nicely:\n"
   ]
  },
  {
   "cell_type": "markdown",
   "metadata": {},
   "source": [
    "In an interactive context, code like the one below is not uncommon to encounter:"
   ]
  },
  {
   "cell_type": "code",
   "execution_count": 32,
   "metadata": {},
   "outputs": [
    {
     "name": "stdout",
     "output_type": "stream",
     "text": [
      "13\n"
     ]
    }
   ],
   "source": [
    "x = 3\n",
    "for i in 1:10\n",
    "  x = x + 1\n",
    "end\n",
    "println(x)"
   ]
  },
  {
   "cell_type": "markdown",
   "metadata": {},
   "source": [
    "However, when we look at the difference in scoping, if `for` defined a hard scope, the `x` defined within the for-loop would not modify the globally defined `x`. But to make life easier for people, Julia implicitly assumes that this is something you want to do in an interactive context, and behaves that way. However, in a non-interactive context, such as a file you import, the code above is something you would only want to encounter *within* a function, so *within* a **local scope**, instead of a global scope. Let's see what happens if we include a julia file, where a for-loop modifies a global variable."
   ]
  },
  {
   "cell_type": "code",
   "execution_count": 39,
   "metadata": {},
   "outputs": [
    {
     "name": "stderr",
     "output_type": "stream",
     "text": [
      "┌ Warning: Assignment to `x` in soft scope is ambiguous because a global variable by the same name exists: `x` will be treated as a new local. Disambiguate by using `local x` to suppress this warning or `global x` to assign to the existing global variable.\n",
      "└ @ nothing string:3\n"
     ]
    },
    {
     "data": {
      "text/plain": [
       "LoadError(\"string\", 2, UndefVarError(:x))"
      ]
     },
     "metadata": {},
     "output_type": "display_data"
    }
   ],
   "source": [
    "code = \"\"\"\n",
    "  x = 3\n",
    "  for i in 1:10\n",
    "    x = x + 1\n",
    "  end\n",
    "  println(x)\n",
    "\"\"\"\n",
    "\n",
    "# This is going to error, so I put it in a try-catch statement\n",
    "try\n",
    "  include_string(Main, code)\n",
    "catch e\n",
    "  e\n",
    "end"
   ]
  },
  {
   "cell_type": "markdown",
   "metadata": {},
   "source": [
    "So now let's analyze what happens in the code we just wrote:\n",
    "1. We assign a global `x`\n",
    "2. We start a for-loop, constructing a soft local scope\n",
    "3. We reassign `x` to be `x+1`, defining `x` as a new local\n",
    "4. We then move to the next run of the for-loop, where `x = x + 1` errors, because the compiler assumed we would add 1 to the global `x`, but `x` is now local, and is therefore undefined.\n",
    "\n",
    "This seems inconvenient, but see what happens if we import this as a function:"
   ]
  },
  {
   "cell_type": "code",
   "execution_count": 40,
   "metadata": {},
   "outputs": [
    {
     "data": {
      "text/plain": [
       "13"
      ]
     },
     "metadata": {},
     "output_type": "display_data"
    }
   ],
   "source": [
    "code = \"\"\"\n",
    "  function add_to_three(n)\n",
    "    x = 3\n",
    "    for i in 1:n\n",
    "      x = x + 1\n",
    "    end\n",
    "    x\n",
    "  end\n",
    "\"\"\"\n",
    "\n",
    "include_string(Main, code)\n",
    "add_to_three(10)"
   ]
  },
  {
   "cell_type": "markdown",
   "metadata": {},
   "source": [
    "Now it works! This is because we defined `x` in a local scope. As `x` is already local, we can just modify its value. Therefore, when defining code in separate scripts, it is best practice to define functions or modules, to separate scopes! We can illustrate what could happen if you don't by explicitly indicating that we want to modify globals:"
   ]
  },
  {
   "cell_type": "code",
   "execution_count": 42,
   "metadata": {},
   "outputs": [],
   "source": [
    "# code we import\n",
    "code = \"\"\"\n",
    "  x = 3\n",
    "  for i in 1:10\n",
    "    global x = x + 1\n",
    "  end\n",
    "\"\"\";"
   ]
  },
  {
   "cell_type": "code",
   "execution_count": 43,
   "metadata": {},
   "outputs": [
    {
     "name": "stdout",
     "output_type": "stream",
     "text": [
      "13\n"
     ]
    }
   ],
   "source": [
    "# At the start of a long script\n",
    "x = 123\n",
    "include_string(Main, code)\n",
    "# .\n",
    "# .\n",
    "# .\n",
    "# below we finally use x\n",
    "println(x)"
   ]
  },
  {
   "cell_type": "markdown",
   "metadata": {},
   "source": [
    "We see that the include function modifies our globally defined `x = 123` to `x = 13`, but we can only see this if we explicitly look at the file that we import (which can be incredibly long as well). These things cause a lot of bugs and therefore the Julia developers determined this scoping behavior."
   ]
  },
  {
   "cell_type": "markdown",
   "metadata": {},
   "source": [
    "## The Package Manager (Pkg)\n",
    "\n",
    "Packages are a large component of any programming language, and large scale adaptation of a language for a specific purpose is strongly dependent on the availability of sufficient and useful packages. In Julia, the use of external code is facilitated through the package manager, or Pkg. From the Julia command line (REPL), you can access the package manager by pressing `]`. You will observe that `julia>` changes into `(<?>) pkg>` where <?> is the current environment that is loaded. \n",
    "\n",
    "### Project and Manifest files\n",
    "Pkg keeps track of all the project dependencies through the `Project.toml` and the `Manifest.toml` files. The `Project.toml` file is included in every Julia package and environment, and depicts the main dependencies of any environment. It also describes the different packages that can be loaded directly in Julia code in the environment. The project file also contains project metadata when developing packages, such as the authors and the package version. The manifest file is an automatically generated file that contains the *specific* environment state for the user. In general, you only share the `Project.toml` file when sharing code, while the manifest file is specific for the user. This contains the Julia version and all of the sub-dependencies of the packages available in the project.\n",
    "\n",
    "### The Global Environment\n",
    "When loading Pkg in a new Julia REPL, the global environment is automatically activated. This is visible as `(@v1.x)` where 1.x indicates the current Julia version. \n",
    "\n",
    "### Creating Environments\n",
    "To activate or create a new environment, you can navigate to your desired project folder, start up a Julia REPL in there (or use the cd() `Julia` command to navigate) and start Pkg by pressing `]`. You can then use the command `activate .` (with the dot to specify the current folder) to activate or create a new environment. To reactivate the global environment you can use `activate` without any other arguments.\n",
    "\n",
    "### Installing Packages\n",
    "Installing a package can be done with the `add` command, which will add the specific package to the `Project.toml` file and makes sure that the dependencies are installed and added to the `Manifest.toml` file. Removing packages can be done with the `rm` command.\n",
    "\n",
    "### Loading an Environment from a Project file\n",
    "To load and install all packages from a project file, start up a REPL in the folder containing the project-file, and open the package manager. Use the `instantiate` command to install the required packages.\n",
    "\n",
    "### Other Commands\n",
    "You can press `?` to view a list of all commands of Pkg, with a short explanation"
   ]
  },
  {
   "cell_type": "markdown",
   "metadata": {},
   "source": [
    "## Using Packages\n",
    "Installed packages can be used in Julia code with the `using` keyword to load all of the functions into the global namespace. In that case, you won't have to use the name of the package before every loaded function. You can also load (parts of) packages using the `import` keyword, but you will then have to use the name of the imported package before all used functions. In the current project-file, you can see that no package is loaded. However, we can already import some packages that are not imported by default, but are included in the Julia standard library. First, we activate and instantiate the current environment, which we can also do in a Julia script, instead of using the REPL."
   ]
  },
  {
   "cell_type": "code",
   "execution_count": null,
   "metadata": {},
   "outputs": [],
   "source": [
    "using Pkg # You can also load the package manager\n",
    "Pkg.activate(\".\")\n",
    "Pkg.instantiate()"
   ]
  },
  {
   "cell_type": "markdown",
   "metadata": {},
   "source": [
    "Now we can load the statistics package to use its functions. This package is currently included in the Standard Library, which means that we can use its functions once we import the package, and that we do not have to install the package separately. When developing a package, however, it is recommended to add the package to the Project-file using the `add` command anyway, to prevent future compatibility issues, in case the package is removed from the standard library in a newer version of Julia."
   ]
  },
  {
   "cell_type": "code",
   "execution_count": null,
   "metadata": {},
   "outputs": [],
   "source": [
    "using Statistics\n",
    "\n",
    "arr = [4., 1.5, 2.3, 1.]\n",
    "println(mean(arr))"
   ]
  },
  {
   "cell_type": "markdown",
   "metadata": {},
   "source": [
    "We can also use the import statement to load only specific functions, such as the determninant function from the LinearAlgebra package (also standard library)."
   ]
  },
  {
   "cell_type": "code",
   "execution_count": null,
   "metadata": {},
   "outputs": [],
   "source": [
    "import LinearAlgebra.det # Import the specific function from a library\n",
    "\n",
    "A = [1 2 3; 4 1 6; 7 8 1]\n",
    "det(A)"
   ]
  },
  {
   "cell_type": "markdown",
   "metadata": {},
   "source": [
    "In case we want a nonstandard package included in our project, we must first add it to our project using the package manager. However, in this case, the `Project.toml`-file already contains all the packages you will need in this tutorial. Therefore, the `instantiate()`-command will have made sure all of these packages are accessible and usable. For example, the nonstandard package `Plots.jl` can be loaded into this project without any problems, and this enables us to make figures."
   ]
  },
  {
   "cell_type": "code",
   "execution_count": 1,
   "metadata": {},
   "outputs": [
    {
     "data": {
      "image/png": "[encoded data removed]",
      "image/svg+xml": [
       "<?xml version=\"1.0\" encoding=\"utf-8\"?>\n",
       "<svg xmlns=\"http://www.w3.org/2000/svg\" xmlns:xlink=\"http://www.w3.org/1999/xlink\" width=\"600\" height=\"400\" viewBox=\"0 0 2400 1600\">\n",
       "<defs>\n",
       "  <clipPath id=\"clip590\">\n",
       "    <rect x=\"0\" y=\"0\" width=\"2400\" height=\"1600\"/>\n",
       "  </clipPath>\n",
       "</defs>\n",
       "<path clip-path=\"url(#clip590)\" d=\"M0 1600 L2400 1600 L2400 0 L0 0  Z\" fill=\"#ffffff\" fill-rule=\"evenodd\" fill-opacity=\"1\"/>\n",
       "<defs>\n",
       "  <clipPath id=\"clip591\">\n",
       "    <rect x=\"480\" y=\"0\" width=\"1681\" height=\"1600\"/>\n",
       "  </clipPath>\n",
       "</defs>\n",
       "<path clip-path=\"url(#clip590)\" d=\"M193.936 1486.45 L2352.76 1486.45 L2352.76 47.2441 L193.936 47.2441  Z\" fill=\"#ffffff\" fill-rule=\"evenodd\" fill-opacity=\"1\"/>\n",
       "<defs>\n",
       "  <clipPath id=\"clip592\">\n",
       "    <rect x=\"193\" y=\"47\" width=\"2160\" height=\"1440\"/>\n",
       "  </clipPath>\n",
       "</defs>\n",
       "<polyline clip-path=\"url(#clip592)\" style=\"stroke:#000000; stroke-linecap:round; stroke-linejoin:round; stroke-width:2; stroke-opacity:0.1; fill:none\" points=\"536.507,1486.45 536.507,47.2441 \"/>\n",
       "<polyline clip-path=\"url(#clip592)\" style=\"stroke:#000000; stroke-linecap:round; stroke-linejoin:round; stroke-width:2; stroke-opacity:0.1; fill:none\" points=\"1025.55,1486.45 1025.55,47.2441 \"/>\n",
       "<polyline clip-path=\"url(#clip592)\" style=\"stroke:#000000; stroke-linecap:round; stroke-linejoin:round; stroke-width:2; stroke-opacity:0.1; fill:none\" points=\"1514.59,1486.45 1514.59,47.2441 \"/>\n",
       "<polyline clip-path=\"url(#clip592)\" style=\"stroke:#000000; stroke-linecap:round; stroke-linejoin:round; stroke-width:2; stroke-opacity:0.1; fill:none\" points=\"2003.63,1486.45 2003.63,47.2441 \"/>\n",
       "<polyline clip-path=\"url(#clip590)\" style=\"stroke:#000000; stroke-linecap:round; stroke-linejoin:round; stroke-width:4; stroke-opacity:1; fill:none\" points=\"193.936,1486.45 2352.76,1486.45 \"/>\n",
       "<polyline clip-path=\"url(#clip590)\" style=\"stroke:#000000; stroke-linecap:round; stroke-linejoin:round; stroke-width:4; stroke-opacity:1; fill:none\" points=\"536.507,1486.45 536.507,1467.55 \"/>\n",
       "<polyline clip-path=\"url(#clip590)\" style=\"stroke:#000000; stroke-linecap:round; stroke-linejoin:round; stroke-width:4; stroke-opacity:1; fill:none\" points=\"1025.55,1486.45 1025.55,1467.55 \"/>\n",
       "<polyline clip-path=\"url(#clip590)\" style=\"stroke:#000000; stroke-linecap:round; stroke-linejoin:round; stroke-width:4; stroke-opacity:1; fill:none\" points=\"1514.59,1486.45 1514.59,1467.55 \"/>\n",
       "<polyline clip-path=\"url(#clip590)\" style=\"stroke:#000000; stroke-linecap:round; stroke-linejoin:round; stroke-width:4; stroke-opacity:1; fill:none\" points=\"2003.63,1486.45 2003.63,1467.55 \"/>\n",
       "<path clip-path=\"url(#clip590)\" d=\"M506.264 1532.02 L535.939 1532.02 L535.939 1535.95 L506.264 1535.95 L506.264 1532.02 Z\" fill=\"#000000\" fill-rule=\"nonzero\" fill-opacity=\"1\" /><path clip-path=\"url(#clip590)\" d=\"M546.842 1544.91 L554.481 1544.91 L554.481 1518.55 L546.171 1520.21 L546.171 1515.95 L554.435 1514.29 L559.111 1514.29 L559.111 1544.91 L566.749 1544.91 L566.749 1548.85 L546.842 1548.85 L546.842 1544.91 Z\" fill=\"#000000\" fill-rule=\"nonzero\" fill-opacity=\"1\" /><path clip-path=\"url(#clip590)\" d=\"M1025.55 1517.37 Q1021.94 1517.37 1020.11 1520.93 Q1018.3 1524.47 1018.3 1531.6 Q1018.3 1538.71 1020.11 1542.27 Q1021.94 1545.82 1025.55 1545.82 Q1029.18 1545.82 1030.99 1542.27 Q1032.82 1538.71 1032.82 1531.6 Q1032.82 1524.47 1030.99 1520.93 Q1029.18 1517.37 1025.55 1517.37 M1025.55 1513.66 Q1031.36 1513.66 1034.41 1518.27 Q1037.49 1522.85 1037.49 1531.6 Q1037.49 1540.33 1034.41 1544.94 Q1031.36 1549.52 1025.55 1549.52 Q1019.74 1549.52 1016.66 1544.94 Q1013.6 1540.33 1013.6 1531.6 Q1013.6 1522.85 1016.66 1518.27 Q1019.74 1513.66 1025.55 1513.66 Z\" fill=\"#000000\" fill-rule=\"nonzero\" fill-opacity=\"1\" /><path clip-path=\"url(#clip590)\" d=\"M1504.97 1544.91 L1512.61 1544.91 L1512.61 1518.55 L1504.3 1520.21 L1504.3 1515.95 L1512.56 1514.29 L1517.24 1514.29 L1517.24 1544.91 L1524.88 1544.91 L1524.88 1548.85 L1504.97 1548.85 L1504.97 1544.91 Z\" fill=\"#000000\" fill-rule=\"nonzero\" fill-opacity=\"1\" /><path clip-path=\"url(#clip590)\" d=\"M1998.28 1544.91 L2014.6 1544.91 L2014.6 1548.85 L1992.66 1548.85 L1992.66 1544.91 Q1995.32 1542.16 1999.9 1537.53 Q2004.51 1532.88 2005.69 1531.53 Q2007.93 1529.01 2008.81 1527.27 Q2009.72 1525.51 2009.72 1523.82 Q2009.72 1521.07 2007.77 1519.33 Q2005.85 1517.6 2002.75 1517.6 Q2000.55 1517.6 1998.1 1518.36 Q1995.67 1519.13 1992.89 1520.68 L1992.89 1515.95 Q1995.71 1514.82 1998.17 1514.24 Q2000.62 1513.66 2002.66 1513.66 Q2008.03 1513.66 2011.22 1516.35 Q2014.42 1519.03 2014.42 1523.52 Q2014.42 1525.65 2013.61 1527.57 Q2012.82 1529.47 2010.71 1532.07 Q2010.13 1532.74 2007.03 1535.95 Q2003.93 1539.15 1998.28 1544.91 Z\" fill=\"#000000\" fill-rule=\"nonzero\" fill-opacity=\"1\" /><polyline clip-path=\"url(#clip592)\" style=\"stroke:#000000; stroke-linecap:round; stroke-linejoin:round; stroke-width:2; stroke-opacity:0.1; fill:none\" points=\"193.936,1325.36 2352.76,1325.36 \"/>\n",
       "<polyline clip-path=\"url(#clip592)\" style=\"stroke:#000000; stroke-linecap:round; stroke-linejoin:round; stroke-width:2; stroke-opacity:0.1; fill:none\" points=\"193.936,1129.37 2352.76,1129.37 \"/>\n",
       "<polyline clip-path=\"url(#clip592)\" style=\"stroke:#000000; stroke-linecap:round; stroke-linejoin:round; stroke-width:2; stroke-opacity:0.1; fill:none\" points=\"193.936,933.378 2352.76,933.378 \"/>\n",
       "<polyline clip-path=\"url(#clip592)\" style=\"stroke:#000000; stroke-linecap:round; stroke-linejoin:round; stroke-width:2; stroke-opacity:0.1; fill:none\" points=\"193.936,737.385 2352.76,737.385 \"/>\n",
       "<polyline clip-path=\"url(#clip592)\" style=\"stroke:#000000; stroke-linecap:round; stroke-linejoin:round; stroke-width:2; stroke-opacity:0.1; fill:none\" points=\"193.936,541.393 2352.76,541.393 \"/>\n",
       "<polyline clip-path=\"url(#clip592)\" style=\"stroke:#000000; stroke-linecap:round; stroke-linejoin:round; stroke-width:2; stroke-opacity:0.1; fill:none\" points=\"193.936,345.4 2352.76,345.4 \"/>\n",
       "<polyline clip-path=\"url(#clip592)\" style=\"stroke:#000000; stroke-linecap:round; stroke-linejoin:round; stroke-width:2; stroke-opacity:0.1; fill:none\" points=\"193.936,149.407 2352.76,149.407 \"/>\n",
       "<polyline clip-path=\"url(#clip590)\" style=\"stroke:#000000; stroke-linecap:round; stroke-linejoin:round; stroke-width:4; stroke-opacity:1; fill:none\" points=\"193.936,1486.45 193.936,47.2441 \"/>\n",
       "<polyline clip-path=\"url(#clip590)\" style=\"stroke:#000000; stroke-linecap:round; stroke-linejoin:round; stroke-width:4; stroke-opacity:1; fill:none\" points=\"193.936,1325.36 212.834,1325.36 \"/>\n",
       "<polyline clip-path=\"url(#clip590)\" style=\"stroke:#000000; stroke-linecap:round; stroke-linejoin:round; stroke-width:4; stroke-opacity:1; fill:none\" points=\"193.936,1129.37 212.834,1129.37 \"/>\n",
       "<polyline clip-path=\"url(#clip590)\" style=\"stroke:#000000; stroke-linecap:round; stroke-linejoin:round; stroke-width:4; stroke-opacity:1; fill:none\" points=\"193.936,933.378 212.834,933.378 \"/>\n",
       "<polyline clip-path=\"url(#clip590)\" style=\"stroke:#000000; stroke-linecap:round; stroke-linejoin:round; stroke-width:4; stroke-opacity:1; fill:none\" points=\"193.936,737.385 212.834,737.385 \"/>\n",
       "<polyline clip-path=\"url(#clip590)\" style=\"stroke:#000000; stroke-linecap:round; stroke-linejoin:round; stroke-width:4; stroke-opacity:1; fill:none\" points=\"193.936,541.393 212.834,541.393 \"/>\n",
       "<polyline clip-path=\"url(#clip590)\" style=\"stroke:#000000; stroke-linecap:round; stroke-linejoin:round; stroke-width:4; stroke-opacity:1; fill:none\" points=\"193.936,345.4 212.834,345.4 \"/>\n",
       "<polyline clip-path=\"url(#clip590)\" style=\"stroke:#000000; stroke-linecap:round; stroke-linejoin:round; stroke-width:4; stroke-opacity:1; fill:none\" points=\"193.936,149.407 212.834,149.407 \"/>\n",
       "<path clip-path=\"url(#clip590)\" d=\"M51.9875 1325.81 L81.6633 1325.81 L81.6633 1329.75 L51.9875 1329.75 L51.9875 1325.81 Z\" fill=\"#000000\" fill-rule=\"nonzero\" fill-opacity=\"1\" /><path clip-path=\"url(#clip590)\" d=\"M92.566 1338.71 L100.205 1338.71 L100.205 1312.34 L91.8947 1314.01 L91.8947 1309.75 L100.159 1308.08 L104.834 1308.08 L104.834 1338.71 L112.473 1338.71 L112.473 1342.64 L92.566 1342.64 L92.566 1338.71 Z\" fill=\"#000000\" fill-rule=\"nonzero\" fill-opacity=\"1\" /><path clip-path=\"url(#clip590)\" d=\"M121.918 1336.76 L126.802 1336.76 L126.802 1342.64 L121.918 1342.64 L121.918 1336.76 Z\" fill=\"#000000\" fill-rule=\"nonzero\" fill-opacity=\"1\" /><path clip-path=\"url(#clip590)\" d=\"M137.033 1308.08 L155.39 1308.08 L155.39 1312.02 L141.316 1312.02 L141.316 1320.49 Q142.334 1320.14 143.353 1319.98 Q144.371 1319.8 145.39 1319.8 Q151.177 1319.8 154.556 1322.97 Q157.936 1326.14 157.936 1331.56 Q157.936 1337.13 154.464 1340.24 Q150.992 1343.31 144.672 1343.31 Q142.496 1343.31 140.228 1342.94 Q137.982 1342.57 135.575 1341.83 L135.575 1337.13 Q137.658 1338.27 139.881 1338.82 Q142.103 1339.38 144.58 1339.38 Q148.584 1339.38 150.922 1337.27 Q153.26 1335.17 153.26 1331.56 Q153.26 1327.94 150.922 1325.84 Q148.584 1323.73 144.58 1323.73 Q142.705 1323.73 140.83 1324.15 Q138.978 1324.56 137.033 1325.44 L137.033 1308.08 Z\" fill=\"#000000\" fill-rule=\"nonzero\" fill-opacity=\"1\" /><path clip-path=\"url(#clip590)\" d=\"M50.9921 1129.82 L80.6679 1129.82 L80.6679 1133.76 L50.9921 1133.76 L50.9921 1129.82 Z\" fill=\"#000000\" fill-rule=\"nonzero\" fill-opacity=\"1\" /><path clip-path=\"url(#clip590)\" d=\"M91.5706 1142.72 L99.2095 1142.72 L99.2095 1116.35 L90.8993 1118.02 L90.8993 1113.76 L99.1632 1112.09 L103.839 1112.09 L103.839 1142.72 L111.478 1142.72 L111.478 1146.65 L91.5706 1146.65 L91.5706 1142.72 Z\" fill=\"#000000\" fill-rule=\"nonzero\" fill-opacity=\"1\" /><path clip-path=\"url(#clip590)\" d=\"M120.922 1140.77 L125.807 1140.77 L125.807 1146.65 L120.922 1146.65 L120.922 1140.77 Z\" fill=\"#000000\" fill-rule=\"nonzero\" fill-opacity=\"1\" /><path clip-path=\"url(#clip590)\" d=\"M145.992 1115.17 Q142.381 1115.17 140.552 1118.73 Q138.746 1122.28 138.746 1129.41 Q138.746 1136.51 140.552 1140.08 Q142.381 1143.62 145.992 1143.62 Q149.626 1143.62 151.431 1140.08 Q153.26 1136.51 153.26 1129.41 Q153.26 1122.28 151.431 1118.73 Q149.626 1115.17 145.992 1115.17 M145.992 1111.47 Q151.802 1111.47 154.857 1116.07 Q157.936 1120.66 157.936 1129.41 Q157.936 1138.13 154.857 1142.74 Q151.802 1147.32 145.992 1147.32 Q140.181 1147.32 137.103 1142.74 Q134.047 1138.13 134.047 1129.41 Q134.047 1120.66 137.103 1116.07 Q140.181 1111.47 145.992 1111.47 Z\" fill=\"#000000\" fill-rule=\"nonzero\" fill-opacity=\"1\" /><path clip-path=\"url(#clip590)\" d=\"M51.9875 933.829 L81.6633 933.829 L81.6633 937.765 L51.9875 937.765 L51.9875 933.829 Z\" fill=\"#000000\" fill-rule=\"nonzero\" fill-opacity=\"1\" /><path clip-path=\"url(#clip590)\" d=\"M101.756 919.177 Q98.1447 919.177 96.316 922.741 Q94.5104 926.283 94.5104 933.413 Q94.5104 940.519 96.316 944.084 Q98.1447 947.626 101.756 947.626 Q105.39 947.626 107.196 944.084 Q109.024 940.519 109.024 933.413 Q109.024 926.283 107.196 922.741 Q105.39 919.177 101.756 919.177 M101.756 915.473 Q107.566 915.473 110.621 920.079 Q113.7 924.663 113.7 933.413 Q113.7 942.14 110.621 946.746 Q107.566 951.329 101.756 951.329 Q95.9456 951.329 92.8669 946.746 Q89.8114 942.14 89.8114 933.413 Q89.8114 924.663 92.8669 920.079 Q95.9456 915.473 101.756 915.473 Z\" fill=\"#000000\" fill-rule=\"nonzero\" fill-opacity=\"1\" /><path clip-path=\"url(#clip590)\" d=\"M121.918 944.778 L126.802 944.778 L126.802 950.658 L121.918 950.658 L121.918 944.778 Z\" fill=\"#000000\" fill-rule=\"nonzero\" fill-opacity=\"1\" /><path clip-path=\"url(#clip590)\" d=\"M137.033 916.098 L155.39 916.098 L155.39 920.033 L141.316 920.033 L141.316 928.505 Q142.334 928.158 143.353 927.996 Q144.371 927.811 145.39 927.811 Q151.177 927.811 154.556 930.982 Q157.936 934.153 157.936 939.57 Q157.936 945.149 154.464 948.251 Q150.992 951.329 144.672 951.329 Q142.496 951.329 140.228 950.959 Q137.982 950.589 135.575 949.848 L135.575 945.149 Q137.658 946.283 139.881 946.839 Q142.103 947.394 144.58 947.394 Q148.584 947.394 150.922 945.288 Q153.26 943.181 153.26 939.57 Q153.26 935.959 150.922 933.853 Q148.584 931.746 144.58 931.746 Q142.705 931.746 140.83 932.163 Q138.978 932.579 137.033 933.459 L137.033 916.098 Z\" fill=\"#000000\" fill-rule=\"nonzero\" fill-opacity=\"1\" /><path clip-path=\"url(#clip590)\" d=\"M100.76 723.184 Q97.1493 723.184 95.3206 726.749 Q93.515 730.29 93.515 737.42 Q93.515 744.526 95.3206 748.091 Q97.1493 751.633 100.76 751.633 Q104.395 751.633 106.2 748.091 Q108.029 744.526 108.029 737.42 Q108.029 730.29 106.2 726.749 Q104.395 723.184 100.76 723.184 M100.76 719.48 Q106.571 719.48 109.626 724.087 Q112.705 728.67 112.705 737.42 Q112.705 746.147 109.626 750.753 Q106.571 755.337 100.76 755.337 Q94.9502 755.337 91.8715 750.753 Q88.816 746.147 88.816 737.42 Q88.816 728.67 91.8715 724.087 Q94.9502 719.48 100.76 719.48 Z\" fill=\"#000000\" fill-rule=\"nonzero\" fill-opacity=\"1\" /><path clip-path=\"url(#clip590)\" d=\"M120.922 748.786 L125.807 748.786 L125.807 754.665 L120.922 754.665 L120.922 748.786 Z\" fill=\"#000000\" fill-rule=\"nonzero\" fill-opacity=\"1\" /><path clip-path=\"url(#clip590)\" d=\"M145.992 723.184 Q142.381 723.184 140.552 726.749 Q138.746 730.29 138.746 737.42 Q138.746 744.526 140.552 748.091 Q142.381 751.633 145.992 751.633 Q149.626 751.633 151.431 748.091 Q153.26 744.526 153.26 737.42 Q153.26 730.29 151.431 726.749 Q149.626 723.184 145.992 723.184 M145.992 719.48 Q151.802 719.48 154.857 724.087 Q157.936 728.67 157.936 737.42 Q157.936 746.147 154.857 750.753 Q151.802 755.337 145.992 755.337 Q140.181 755.337 137.103 750.753 Q134.047 746.147 134.047 737.42 Q134.047 728.67 137.103 724.087 Q140.181 719.48 145.992 719.48 Z\" fill=\"#000000\" fill-rule=\"nonzero\" fill-opacity=\"1\" /><path clip-path=\"url(#clip590)\" d=\"M101.756 527.191 Q98.1447 527.191 96.316 530.756 Q94.5104 534.298 94.5104 541.427 Q94.5104 548.534 96.316 552.098 Q98.1447 555.64 101.756 555.64 Q105.39 555.64 107.196 552.098 Q109.024 548.534 109.024 541.427 Q109.024 534.298 107.196 530.756 Q105.39 527.191 101.756 527.191 M101.756 523.488 Q107.566 523.488 110.621 528.094 Q113.7 532.677 113.7 541.427 Q113.7 550.154 110.621 554.761 Q107.566 559.344 101.756 559.344 Q95.9456 559.344 92.8669 554.761 Q89.8114 550.154 89.8114 541.427 Q89.8114 532.677 92.8669 528.094 Q95.9456 523.488 101.756 523.488 Z\" fill=\"#000000\" fill-rule=\"nonzero\" fill-opacity=\"1\" /><path clip-path=\"url(#clip590)\" d=\"M121.918 552.793 L126.802 552.793 L126.802 558.673 L121.918 558.673 L121.918 552.793 Z\" fill=\"#000000\" fill-rule=\"nonzero\" fill-opacity=\"1\" /><path clip-path=\"url(#clip590)\" d=\"M137.033 524.113 L155.39 524.113 L155.39 528.048 L141.316 528.048 L141.316 536.52 Q142.334 536.173 143.353 536.011 Q144.371 535.825 145.39 535.825 Q151.177 535.825 154.556 538.997 Q157.936 542.168 157.936 547.585 Q157.936 553.163 154.464 556.265 Q150.992 559.344 144.672 559.344 Q142.496 559.344 140.228 558.973 Q137.982 558.603 135.575 557.862 L135.575 553.163 Q137.658 554.298 139.881 554.853 Q142.103 555.409 144.58 555.409 Q148.584 555.409 150.922 553.302 Q153.26 551.196 153.26 547.585 Q153.26 543.974 150.922 541.867 Q148.584 539.761 144.58 539.761 Q142.705 539.761 140.83 540.177 Q138.978 540.594 137.033 541.474 L137.033 524.113 Z\" fill=\"#000000\" fill-rule=\"nonzero\" fill-opacity=\"1\" /><path clip-path=\"url(#clip590)\" d=\"M91.5706 358.745 L99.2095 358.745 L99.2095 332.379 L90.8993 334.046 L90.8993 329.786 L99.1632 328.12 L103.839 328.12 L103.839 358.745 L111.478 358.745 L111.478 362.68 L91.5706 362.68 L91.5706 358.745 Z\" fill=\"#000000\" fill-rule=\"nonzero\" fill-opacity=\"1\" /><path clip-path=\"url(#clip590)\" d=\"M120.922 356.8 L125.807 356.8 L125.807 362.68 L120.922 362.68 L120.922 356.8 Z\" fill=\"#000000\" fill-rule=\"nonzero\" fill-opacity=\"1\" /><path clip-path=\"url(#clip590)\" d=\"M145.992 331.199 Q142.381 331.199 140.552 334.763 Q138.746 338.305 138.746 345.435 Q138.746 352.541 140.552 356.106 Q142.381 359.647 145.992 359.647 Q149.626 359.647 151.431 356.106 Q153.26 352.541 153.26 345.435 Q153.26 338.305 151.431 334.763 Q149.626 331.199 145.992 331.199 M145.992 327.495 Q151.802 327.495 154.857 332.101 Q157.936 336.685 157.936 345.435 Q157.936 354.161 154.857 358.768 Q151.802 363.351 145.992 363.351 Q140.181 363.351 137.103 358.768 Q134.047 354.161 134.047 345.435 Q134.047 336.685 137.103 332.101 Q140.181 327.495 145.992 327.495 Z\" fill=\"#000000\" fill-rule=\"nonzero\" fill-opacity=\"1\" /><path clip-path=\"url(#clip590)\" d=\"M92.566 162.752 L100.205 162.752 L100.205 136.386 L91.8947 138.053 L91.8947 133.794 L100.159 132.127 L104.834 132.127 L104.834 162.752 L112.473 162.752 L112.473 166.687 L92.566 166.687 L92.566 162.752 Z\" fill=\"#000000\" fill-rule=\"nonzero\" fill-opacity=\"1\" /><path clip-path=\"url(#clip590)\" d=\"M121.918 160.807 L126.802 160.807 L126.802 166.687 L121.918 166.687 L121.918 160.807 Z\" fill=\"#000000\" fill-rule=\"nonzero\" fill-opacity=\"1\" /><path clip-path=\"url(#clip590)\" d=\"M137.033 132.127 L155.39 132.127 L155.39 136.062 L141.316 136.062 L141.316 144.534 Q142.334 144.187 143.353 144.025 Q144.371 143.84 145.39 143.84 Q151.177 143.84 154.556 147.011 Q157.936 150.183 157.936 155.599 Q157.936 161.178 154.464 164.28 Q150.992 167.358 144.672 167.358 Q142.496 167.358 140.228 166.988 Q137.982 166.618 135.575 165.877 L135.575 161.178 Q137.658 162.312 139.881 162.868 Q142.103 163.423 144.58 163.423 Q148.584 163.423 150.922 161.317 Q153.26 159.21 153.26 155.599 Q153.26 151.988 150.922 149.882 Q148.584 147.775 144.58 147.775 Q142.705 147.775 140.83 148.192 Q138.978 148.608 137.033 149.488 L137.033 132.127 Z\" fill=\"#000000\" fill-rule=\"nonzero\" fill-opacity=\"1\" /><circle clip-path=\"url(#clip592)\" cx=\"2291.66\" cy=\"187.592\" r=\"14.4\" fill=\"#009af9\" fill-rule=\"evenodd\" fill-opacity=\"1\" stroke=\"#000000\" stroke-opacity=\"1\" stroke-width=\"3.2\"/>\n",
       "<circle clip-path=\"url(#clip592)\" cx=\"863.543\" cy=\"1445.72\" r=\"14.4\" fill=\"#009af9\" fill-rule=\"evenodd\" fill-opacity=\"1\" stroke=\"#000000\" stroke-opacity=\"1\" stroke-width=\"3.2\"/>\n",
       "<circle clip-path=\"url(#clip592)\" cx=\"456.713\" cy=\"706.766\" r=\"14.4\" fill=\"#009af9\" fill-rule=\"evenodd\" fill-opacity=\"1\" stroke=\"#000000\" stroke-opacity=\"1\" stroke-width=\"3.2\"/>\n",
       "<circle clip-path=\"url(#clip592)\" cx=\"1515.84\" cy=\"87.9763\" r=\"14.4\" fill=\"#009af9\" fill-rule=\"evenodd\" fill-opacity=\"1\" stroke=\"#000000\" stroke-opacity=\"1\" stroke-width=\"3.2\"/>\n",
       "<circle clip-path=\"url(#clip592)\" cx=\"1420.83\" cy=\"1089.98\" r=\"14.4\" fill=\"#009af9\" fill-rule=\"evenodd\" fill-opacity=\"1\" stroke=\"#000000\" stroke-opacity=\"1\" stroke-width=\"3.2\"/>\n",
       "<circle clip-path=\"url(#clip592)\" cx=\"1102.95\" cy=\"952.228\" r=\"14.4\" fill=\"#009af9\" fill-rule=\"evenodd\" fill-opacity=\"1\" stroke=\"#000000\" stroke-opacity=\"1\" stroke-width=\"3.2\"/>\n",
       "<circle clip-path=\"url(#clip592)\" cx=\"968.518\" cy=\"635.213\" r=\"14.4\" fill=\"#009af9\" fill-rule=\"evenodd\" fill-opacity=\"1\" stroke=\"#000000\" stroke-opacity=\"1\" stroke-width=\"3.2\"/>\n",
       "<circle clip-path=\"url(#clip592)\" cx=\"1156.65\" cy=\"708.58\" r=\"14.4\" fill=\"#009af9\" fill-rule=\"evenodd\" fill-opacity=\"1\" stroke=\"#000000\" stroke-opacity=\"1\" stroke-width=\"3.2\"/>\n",
       "<circle clip-path=\"url(#clip592)\" cx=\"1696.58\" cy=\"369.099\" r=\"14.4\" fill=\"#009af9\" fill-rule=\"evenodd\" fill-opacity=\"1\" stroke=\"#000000\" stroke-opacity=\"1\" stroke-width=\"3.2\"/>\n",
       "<circle clip-path=\"url(#clip592)\" cx=\"1006.82\" cy=\"733.905\" r=\"14.4\" fill=\"#009af9\" fill-rule=\"evenodd\" fill-opacity=\"1\" stroke=\"#000000\" stroke-opacity=\"1\" stroke-width=\"3.2\"/>\n",
       "<circle clip-path=\"url(#clip592)\" cx=\"255.035\" cy=\"765.432\" r=\"14.4\" fill=\"#009af9\" fill-rule=\"evenodd\" fill-opacity=\"1\" stroke=\"#000000\" stroke-opacity=\"1\" stroke-width=\"3.2\"/>\n",
       "<circle clip-path=\"url(#clip592)\" cx=\"2204.5\" cy=\"1314.66\" r=\"14.4\" fill=\"#009af9\" fill-rule=\"evenodd\" fill-opacity=\"1\" stroke=\"#000000\" stroke-opacity=\"1\" stroke-width=\"3.2\"/>\n",
       "<circle clip-path=\"url(#clip592)\" cx=\"1498.7\" cy=\"1179.56\" r=\"14.4\" fill=\"#009af9\" fill-rule=\"evenodd\" fill-opacity=\"1\" stroke=\"#000000\" stroke-opacity=\"1\" stroke-width=\"3.2\"/>\n",
       "<circle clip-path=\"url(#clip592)\" cx=\"902.578\" cy=\"448.599\" r=\"14.4\" fill=\"#009af9\" fill-rule=\"evenodd\" fill-opacity=\"1\" stroke=\"#000000\" stroke-opacity=\"1\" stroke-width=\"3.2\"/>\n",
       "<path clip-path=\"url(#clip590)\" d=\"M265.897 198.898 L534.209 198.898 L534.209 95.2176 L265.897 95.2176  Z\" fill=\"#ffffff\" fill-rule=\"evenodd\" fill-opacity=\"1\"/>\n",
       "<polyline clip-path=\"url(#clip590)\" style=\"stroke:#000000; stroke-linecap:round; stroke-linejoin:round; stroke-width:4; stroke-opacity:1; fill:none\" points=\"265.897,198.898 534.209,198.898 534.209,95.2176 265.897,95.2176 265.897,198.898 \"/>\n",
       "<circle clip-path=\"url(#clip590)\" cx=\"361.844\" cy=\"147.058\" r=\"20.48\" fill=\"#009af9\" fill-rule=\"evenodd\" fill-opacity=\"1\" stroke=\"#000000\" stroke-opacity=\"1\" stroke-width=\"4.55111\"/>\n",
       "<path clip-path=\"url(#clip590)\" d=\"M471.634 166.745 Q469.829 171.375 468.116 172.787 Q466.403 174.199 463.532 174.199 L460.13 174.199 L460.13 170.634 L462.63 170.634 Q464.389 170.634 465.361 169.8 Q466.333 168.967 467.514 165.865 L468.278 163.921 L457.792 138.412 L462.306 138.412 L470.407 158.689 L478.509 138.412 L483.023 138.412 L471.634 166.745 Z\" fill=\"#000000\" fill-rule=\"nonzero\" fill-opacity=\"1\" /><path clip-path=\"url(#clip590)\" d=\"M490.315 160.402 L497.954 160.402 L497.954 134.037 L489.643 135.703 L489.643 131.444 L497.907 129.778 L502.583 129.778 L502.583 160.402 L510.222 160.402 L510.222 164.338 L490.315 164.338 L490.315 160.402 Z\" fill=\"#000000\" fill-rule=\"nonzero\" fill-opacity=\"1\" /></svg>\n"
      ],
      "text/html": [
       "<?xml version=\"1.0\" encoding=\"utf-8\"?>\n",
       "<svg xmlns=\"http://www.w3.org/2000/svg\" xmlns:xlink=\"http://www.w3.org/1999/xlink\" width=\"600\" height=\"400\" viewBox=\"0 0 2400 1600\">\n",
       "<defs>\n",
       "  <clipPath id=\"clip640\">\n",
       "    <rect x=\"0\" y=\"0\" width=\"2400\" height=\"1600\"/>\n",
       "  </clipPath>\n",
       "</defs>\n",
       "<path clip-path=\"url(#clip640)\" d=\"M0 1600 L2400 1600 L2400 0 L0 0  Z\" fill=\"#ffffff\" fill-rule=\"evenodd\" fill-opacity=\"1\"/>\n",
       "<defs>\n",
       "  <clipPath id=\"clip641\">\n",
       "    <rect x=\"480\" y=\"0\" width=\"1681\" height=\"1600\"/>\n",
       "  </clipPath>\n",
       "</defs>\n",
       "<path clip-path=\"url(#clip640)\" d=\"M193.936 1486.45 L2352.76 1486.45 L2352.76 47.2441 L193.936 47.2441  Z\" fill=\"#ffffff\" fill-rule=\"evenodd\" fill-opacity=\"1\"/>\n",
       "<defs>\n",
       "  <clipPath id=\"clip642\">\n",
       "    <rect x=\"193\" y=\"47\" width=\"2160\" height=\"1440\"/>\n",
       "  </clipPath>\n",
       "</defs>\n",
       "<polyline clip-path=\"url(#clip642)\" style=\"stroke:#000000; stroke-linecap:round; stroke-linejoin:round; stroke-width:2; stroke-opacity:0.1; fill:none\" points=\"536.507,1486.45 536.507,47.2441 \"/>\n",
       "<polyline clip-path=\"url(#clip642)\" style=\"stroke:#000000; stroke-linecap:round; stroke-linejoin:round; stroke-width:2; stroke-opacity:0.1; fill:none\" points=\"1025.55,1486.45 1025.55,47.2441 \"/>\n",
       "<polyline clip-path=\"url(#clip642)\" style=\"stroke:#000000; stroke-linecap:round; stroke-linejoin:round; stroke-width:2; stroke-opacity:0.1; fill:none\" points=\"1514.59,1486.45 1514.59,47.2441 \"/>\n",
       "<polyline clip-path=\"url(#clip642)\" style=\"stroke:#000000; stroke-linecap:round; stroke-linejoin:round; stroke-width:2; stroke-opacity:0.1; fill:none\" points=\"2003.63,1486.45 2003.63,47.2441 \"/>\n",
       "<polyline clip-path=\"url(#clip640)\" style=\"stroke:#000000; stroke-linecap:round; stroke-linejoin:round; stroke-width:4; stroke-opacity:1; fill:none\" points=\"193.936,1486.45 2352.76,1486.45 \"/>\n",
       "<polyline clip-path=\"url(#clip640)\" style=\"stroke:#000000; stroke-linecap:round; stroke-linejoin:round; stroke-width:4; stroke-opacity:1; fill:none\" points=\"536.507,1486.45 536.507,1467.55 \"/>\n",
       "<polyline clip-path=\"url(#clip640)\" style=\"stroke:#000000; stroke-linecap:round; stroke-linejoin:round; stroke-width:4; stroke-opacity:1; fill:none\" points=\"1025.55,1486.45 1025.55,1467.55 \"/>\n",
       "<polyline clip-path=\"url(#clip640)\" style=\"stroke:#000000; stroke-linecap:round; stroke-linejoin:round; stroke-width:4; stroke-opacity:1; fill:none\" points=\"1514.59,1486.45 1514.59,1467.55 \"/>\n",
       "<polyline clip-path=\"url(#clip640)\" style=\"stroke:#000000; stroke-linecap:round; stroke-linejoin:round; stroke-width:4; stroke-opacity:1; fill:none\" points=\"2003.63,1486.45 2003.63,1467.55 \"/>\n",
       "<path clip-path=\"url(#clip640)\" d=\"M506.264 1532.02 L535.939 1532.02 L535.939 1535.95 L506.264 1535.95 L506.264 1532.02 Z\" fill=\"#000000\" fill-rule=\"nonzero\" fill-opacity=\"1\" /><path clip-path=\"url(#clip640)\" d=\"M546.842 1544.91 L554.481 1544.91 L554.481 1518.55 L546.171 1520.21 L546.171 1515.95 L554.435 1514.29 L559.111 1514.29 L559.111 1544.91 L566.749 1544.91 L566.749 1548.85 L546.842 1548.85 L546.842 1544.91 Z\" fill=\"#000000\" fill-rule=\"nonzero\" fill-opacity=\"1\" /><path clip-path=\"url(#clip640)\" d=\"M1025.55 1517.37 Q1021.94 1517.37 1020.11 1520.93 Q1018.3 1524.47 1018.3 1531.6 Q1018.3 1538.71 1020.11 1542.27 Q1021.94 1545.82 1025.55 1545.82 Q1029.18 1545.82 1030.99 1542.27 Q1032.82 1538.71 1032.82 1531.6 Q1032.82 1524.47 1030.99 1520.93 Q1029.18 1517.37 1025.55 1517.37 M1025.55 1513.66 Q1031.36 1513.66 1034.41 1518.27 Q1037.49 1522.85 1037.49 1531.6 Q1037.49 1540.33 1034.41 1544.94 Q1031.36 1549.52 1025.55 1549.52 Q1019.74 1549.52 1016.66 1544.94 Q1013.6 1540.33 1013.6 1531.6 Q1013.6 1522.85 1016.66 1518.27 Q1019.74 1513.66 1025.55 1513.66 Z\" fill=\"#000000\" fill-rule=\"nonzero\" fill-opacity=\"1\" /><path clip-path=\"url(#clip640)\" d=\"M1504.97 1544.91 L1512.61 1544.91 L1512.61 1518.55 L1504.3 1520.21 L1504.3 1515.95 L1512.56 1514.29 L1517.24 1514.29 L1517.24 1544.91 L1524.88 1544.91 L1524.88 1548.85 L1504.97 1548.85 L1504.97 1544.91 Z\" fill=\"#000000\" fill-rule=\"nonzero\" fill-opacity=\"1\" /><path clip-path=\"url(#clip640)\" d=\"M1998.28 1544.91 L2014.6 1544.91 L2014.6 1548.85 L1992.66 1548.85 L1992.66 1544.91 Q1995.32 1542.16 1999.9 1537.53 Q2004.51 1532.88 2005.69 1531.53 Q2007.93 1529.01 2008.81 1527.27 Q2009.72 1525.51 2009.72 1523.82 Q2009.72 1521.07 2007.77 1519.33 Q2005.85 1517.6 2002.75 1517.6 Q2000.55 1517.6 1998.1 1518.36 Q1995.67 1519.13 1992.89 1520.68 L1992.89 1515.95 Q1995.71 1514.82 1998.17 1514.24 Q2000.62 1513.66 2002.66 1513.66 Q2008.03 1513.66 2011.22 1516.35 Q2014.42 1519.03 2014.42 1523.52 Q2014.42 1525.65 2013.61 1527.57 Q2012.82 1529.47 2010.71 1532.07 Q2010.13 1532.74 2007.03 1535.95 Q2003.93 1539.15 1998.28 1544.91 Z\" fill=\"#000000\" fill-rule=\"nonzero\" fill-opacity=\"1\" /><polyline clip-path=\"url(#clip642)\" style=\"stroke:#000000; stroke-linecap:round; stroke-linejoin:round; stroke-width:2; stroke-opacity:0.1; fill:none\" points=\"193.936,1325.36 2352.76,1325.36 \"/>\n",
       "<polyline clip-path=\"url(#clip642)\" style=\"stroke:#000000; stroke-linecap:round; stroke-linejoin:round; stroke-width:2; stroke-opacity:0.1; fill:none\" points=\"193.936,1129.37 2352.76,1129.37 \"/>\n",
       "<polyline clip-path=\"url(#clip642)\" style=\"stroke:#000000; stroke-linecap:round; stroke-linejoin:round; stroke-width:2; stroke-opacity:0.1; fill:none\" points=\"193.936,933.378 2352.76,933.378 \"/>\n",
       "<polyline clip-path=\"url(#clip642)\" style=\"stroke:#000000; stroke-linecap:round; stroke-linejoin:round; stroke-width:2; stroke-opacity:0.1; fill:none\" points=\"193.936,737.385 2352.76,737.385 \"/>\n",
       "<polyline clip-path=\"url(#clip642)\" style=\"stroke:#000000; stroke-linecap:round; stroke-linejoin:round; stroke-width:2; stroke-opacity:0.1; fill:none\" points=\"193.936,541.393 2352.76,541.393 \"/>\n",
       "<polyline clip-path=\"url(#clip642)\" style=\"stroke:#000000; stroke-linecap:round; stroke-linejoin:round; stroke-width:2; stroke-opacity:0.1; fill:none\" points=\"193.936,345.4 2352.76,345.4 \"/>\n",
       "<polyline clip-path=\"url(#clip642)\" style=\"stroke:#000000; stroke-linecap:round; stroke-linejoin:round; stroke-width:2; stroke-opacity:0.1; fill:none\" points=\"193.936,149.407 2352.76,149.407 \"/>\n",
       "<polyline clip-path=\"url(#clip640)\" style=\"stroke:#000000; stroke-linecap:round; stroke-linejoin:round; stroke-width:4; stroke-opacity:1; fill:none\" points=\"193.936,1486.45 193.936,47.2441 \"/>\n",
       "<polyline clip-path=\"url(#clip640)\" style=\"stroke:#000000; stroke-linecap:round; stroke-linejoin:round; stroke-width:4; stroke-opacity:1; fill:none\" points=\"193.936,1325.36 212.834,1325.36 \"/>\n",
       "<polyline clip-path=\"url(#clip640)\" style=\"stroke:#000000; stroke-linecap:round; stroke-linejoin:round; stroke-width:4; stroke-opacity:1; fill:none\" points=\"193.936,1129.37 212.834,1129.37 \"/>\n",
       "<polyline clip-path=\"url(#clip640)\" style=\"stroke:#000000; stroke-linecap:round; stroke-linejoin:round; stroke-width:4; stroke-opacity:1; fill:none\" points=\"193.936,933.378 212.834,933.378 \"/>\n",
       "<polyline clip-path=\"url(#clip640)\" style=\"stroke:#000000; stroke-linecap:round; stroke-linejoin:round; stroke-width:4; stroke-opacity:1; fill:none\" points=\"193.936,737.385 212.834,737.385 \"/>\n",
       "<polyline clip-path=\"url(#clip640)\" style=\"stroke:#000000; stroke-linecap:round; stroke-linejoin:round; stroke-width:4; stroke-opacity:1; fill:none\" points=\"193.936,541.393 212.834,541.393 \"/>\n",
       "<polyline clip-path=\"url(#clip640)\" style=\"stroke:#000000; stroke-linecap:round; stroke-linejoin:round; stroke-width:4; stroke-opacity:1; fill:none\" points=\"193.936,345.4 212.834,345.4 \"/>\n",
       "<polyline clip-path=\"url(#clip640)\" style=\"stroke:#000000; stroke-linecap:round; stroke-linejoin:round; stroke-width:4; stroke-opacity:1; fill:none\" points=\"193.936,149.407 212.834,149.407 \"/>\n",
       "<path clip-path=\"url(#clip640)\" d=\"M51.9875 1325.81 L81.6633 1325.81 L81.6633 1329.75 L51.9875 1329.75 L51.9875 1325.81 Z\" fill=\"#000000\" fill-rule=\"nonzero\" fill-opacity=\"1\" /><path clip-path=\"url(#clip640)\" d=\"M92.566 1338.71 L100.205 1338.71 L100.205 1312.34 L91.8947 1314.01 L91.8947 1309.75 L100.159 1308.08 L104.834 1308.08 L104.834 1338.71 L112.473 1338.71 L112.473 1342.64 L92.566 1342.64 L92.566 1338.71 Z\" fill=\"#000000\" fill-rule=\"nonzero\" fill-opacity=\"1\" /><path clip-path=\"url(#clip640)\" d=\"M121.918 1336.76 L126.802 1336.76 L126.802 1342.64 L121.918 1342.64 L121.918 1336.76 Z\" fill=\"#000000\" fill-rule=\"nonzero\" fill-opacity=\"1\" /><path clip-path=\"url(#clip640)\" d=\"M137.033 1308.08 L155.39 1308.08 L155.39 1312.02 L141.316 1312.02 L141.316 1320.49 Q142.334 1320.14 143.353 1319.98 Q144.371 1319.8 145.39 1319.8 Q151.177 1319.8 154.556 1322.97 Q157.936 1326.14 157.936 1331.56 Q157.936 1337.13 154.464 1340.24 Q150.992 1343.31 144.672 1343.31 Q142.496 1343.31 140.228 1342.94 Q137.982 1342.57 135.575 1341.83 L135.575 1337.13 Q137.658 1338.27 139.881 1338.82 Q142.103 1339.38 144.58 1339.38 Q148.584 1339.38 150.922 1337.27 Q153.26 1335.17 153.26 1331.56 Q153.26 1327.94 150.922 1325.84 Q148.584 1323.73 144.58 1323.73 Q142.705 1323.73 140.83 1324.15 Q138.978 1324.56 137.033 1325.44 L137.033 1308.08 Z\" fill=\"#000000\" fill-rule=\"nonzero\" fill-opacity=\"1\" /><path clip-path=\"url(#clip640)\" d=\"M50.9921 1129.82 L80.6679 1129.82 L80.6679 1133.76 L50.9921 1133.76 L50.9921 1129.82 Z\" fill=\"#000000\" fill-rule=\"nonzero\" fill-opacity=\"1\" /><path clip-path=\"url(#clip640)\" d=\"M91.5706 1142.72 L99.2095 1142.72 L99.2095 1116.35 L90.8993 1118.02 L90.8993 1113.76 L99.1632 1112.09 L103.839 1112.09 L103.839 1142.72 L111.478 1142.72 L111.478 1146.65 L91.5706 1146.65 L91.5706 1142.72 Z\" fill=\"#000000\" fill-rule=\"nonzero\" fill-opacity=\"1\" /><path clip-path=\"url(#clip640)\" d=\"M120.922 1140.77 L125.807 1140.77 L125.807 1146.65 L120.922 1146.65 L120.922 1140.77 Z\" fill=\"#000000\" fill-rule=\"nonzero\" fill-opacity=\"1\" /><path clip-path=\"url(#clip640)\" d=\"M145.992 1115.17 Q142.381 1115.17 140.552 1118.73 Q138.746 1122.28 138.746 1129.41 Q138.746 1136.51 140.552 1140.08 Q142.381 1143.62 145.992 1143.62 Q149.626 1143.62 151.431 1140.08 Q153.26 1136.51 153.26 1129.41 Q153.26 1122.28 151.431 1118.73 Q149.626 1115.17 145.992 1115.17 M145.992 1111.47 Q151.802 1111.47 154.857 1116.07 Q157.936 1120.66 157.936 1129.41 Q157.936 1138.13 154.857 1142.74 Q151.802 1147.32 145.992 1147.32 Q140.181 1147.32 137.103 1142.74 Q134.047 1138.13 134.047 1129.41 Q134.047 1120.66 137.103 1116.07 Q140.181 1111.47 145.992 1111.47 Z\" fill=\"#000000\" fill-rule=\"nonzero\" fill-opacity=\"1\" /><path clip-path=\"url(#clip640)\" d=\"M51.9875 933.829 L81.6633 933.829 L81.6633 937.765 L51.9875 937.765 L51.9875 933.829 Z\" fill=\"#000000\" fill-rule=\"nonzero\" fill-opacity=\"1\" /><path clip-path=\"url(#clip640)\" d=\"M101.756 919.177 Q98.1447 919.177 96.316 922.741 Q94.5104 926.283 94.5104 933.413 Q94.5104 940.519 96.316 944.084 Q98.1447 947.626 101.756 947.626 Q105.39 947.626 107.196 944.084 Q109.024 940.519 109.024 933.413 Q109.024 926.283 107.196 922.741 Q105.39 919.177 101.756 919.177 M101.756 915.473 Q107.566 915.473 110.621 920.079 Q113.7 924.663 113.7 933.413 Q113.7 942.14 110.621 946.746 Q107.566 951.329 101.756 951.329 Q95.9456 951.329 92.8669 946.746 Q89.8114 942.14 89.8114 933.413 Q89.8114 924.663 92.8669 920.079 Q95.9456 915.473 101.756 915.473 Z\" fill=\"#000000\" fill-rule=\"nonzero\" fill-opacity=\"1\" /><path clip-path=\"url(#clip640)\" d=\"M121.918 944.778 L126.802 944.778 L126.802 950.658 L121.918 950.658 L121.918 944.778 Z\" fill=\"#000000\" fill-rule=\"nonzero\" fill-opacity=\"1\" /><path clip-path=\"url(#clip640)\" d=\"M137.033 916.098 L155.39 916.098 L155.39 920.033 L141.316 920.033 L141.316 928.505 Q142.334 928.158 143.353 927.996 Q144.371 927.811 145.39 927.811 Q151.177 927.811 154.556 930.982 Q157.936 934.153 157.936 939.57 Q157.936 945.149 154.464 948.251 Q150.992 951.329 144.672 951.329 Q142.496 951.329 140.228 950.959 Q137.982 950.589 135.575 949.848 L135.575 945.149 Q137.658 946.283 139.881 946.839 Q142.103 947.394 144.58 947.394 Q148.584 947.394 150.922 945.288 Q153.26 943.181 153.26 939.57 Q153.26 935.959 150.922 933.853 Q148.584 931.746 144.58 931.746 Q142.705 931.746 140.83 932.163 Q138.978 932.579 137.033 933.459 L137.033 916.098 Z\" fill=\"#000000\" fill-rule=\"nonzero\" fill-opacity=\"1\" /><path clip-path=\"url(#clip640)\" d=\"M100.76 723.184 Q97.1493 723.184 95.3206 726.749 Q93.515 730.29 93.515 737.42 Q93.515 744.526 95.3206 748.091 Q97.1493 751.633 100.76 751.633 Q104.395 751.633 106.2 748.091 Q108.029 744.526 108.029 737.42 Q108.029 730.29 106.2 726.749 Q104.395 723.184 100.76 723.184 M100.76 719.48 Q106.571 719.48 109.626 724.087 Q112.705 728.67 112.705 737.42 Q112.705 746.147 109.626 750.753 Q106.571 755.337 100.76 755.337 Q94.9502 755.337 91.8715 750.753 Q88.816 746.147 88.816 737.42 Q88.816 728.67 91.8715 724.087 Q94.9502 719.48 100.76 719.48 Z\" fill=\"#000000\" fill-rule=\"nonzero\" fill-opacity=\"1\" /><path clip-path=\"url(#clip640)\" d=\"M120.922 748.786 L125.807 748.786 L125.807 754.665 L120.922 754.665 L120.922 748.786 Z\" fill=\"#000000\" fill-rule=\"nonzero\" fill-opacity=\"1\" /><path clip-path=\"url(#clip640)\" d=\"M145.992 723.184 Q142.381 723.184 140.552 726.749 Q138.746 730.29 138.746 737.42 Q138.746 744.526 140.552 748.091 Q142.381 751.633 145.992 751.633 Q149.626 751.633 151.431 748.091 Q153.26 744.526 153.26 737.42 Q153.26 730.29 151.431 726.749 Q149.626 723.184 145.992 723.184 M145.992 719.48 Q151.802 719.48 154.857 724.087 Q157.936 728.67 157.936 737.42 Q157.936 746.147 154.857 750.753 Q151.802 755.337 145.992 755.337 Q140.181 755.337 137.103 750.753 Q134.047 746.147 134.047 737.42 Q134.047 728.67 137.103 724.087 Q140.181 719.48 145.992 719.48 Z\" fill=\"#000000\" fill-rule=\"nonzero\" fill-opacity=\"1\" /><path clip-path=\"url(#clip640)\" d=\"M101.756 527.191 Q98.1447 527.191 96.316 530.756 Q94.5104 534.298 94.5104 541.427 Q94.5104 548.534 96.316 552.098 Q98.1447 555.64 101.756 555.64 Q105.39 555.64 107.196 552.098 Q109.024 548.534 109.024 541.427 Q109.024 534.298 107.196 530.756 Q105.39 527.191 101.756 527.191 M101.756 523.488 Q107.566 523.488 110.621 528.094 Q113.7 532.677 113.7 541.427 Q113.7 550.154 110.621 554.761 Q107.566 559.344 101.756 559.344 Q95.9456 559.344 92.8669 554.761 Q89.8114 550.154 89.8114 541.427 Q89.8114 532.677 92.8669 528.094 Q95.9456 523.488 101.756 523.488 Z\" fill=\"#000000\" fill-rule=\"nonzero\" fill-opacity=\"1\" /><path clip-path=\"url(#clip640)\" d=\"M121.918 552.793 L126.802 552.793 L126.802 558.673 L121.918 558.673 L121.918 552.793 Z\" fill=\"#000000\" fill-rule=\"nonzero\" fill-opacity=\"1\" /><path clip-path=\"url(#clip640)\" d=\"M137.033 524.113 L155.39 524.113 L155.39 528.048 L141.316 528.048 L141.316 536.52 Q142.334 536.173 143.353 536.011 Q144.371 535.825 145.39 535.825 Q151.177 535.825 154.556 538.997 Q157.936 542.168 157.936 547.585 Q157.936 553.163 154.464 556.265 Q150.992 559.344 144.672 559.344 Q142.496 559.344 140.228 558.973 Q137.982 558.603 135.575 557.862 L135.575 553.163 Q137.658 554.298 139.881 554.853 Q142.103 555.409 144.58 555.409 Q148.584 555.409 150.922 553.302 Q153.26 551.196 153.26 547.585 Q153.26 543.974 150.922 541.867 Q148.584 539.761 144.58 539.761 Q142.705 539.761 140.83 540.177 Q138.978 540.594 137.033 541.474 L137.033 524.113 Z\" fill=\"#000000\" fill-rule=\"nonzero\" fill-opacity=\"1\" /><path clip-path=\"url(#clip640)\" d=\"M91.5706 358.745 L99.2095 358.745 L99.2095 332.379 L90.8993 334.046 L90.8993 329.786 L99.1632 328.12 L103.839 328.12 L103.839 358.745 L111.478 358.745 L111.478 362.68 L91.5706 362.68 L91.5706 358.745 Z\" fill=\"#000000\" fill-rule=\"nonzero\" fill-opacity=\"1\" /><path clip-path=\"url(#clip640)\" d=\"M120.922 356.8 L125.807 356.8 L125.807 362.68 L120.922 362.68 L120.922 356.8 Z\" fill=\"#000000\" fill-rule=\"nonzero\" fill-opacity=\"1\" /><path clip-path=\"url(#clip640)\" d=\"M145.992 331.199 Q142.381 331.199 140.552 334.763 Q138.746 338.305 138.746 345.435 Q138.746 352.541 140.552 356.106 Q142.381 359.647 145.992 359.647 Q149.626 359.647 151.431 356.106 Q153.26 352.541 153.26 345.435 Q153.26 338.305 151.431 334.763 Q149.626 331.199 145.992 331.199 M145.992 327.495 Q151.802 327.495 154.857 332.101 Q157.936 336.685 157.936 345.435 Q157.936 354.161 154.857 358.768 Q151.802 363.351 145.992 363.351 Q140.181 363.351 137.103 358.768 Q134.047 354.161 134.047 345.435 Q134.047 336.685 137.103 332.101 Q140.181 327.495 145.992 327.495 Z\" fill=\"#000000\" fill-rule=\"nonzero\" fill-opacity=\"1\" /><path clip-path=\"url(#clip640)\" d=\"M92.566 162.752 L100.205 162.752 L100.205 136.386 L91.8947 138.053 L91.8947 133.794 L100.159 132.127 L104.834 132.127 L104.834 162.752 L112.473 162.752 L112.473 166.687 L92.566 166.687 L92.566 162.752 Z\" fill=\"#000000\" fill-rule=\"nonzero\" fill-opacity=\"1\" /><path clip-path=\"url(#clip640)\" d=\"M121.918 160.807 L126.802 160.807 L126.802 166.687 L121.918 166.687 L121.918 160.807 Z\" fill=\"#000000\" fill-rule=\"nonzero\" fill-opacity=\"1\" /><path clip-path=\"url(#clip640)\" d=\"M137.033 132.127 L155.39 132.127 L155.39 136.062 L141.316 136.062 L141.316 144.534 Q142.334 144.187 143.353 144.025 Q144.371 143.84 145.39 143.84 Q151.177 143.84 154.556 147.011 Q157.936 150.183 157.936 155.599 Q157.936 161.178 154.464 164.28 Q150.992 167.358 144.672 167.358 Q142.496 167.358 140.228 166.988 Q137.982 166.618 135.575 165.877 L135.575 161.178 Q137.658 162.312 139.881 162.868 Q142.103 163.423 144.58 163.423 Q148.584 163.423 150.922 161.317 Q153.26 159.21 153.26 155.599 Q153.26 151.988 150.922 149.882 Q148.584 147.775 144.58 147.775 Q142.705 147.775 140.83 148.192 Q138.978 148.608 137.033 149.488 L137.033 132.127 Z\" fill=\"#000000\" fill-rule=\"nonzero\" fill-opacity=\"1\" /><circle clip-path=\"url(#clip642)\" cx=\"2291.66\" cy=\"187.592\" r=\"14.4\" fill=\"#009af9\" fill-rule=\"evenodd\" fill-opacity=\"1\" stroke=\"#000000\" stroke-opacity=\"1\" stroke-width=\"3.2\"/>\n",
       "<circle clip-path=\"url(#clip642)\" cx=\"863.543\" cy=\"1445.72\" r=\"14.4\" fill=\"#009af9\" fill-rule=\"evenodd\" fill-opacity=\"1\" stroke=\"#000000\" stroke-opacity=\"1\" stroke-width=\"3.2\"/>\n",
       "<circle clip-path=\"url(#clip642)\" cx=\"456.713\" cy=\"706.766\" r=\"14.4\" fill=\"#009af9\" fill-rule=\"evenodd\" fill-opacity=\"1\" stroke=\"#000000\" stroke-opacity=\"1\" stroke-width=\"3.2\"/>\n",
       "<circle clip-path=\"url(#clip642)\" cx=\"1515.84\" cy=\"87.9763\" r=\"14.4\" fill=\"#009af9\" fill-rule=\"evenodd\" fill-opacity=\"1\" stroke=\"#000000\" stroke-opacity=\"1\" stroke-width=\"3.2\"/>\n",
       "<circle clip-path=\"url(#clip642)\" cx=\"1420.83\" cy=\"1089.98\" r=\"14.4\" fill=\"#009af9\" fill-rule=\"evenodd\" fill-opacity=\"1\" stroke=\"#000000\" stroke-opacity=\"1\" stroke-width=\"3.2\"/>\n",
       "<circle clip-path=\"url(#clip642)\" cx=\"1102.95\" cy=\"952.228\" r=\"14.4\" fill=\"#009af9\" fill-rule=\"evenodd\" fill-opacity=\"1\" stroke=\"#000000\" stroke-opacity=\"1\" stroke-width=\"3.2\"/>\n",
       "<circle clip-path=\"url(#clip642)\" cx=\"968.518\" cy=\"635.213\" r=\"14.4\" fill=\"#009af9\" fill-rule=\"evenodd\" fill-opacity=\"1\" stroke=\"#000000\" stroke-opacity=\"1\" stroke-width=\"3.2\"/>\n",
       "<circle clip-path=\"url(#clip642)\" cx=\"1156.65\" cy=\"708.58\" r=\"14.4\" fill=\"#009af9\" fill-rule=\"evenodd\" fill-opacity=\"1\" stroke=\"#000000\" stroke-opacity=\"1\" stroke-width=\"3.2\"/>\n",
       "<circle clip-path=\"url(#clip642)\" cx=\"1696.58\" cy=\"369.099\" r=\"14.4\" fill=\"#009af9\" fill-rule=\"evenodd\" fill-opacity=\"1\" stroke=\"#000000\" stroke-opacity=\"1\" stroke-width=\"3.2\"/>\n",
       "<circle clip-path=\"url(#clip642)\" cx=\"1006.82\" cy=\"733.905\" r=\"14.4\" fill=\"#009af9\" fill-rule=\"evenodd\" fill-opacity=\"1\" stroke=\"#000000\" stroke-opacity=\"1\" stroke-width=\"3.2\"/>\n",
       "<circle clip-path=\"url(#clip642)\" cx=\"255.035\" cy=\"765.432\" r=\"14.4\" fill=\"#009af9\" fill-rule=\"evenodd\" fill-opacity=\"1\" stroke=\"#000000\" stroke-opacity=\"1\" stroke-width=\"3.2\"/>\n",
       "<circle clip-path=\"url(#clip642)\" cx=\"2204.5\" cy=\"1314.66\" r=\"14.4\" fill=\"#009af9\" fill-rule=\"evenodd\" fill-opacity=\"1\" stroke=\"#000000\" stroke-opacity=\"1\" stroke-width=\"3.2\"/>\n",
       "<circle clip-path=\"url(#clip642)\" cx=\"1498.7\" cy=\"1179.56\" r=\"14.4\" fill=\"#009af9\" fill-rule=\"evenodd\" fill-opacity=\"1\" stroke=\"#000000\" stroke-opacity=\"1\" stroke-width=\"3.2\"/>\n",
       "<circle clip-path=\"url(#clip642)\" cx=\"902.578\" cy=\"448.599\" r=\"14.4\" fill=\"#009af9\" fill-rule=\"evenodd\" fill-opacity=\"1\" stroke=\"#000000\" stroke-opacity=\"1\" stroke-width=\"3.2\"/>\n",
       "<path clip-path=\"url(#clip640)\" d=\"M265.897 198.898 L534.209 198.898 L534.209 95.2176 L265.897 95.2176  Z\" fill=\"#ffffff\" fill-rule=\"evenodd\" fill-opacity=\"1\"/>\n",
       "<polyline clip-path=\"url(#clip640)\" style=\"stroke:#000000; stroke-linecap:round; stroke-linejoin:round; stroke-width:4; stroke-opacity:1; fill:none\" points=\"265.897,198.898 534.209,198.898 534.209,95.2176 265.897,95.2176 265.897,198.898 \"/>\n",
       "<circle clip-path=\"url(#clip640)\" cx=\"361.844\" cy=\"147.058\" r=\"20.48\" fill=\"#009af9\" fill-rule=\"evenodd\" fill-opacity=\"1\" stroke=\"#000000\" stroke-opacity=\"1\" stroke-width=\"4.55111\"/>\n",
       "<path clip-path=\"url(#clip640)\" d=\"M471.634 166.745 Q469.829 171.375 468.116 172.787 Q466.403 174.199 463.532 174.199 L460.13 174.199 L460.13 170.634 L462.63 170.634 Q464.389 170.634 465.361 169.8 Q466.333 168.967 467.514 165.865 L468.278 163.921 L457.792 138.412 L462.306 138.412 L470.407 158.689 L478.509 138.412 L483.023 138.412 L471.634 166.745 Z\" fill=\"#000000\" fill-rule=\"nonzero\" fill-opacity=\"1\" /><path clip-path=\"url(#clip640)\" d=\"M490.315 160.402 L497.954 160.402 L497.954 134.037 L489.643 135.703 L489.643 131.444 L497.907 129.778 L502.583 129.778 L502.583 160.402 L510.222 160.402 L510.222 164.338 L490.315 164.338 L490.315 160.402 Z\" fill=\"#000000\" fill-rule=\"nonzero\" fill-opacity=\"1\" /></svg>\n"
      ]
     },
     "metadata": {},
     "output_type": "display_data"
    }
   ],
   "source": [
    "using Plots # load the Plots library\n",
    "using Random # load the random library (standard)\n",
    "\n",
    "x = randn(Float64, (14,))\n",
    "y = randn(Float64, (14,))\n",
    "scatter(x, y)"
   ]
  }
 ],
 "metadata": {
  "kernelspec": {
   "display_name": "Julia 1.9.0",
   "language": "julia",
   "name": "julia-1.9"
  },
  "language_info": {
   "file_extension": ".jl",
   "mimetype": "application/julia",
   "name": "julia",
   "version": "1.9.0"
  },
  "orig_nbformat": 4
 },
 "nbformat": 4,
 "nbformat_minor": 2
}
