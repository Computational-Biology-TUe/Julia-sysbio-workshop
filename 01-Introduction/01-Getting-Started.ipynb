{
 "cells": [
  {
   "attachments": {},
   "cell_type": "markdown",
   "metadata": {},
   "source": [
    "# Getting Started with Julia\n",
    "## Introduction to Julia\n",
    "\n",
    "Traditional scientific computing is heavily reliant on high-performance code, but with the rise of practical-but-slow languages, science heavily relies on specialized packages that often have a hidden set of \"machinery\" under the hood, to retain some of the execution speeds of high-performance languages, such as C and FORTRAN. The practicality of popular programming languages is a general result of their dynamic syntax, allowing for compact readable code, with minimal specification related to language requirements, such as static type specifications. Luckily, modern compiler technology can nearly completely compensate for the performance dips observed in dynamic languages like Python and Matlab. Julia is a compiled language that tries to fill this role. \n",
    "\n",
    "However, performance in Julia may be unintuitive in the beginning, as the compiler optimizations are not always directly clear, when moving from an interpreted language like Python. Sometimes, it is hard to easily grasp why code is slow in Julia. However, once you understand a little how the language works, through reading and your own experiments, you begin to appreciate the language features and choices that have been made. Then, writing fast code is easier than ever. Of course, you don't have to do this alone. The Julia documentation is extremely rich with examples and detailed explanations of sometimes abstract and hard to understand concepts. Furthermore, many scientists have taken it on to develop general packages that make working in Julia more pleasant, or add the functionality that you are used to in other languages.\n",
    "\n",
    "In this introduction, we will begin with some basic Julia features and explain different types. It is assumed that you have a working installation of Julia and that you have some experience with programming in general. We will illustrate Julia extensively by comparing this to Python, Matlab, and R, so some basic knowledge of at least one of these languages may be helpful.\n",
    "\n",
    "## Julia Jargon\n",
    "Some words you might encounter frequently in any Julia tutorial are listed here with a short explanation. The Julia command-line is the basis for most applications, and is named REPL (Read-Eval-Print-Loop). The package manager is called Pkg, which takes care of all of the dependencies and environments of your Julia code, to make sure everything keeps running smoothly, when using external code. The word dispatch is also frequently used, and refers to the specific implementation of a method for (a set of) input objects. You can, for example, dispatch a function on several different types, which means that you create several implementations of a function on these different types."
   ]
  },
  {
   "attachments": {},
   "cell_type": "markdown",
   "metadata": {},
   "source": [
    "## Variables and Types\n",
    "In Julia, values can be assigned to variables, similarly to Matlab and Python (the arrow-syntax of R is reserved for some other functionality we will get to later). The variable naming system is very flexible, and nearly all unicode (UTF-8) characters are allowed. For the Greek notation enthousiasts: you can use Greek letters in variable names, alongside some diacritic signs, such as hats; and sub- and superscripts. Below you can see an example of different variable names."
   ]
  },
  {
   "cell_type": "code",
   "execution_count": 1,
   "metadata": {},
   "outputs": [],
   "source": [
    "x = 1\n",
    "helloworld = \"Hello, World\"\n",
    "ξ = x + 2\n",
    "γρϵϵκ = \"Greek Letters\"\n",
    "ça_va = \"ça va bien\"; # semi-colon suppresses the final output to be printed"
   ]
  },
  {
   "cell_type": "markdown",
   "metadata": {},
   "source": [
    "---\n",
    "Exercise 1: \n",
    "---\n",
    "\n",
    "Try out defining some variables and see which character you can use, and how to use Greek letters in your variables. *(hint: use `\\<charname>` to view suggested characters and press `TAB` to insert the selected character.)*"
   ]
  },
  {
   "cell_type": "code",
   "execution_count": 2,
   "metadata": {},
   "outputs": [],
   "source": [
    "# Try it out yourself!"
   ]
  },
  {
   "cell_type": "markdown",
   "metadata": {},
   "source": [
    "---"
   ]
  },
  {
   "attachments": {},
   "cell_type": "markdown",
   "metadata": {},
   "source": [
    "### Chaining variable assignments\n",
    "As you can see, the variable system is a lot like other languages. However, more is possible. In Julia the '=' sign _binds_ a value to a variable name. We can also chain assignments, which is illustrated below."
   ]
  },
  {
   "cell_type": "code",
   "execution_count": 3,
   "metadata": {},
   "outputs": [
    {
     "data": {
      "text/plain": [
       "11"
      ]
     },
     "metadata": {},
     "output_type": "display_data"
    }
   ],
   "source": [
    "a = 3\n",
    "b = c = 2\n",
    "d = (e = a+2*b) + 4"
   ]
  },
  {
   "attachments": {},
   "cell_type": "markdown",
   "metadata": {},
   "source": [
    "From this piece of code, we can see that `d` has the value 11. We can deduce this as follows:\n",
    "1. `a = 3`: the value 3 is assigned to the name `a`\n",
    "2. `b = c = 2`: the value 2 is assigned to `c` and `b` is equal to `c`, giving it also the value 2\n",
    "3. `d = (e = a+2*b) + 4`: the value `a`+2*`b` is assigned to `e`, which equals 3+2*2 = 7. Then, `d` equals `e` + 4, which is 11."
   ]
  },
  {
   "attachments": {},
   "cell_type": "markdown",
   "metadata": {},
   "source": [
    "### Types I: The Basics\n",
    "In this subsection, we will discuss the basic type system of Julia. As the typing system is very extensive and may require additional components to fully grasp, we will discuss this throughout the tutorial, to make sure you have the necessary prerequisite information to easily understand different functionalities. The typing in its most basic form is very similar to the system used by the Python numpy package.\n",
    "\n",
    "Basic types in Julia are:\n",
    "\n",
    "**Integer Types**:\n",
    "`Int<x>` and `UInt<x>` where `<x>` is the number of bits of the integer, which can be 8, 16, 32, 64 and 128. Additionally, Julia has the `Bool` type, which has the values `false` and `true`.\n"
   ]
  },
  {
   "cell_type": "code",
   "execution_count": 4,
   "metadata": {},
   "outputs": [
    {
     "data": {
      "text/plain": [
       "Int64"
      ]
     },
     "metadata": {},
     "output_type": "display_data"
    }
   ],
   "source": [
    "someint = 10\n",
    "typeof(someint)"
   ]
  },
  {
   "attachments": {},
   "cell_type": "markdown",
   "metadata": {},
   "source": [
    "**Floating-point Types**:\n",
    "Julia has three floating point types, half-precision (16-bit), single-precision (32-bit), and double-precision (64-bit), which are named as `Float16`, `Float32`, and `Float64` respectively."
   ]
  },
  {
   "cell_type": "code",
   "execution_count": 5,
   "metadata": {},
   "outputs": [
    {
     "data": {
      "text/plain": [
       "Float64"
      ]
     },
     "metadata": {},
     "output_type": "display_data"
    }
   ],
   "source": [
    "afloat = 10.\n",
    "typeof(afloat)"
   ]
  },
  {
   "attachments": {},
   "cell_type": "markdown",
   "metadata": {},
   "source": [
    "Special floating-point values, which are `Inf` (infinity), `-Inf` (negative-infinity) and `NaN` (not a number). They are by default double precision, but can be made single- or half-precision by adding `32` or `16` to the names respectively. For example, a 32-bit infinity value can be `Inf32`. "
   ]
  },
  {
   "cell_type": "code",
   "execution_count": 6,
   "metadata": {},
   "outputs": [
    {
     "data": {
      "text/plain": [
       "Float16"
      ]
     },
     "metadata": {},
     "output_type": "display_data"
    }
   ],
   "source": [
    "typeof(Inf16)"
   ]
  },
  {
   "attachments": {},
   "cell_type": "markdown",
   "metadata": {},
   "source": [
    "\n",
    "**Char and Strings**\n",
    "In Julia, a character can be represented by `'x'`, so with single quotes. Strings are *always* represented with double quotes: `\"this can be a string\"`. Using single quotes for defining a string will raise an error. If you want to include double quotes in a string, you can do so by representing the full string in triple double quotes: `\"\"\"Adding \"quotes\" can be done like this\"\"\"`. "
   ]
  },
  {
   "cell_type": "code",
   "execution_count": 7,
   "metadata": {},
   "outputs": [
    {
     "name": "stdout",
     "output_type": "stream",
     "text": [
      "String\n",
      "Char\n"
     ]
    }
   ],
   "source": [
    "st = \"this is a string\"\n",
    "println(typeof(st))\n",
    "\n",
    "ch = 'c' # this is a character\n",
    "println(typeof(ch))"
   ]
  },
  {
   "cell_type": "markdown",
   "metadata": {},
   "source": [
    "**String concatenation**: An important difference between Julia, Python and Matlab is the way to combine strings. Observe the difference between the following Python and Matlab codes and their Julia equivalent in the cell below:\n",
    "\n",
    "**Python**:\n",
    "```python\n",
    "a = 'Hello, '\n",
    "b = 'world!'\n",
    "\n",
    "print(a + b)\n",
    "```\n",
    "\n",
    "**MATLAB**:\n",
    "```matlab\n",
    "a = 'Hello, ';\n",
    "b = 'world!';\n",
    "\n",
    "strcat(a, b)\n",
    "\n",
    "```"
   ]
  },
  {
   "cell_type": "code",
   "execution_count": 8,
   "metadata": {},
   "outputs": [
    {
     "name": "stdout",
     "output_type": "stream",
     "text": [
      "Hello, world!\n"
     ]
    }
   ],
   "source": [
    "# Julia\n",
    "a = \"Hello, \" # remember, double quotes only\n",
    "b = \"world!\"\n",
    "\n",
    "println(a*b) # string concatenation is done with * instead of + in Python or strcat in Matlab"
   ]
  },
  {
   "cell_type": "markdown",
   "metadata": {},
   "source": [
    "Similarly, string duplication, which is defined with `*` in Python, is done in Julia using `^` (raise to the power):"
   ]
  },
  {
   "cell_type": "code",
   "execution_count": 9,
   "metadata": {},
   "outputs": [
    {
     "data": {
      "text/plain": [
       "\"HoHoHo\""
      ]
     },
     "metadata": {},
     "output_type": "display_data"
    }
   ],
   "source": [
    "x = \"Ho\"\n",
    "\n",
    "x^3"
   ]
  },
  {
   "cell_type": "markdown",
   "metadata": {},
   "source": [
    "### Arrays\n",
    "An array in Julia is always of the type `Array{T, N}`, which is a parametric type. The `T` specifies the type of the contents of the array, while `N` indicates the dimensionality. Therefore, a 3D array and a vector (1D array) are different types in Julia. We also have two \"special\" array types, named `Vector{T}` and `Matrix{T}`. These are so-called aliases for the `Array{T, 1}` and `Array{T, 2}` types respectively, but they have been given special names because of their frequency of use. It is important to remember that `Array{T, 1}` and `Vector{T}` are *equivalent*, meaning that they are **not** different types. The same holds for matrices and 2D arrays.\n",
    "\n",
    "Julia vectors are **ALWAYS** columns. When defining a matrix with a singleton dimension, you'll find that it has the dimensions $1\\times n$, because this will be a row. This is opposite to Python, where single dimension arrays are rows.\n",
    "\n",
    "We can define different types of arrays as follows:"
   ]
  },
  {
   "cell_type": "code",
   "execution_count": 8,
   "metadata": {},
   "outputs": [
    {
     "data": {
      "text/plain": [
       "2×3 Matrix{Float64}:\n",
       " 1.0  1.2  4.3\n",
       " 2.0  2.2  8.3"
      ]
     },
     "metadata": {},
     "output_type": "display_data"
    }
   ],
   "source": [
    "## Defining Vectors:\n",
    "\n",
    "# commas: Vector{Float64}\n",
    "v1 = [1., 1.2, 4.3]\n",
    "\n",
    "# semicolons: Vector{Float64}\n",
    "v2 = [1.; 2.; 3.]\n",
    "\n",
    "# newlines: Vector{Float64}\n",
    "v3 = [\n",
    "  1.\n",
    "  2.\n",
    "  3.\n",
    "]\n",
    "\n",
    "## Defining Matrices\n",
    "\n",
    "# spaces: 1x3 Matrix{Float64}\n",
    "m1 = [1. 1.2 4.3]\n",
    "\n",
    "# combining spaces and newlines: 2x3 Matrix{Float64}\n",
    "m2 = [\n",
    "  1. 1.2 4.3\n",
    "  2. 2.2 8.3\n",
    "]\n",
    "\n",
    "# semicolons act as newlines\n",
    "m3 = [1. 1.2 4.3; 2. 2.2 8.3]"
   ]
  },
  {
   "cell_type": "markdown",
   "metadata": {},
   "source": [
    "**Watch out for the following:**"
   ]
  },
  {
   "cell_type": "code",
   "execution_count": 14,
   "metadata": {},
   "outputs": [
    {
     "data": {
      "text/plain": [
       "3×2 Matrix{Float64}:\n",
       " 1.0  3.0\n",
       " 2.0  4.0\n",
       " 3.0  5.0"
      ]
     },
     "metadata": {},
     "output_type": "display_data"
    }
   ],
   "source": [
    "# This is NOT a matrix, but a vector of vectors (not the same, because the dimensions are not enforced to be equal)\n",
    "not_a_matrix = [[1., 2., 3.], [3., 4., 5.]]\n",
    "\n",
    "# Because vectors are columns, adding a semicolon or newline will just concatenate the vectors to a large column\n",
    "also_not_a_matrix = [[1., 2., 3.]; [3., 4., 5.]]\n",
    "\n",
    "# Adding a space works, but note that you're now specifying column-by-column\n",
    "this_is_a_matrix = [[1., 2., 3.] [3., 4., 5.]]"
   ]
  },
  {
   "cell_type": "markdown",
   "metadata": {},
   "source": [
    "\n",
    "\n",
    "#### Indexing\n",
    "Indexing in Julia is done with `[]`, and according to Julia conventions, indexing starts at 1. However, this is not a hard rule to live by when using Julia. \n",
    "\n",
    "While this is not generally recommended, options exist to change the way you index. Examples in order of increasing absurdity:\n",
    "* [OffsetArrays.jl](https://github.com/JuliaArrays/OffsetArrays.jl) \n",
    "* [TwoBasedIndexing.jl](https://github.com/simonster/TwoBasedIndexing.jl) \n",
    "* [StarWarsArrays.jl](https://github.com/giordano/StarWarsArrays.jl)\n",
    "\n",
    "A quick comparison in indexing methods between programming Languages:\n",
    "\n",
    "|Operation | Python | MATLAB  | Julia | Output |\n",
    "|----------|--------|---------|-------|--------|\n",
    "| Defining a list | `a_list = [1, 2, 3, 4, 5]` | `a_list = [1 2 3 4 5]` | `a_list = [1, 2, 3, 4, 5]` | `[1, 2, 3, 4, 5]` |\n",
    "| Getting the third element | `a_list[2]` | `a_list(3)` | `a_list[3]` | `3` |\n",
    "| Getting the first two elements | `a_list[:2]` | `a_list(1:2)` | `a_list[1:2]` | `[1, 2]` |\n",
    "| Getting the second and third elements | `a_list[1:3]` | `a_list(2:3)` | `a_list[2:3]` | `[2,3]` |\n",
    "| Getting everything from the fourth element on | `a_list[3:]` | `a_list(4:end)` | `a_list[4:end]` | `[4, 5]` |\n",
    "\n",
    "We see that indexing rules are the same as in Matlab:\n",
    "1. Indexing starts at 1\n",
    "2. Slices include the start and the end\n",
    "3. Indexing ends at `end`"
   ]
  },
  {
   "attachments": {},
   "cell_type": "markdown",
   "metadata": {},
   "source": [
    "### Mutability\n",
    "Mutability in Julia is similar to Python. Vectors and Arrays are mutable by default. Tuples are immutable. Making the parallel to Python, Arrays are more-or-less equivalent to a combination between a Python list and a numpy array."
   ]
  },
  {
   "cell_type": "code",
   "execution_count": 10,
   "metadata": {},
   "outputs": [
    {
     "data": {
      "text/plain": [
       "3"
      ]
     },
     "metadata": {},
     "output_type": "display_data"
    }
   ],
   "source": [
    "# Integers are immutable\n",
    "a = 3\n",
    "b = a\n",
    "a += 2\n",
    "\n",
    "# even though we modify a, b remains unmodified\n",
    "b"
   ]
  },
  {
   "cell_type": "code",
   "execution_count": 11,
   "metadata": {},
   "outputs": [
    {
     "data": {
      "text/plain": [
       "1×3 Matrix{Int64}:\n",
       " 1  4  3"
      ]
     },
     "metadata": {},
     "output_type": "display_data"
    }
   ],
   "source": [
    "# Arrays and matrices are mutable\n",
    "c = [1 2 3]\n",
    "d = c\n",
    "# If we mutate an element of c, it also affects d\n",
    "c[2] = 4\n",
    "\n",
    "d"
   ]
  },
  {
   "cell_type": "markdown",
   "metadata": {},
   "source": [
    "---\n",
    "Exercise 2: \n",
    "---\n",
    "\n",
    "1. Check the mutability of different types.\n",
    "2. You can also check if two names point to the same (mutable) variable using `===`.  \n",
    "Use the `===` operator to verify that `d` and `c` indeed point to the same variable."
   ]
  },
  {
   "cell_type": "code",
   "execution_count": 12,
   "metadata": {},
   "outputs": [],
   "source": [
    "# Your turn!"
   ]
  },
  {
   "cell_type": "markdown",
   "metadata": {},
   "source": [
    "---"
   ]
  },
  {
   "attachments": {},
   "cell_type": "markdown",
   "metadata": {},
   "source": [
    "### Specifying Types\n",
    "An optional feature in Julia is specifying the types of each variable. While this may be a bit redundant in very basic code, such as the examples shown here, it can greatly benefit readability or ease-of-use in large complex code. We will dive into when you should specify types later, and just show that it is possible."
   ]
  },
  {
   "cell_type": "code",
   "execution_count": 13,
   "metadata": {},
   "outputs": [
    {
     "data": {
      "text/plain": [
       "true"
      ]
     },
     "metadata": {},
     "output_type": "display_data"
    }
   ],
   "source": [
    "# Types are specified\n",
    "specifiedint::Int64 = 3\n",
    "\n",
    "# Types are unspecified\n",
    "unspecifiedint = 4\n",
    "\n",
    "# Type specification can change how variables are printed. The bool 'int' type has values false(0) and true(1).\n",
    "yes::Bool = 1\n",
    "yes"
   ]
  },
  {
   "attachments": {},
   "cell_type": "markdown",
   "metadata": {},
   "source": [
    "## Functions\n",
    "Functions have a central role in the Julia programming language. Similarly to classes in C++ and Python, they form the backbone of _good_ Julia code. A defining feature called muliple dispatch increases their use and leads to innovative programming techniques. An extensive chapter will cover multiple dipatch later on. First let us show some ways of specifying functions. The most general way is through the `function` keyword."
   ]
  },
  {
   "cell_type": "code",
   "execution_count": 14,
   "metadata": {},
   "outputs": [
    {
     "data": {
      "text/plain": [
       "foo (generic function with 1 method)"
      ]
     },
     "metadata": {},
     "output_type": "display_data"
    }
   ],
   "source": [
    "# Specify a function\n",
    "function foo()\n",
    "    println(\"Hello, world!\")\n",
    "end"
   ]
  },
  {
   "attachments": {},
   "cell_type": "markdown",
   "metadata": {},
   "source": [
    "### Methods\n",
    "The output of the cell above shows 'foo (generic function with 1 method)'. This means that we have defined a function named \"foo\", and that there is one method coupled to this. We should therefore first clear up the difference between functions and methods. A _function_ is a specified, sometimes very general, procedure, such as \"Invert the position of the elements\". A _method_ is the specific implementation of this procedure, such as, if the input is a vector, the first element becomes the last, and so on. However, if the input is a multidimensional array, just saying \"invert the positions of the elements\" is too vague, and we need a different implementation that requires an additional argument, which specifies along which dimension we should invert the positions. The function is in this case the same, but the method is different.\n",
    "\n",
    "As it turns out, methods have a very important role in Julia. They have a similar role to class methods in object oriented programming languages. However, Julia is not object-oriented. Instead, it provides more freedom, as in an object-oriented language, a method is coupled to an object, defining the implementation of a function where the *first argument* is that object. In Julia, we can define methods for functions not only based on the first argument of a function call, but on the number of arguments and the types of any argument of a function. This is generally useful for mathematical operations, such as addition, where we cannot clearly distinguish one of the inputs that the function \"belongs to\". (In a + b, the + can belong to either a or b). In object-oriented languages, this is often difficult to solve, and leads to rules that define to which object a method belongs. In Julia, this is solved elegantly by removing the attachment of a method to an object, and making them stand by themselves.\n",
    "\n",
    "To view the methods of a function, we can use `methods(foo)`:"
   ]
  },
  {
   "cell_type": "code",
   "execution_count": 15,
   "metadata": {},
   "outputs": [
    {
     "data": {
      "text/html": [
       "# 1 method for generic function <b>foo</b> from \u001b[35mMain\u001b[39m:<ul><li> foo() in Main at <a href=\"https://github.com/Computational-Biology-TUe/Julia-sysbio-workshop/tree/9819a55a69ca22c8e4cb7374d9299b5b9afbfc87//01-Introduction/01-Getting-Started.ipynb#L2\" target=\"_blank\">/Users/max/TUe/Julia-sysbio-workshop/01-Introduction/01-Getting-Started.ipynb:2</a></li> </ul>"
      ],
      "text/plain": [
       "# 1 method for generic function \"foo\" from \u001b[35mMain\u001b[39m:\n",
       " [1] foo()\n",
       "\u001b[90m     @\u001b[39m \u001b[90m~/TUe/Julia-sysbio-workshop/01-Introduction/\u001b[39m\u001b[90m\u001b[4m01-Getting-Started.ipynb:2\u001b[24m\u001b[39m"
      ]
     },
     "metadata": {},
     "output_type": "display_data"
    }
   ],
   "source": [
    "methods(foo)"
   ]
  },
  {
   "cell_type": "markdown",
   "metadata": {},
   "source": [
    "### Alternative method of specifying functions\n",
    "Another way of specifying a function is as follows:"
   ]
  },
  {
   "cell_type": "code",
   "execution_count": 16,
   "metadata": {},
   "outputs": [
    {
     "data": {
      "text/plain": [
       "bar (generic function with 1 method)"
      ]
     },
     "metadata": {},
     "output_type": "display_data"
    }
   ],
   "source": [
    "bar() = println(\"Hello, world!\")"
   ]
  },
  {
   "cell_type": "markdown",
   "metadata": {},
   "source": [
    "Which we can make multi-line using `begin` and `end` statements."
   ]
  },
  {
   "cell_type": "code",
   "execution_count": 17,
   "metadata": {},
   "outputs": [
    {
     "data": {
      "text/plain": [
       "bar (generic function with 2 methods)"
      ]
     },
     "metadata": {},
     "output_type": "display_data"
    }
   ],
   "source": [
    "bar(x) = begin\n",
    "  println(\"Hello, $(x)\")\n",
    "  println(\"You are a $(typeof(x))\")\n",
    "end"
   ]
  },
  {
   "attachments": {},
   "cell_type": "markdown",
   "metadata": {},
   "source": [
    "### Function arguments\n",
    "Function arguments are separated into **positional** arguments, and **keyword** arguments. As the names say, positional arguments are interpreted based on their position in the function call, whereas keyword arguments are interpreted based on the argument names. Different from Python, specifying default values in Julia does not automatically convert a positional argument to a keyword argument. Instead, function signatures separate them using a semi-colon (`;`). We can add arguments as:\n",
    "`function name(args; kwargs)`"
   ]
  },
  {
   "cell_type": "code",
   "execution_count": 18,
   "metadata": {},
   "outputs": [
    {
     "data": {
      "text/plain": [
       "foo (generic function with 2 methods)"
      ]
     },
     "metadata": {},
     "output_type": "display_data"
    }
   ],
   "source": [
    "function foo(a)\n",
    "    println(\"Hello, $(a)\") # using the $ we can do string interpolation\n",
    "end"
   ]
  },
  {
   "attachments": {},
   "cell_type": "markdown",
   "metadata": {},
   "source": [
    "We now see that the 'foo' function has 2 methods, one with an argument, and one without. We can add a few more methods."
   ]
  },
  {
   "cell_type": "code",
   "execution_count": 19,
   "metadata": {},
   "outputs": [
    {
     "data": {
      "text/plain": [
       "foo (generic function with 4 methods)"
      ]
     },
     "metadata": {},
     "output_type": "display_data"
    }
   ],
   "source": [
    "function foo(a, b)\n",
    "    println(\"Hello, $(a), $(b)\")\n",
    "end\n",
    "\n",
    "function foo(a, b, c; d = 1)\n",
    "    for i = 1:d\n",
    "        println(\"Hello, $(a), $(b), I am $(c)\")\n",
    "    end\n",
    "end"
   ]
  },
  {
   "cell_type": "code",
   "execution_count": 20,
   "metadata": {},
   "outputs": [
    {
     "name": "stdout",
     "output_type": "stream",
     "text": [
      "Hello, You, nice to meet you, I am Julia\n",
      "Hello, You, nice to meet you, I am Julia\n",
      "Hello, You, nice to meet you, I am Julia\n",
      "Hello, You, nice to meet you, I am Julia\n"
     ]
    }
   ],
   "source": [
    "foo(\"You\", \"nice to meet you\", \"Julia\"; d = 4)"
   ]
  },
  {
   "attachments": {},
   "cell_type": "markdown",
   "metadata": {},
   "source": [
    "### Anonymous functions\n",
    "Julia also has the option to specify anonymous functions (officially named \"closures\") using the \"->\" notation. These functions can be assigned to variables as well."
   ]
  },
  {
   "cell_type": "code",
   "execution_count": 21,
   "metadata": {},
   "outputs": [
    {
     "data": {
      "text/plain": [
       "#12 (generic function with 1 method)"
      ]
     },
     "metadata": {},
     "output_type": "display_data"
    }
   ],
   "source": [
    "otherfunc = (x) -> 5*x"
   ]
  },
  {
   "attachments": {},
   "cell_type": "markdown",
   "metadata": {},
   "source": [
    "### Mathematical Operations are Functions\n",
    "Mathematical operations like addition, multiplication and so on are also functions, each with their methods. It might become evident that functions play a central role in Julia. Take for example, the addition operation. When we ask Julia to show the contents of this function, we see that it has many different methods. This is because of the many different combinations of types that can be specified to the function in general. A separate definition is given for adding two `Float64`s and adding a `Float64` to an `Int64`. This is the case for all operations. The Julia programming style is to favour separate dispatches over internal conversion, as from dispatching functions on various arguments, the types of the inputs and the corresponding output are often known at compile-time, and easily inferred, enabling the compiler to selectively compile and optimize the actually called variations of functions. "
   ]
  },
  {
   "cell_type": "code",
   "execution_count": 22,
   "metadata": {},
   "outputs": [
    {
     "data": {
      "text/plain": [
       "+ (generic function with 207 methods)"
      ]
     },
     "metadata": {},
     "output_type": "display_data"
    }
   ],
   "source": [
    "+"
   ]
  },
  {
   "attachments": {},
   "cell_type": "markdown",
   "metadata": {},
   "source": [
    "### Specifying Types of Function Arguments\n",
    "Similarly to specifying types, we can specify the types of function arguments. In this case, we define a function called `chop`, which has various implementations for different types. For positive integer inputs, it subtracts one. For zero, it returns zero, for negative integers, it throws an exception. For strings however, it cuts off the last character. The method itself is not necessarily important, neither is it very useful, but it suffices to provide a basic idea of what we call type dispatch."
   ]
  },
  {
   "cell_type": "code",
   "execution_count": 23,
   "metadata": {},
   "outputs": [
    {
     "data": {
      "text/plain": [
       "chop (generic function with 1 method)"
      ]
     },
     "metadata": {},
     "output_type": "display_data"
    }
   ],
   "source": [
    "# The first method of chop\n",
    "\n",
    "function chop(x::Int)\n",
    "    # This is a trick, using the short circuit property of the ||-operator: if the first entry is valid, the second will not be executed.\n",
    "    x ≥ 0 || throw(ArgumentError(\"Integer input of x = $(x) does not satisfy x ≥ 0. Please provide a valid input\")) \n",
    "\n",
    "    # Short for if x > 0, return x-1, else return x\n",
    "    return x > 0 ? x-1 : x\n",
    "end"
   ]
  },
  {
   "cell_type": "code",
   "execution_count": 24,
   "metadata": {},
   "outputs": [
    {
     "data": {
      "text/plain": [
       "chop (generic function with 2 methods)"
      ]
     },
     "metadata": {},
     "output_type": "display_data"
    }
   ],
   "source": [
    "# The second method of chop\n",
    "chop(x::String) = return x[1:end-1]"
   ]
  },
  {
   "attachments": {},
   "cell_type": "markdown",
   "metadata": {},
   "source": [
    "We can test the method easily."
   ]
  },
  {
   "cell_type": "code",
   "execution_count": 25,
   "metadata": {},
   "outputs": [
    {
     "data": {
      "text/plain": [
       "4"
      ]
     },
     "metadata": {},
     "output_type": "display_data"
    }
   ],
   "source": [
    "chop(5)"
   ]
  },
  {
   "cell_type": "code",
   "execution_count": 26,
   "metadata": {},
   "outputs": [
    {
     "data": {
      "text/plain": [
       "0"
      ]
     },
     "metadata": {},
     "output_type": "display_data"
    }
   ],
   "source": [
    "chop(0)"
   ]
  },
  {
   "cell_type": "code",
   "execution_count": 27,
   "metadata": {},
   "outputs": [
    {
     "data": {
      "text/plain": [
       "\"5\""
      ]
     },
     "metadata": {},
     "output_type": "display_data"
    }
   ],
   "source": [
    "chop(\"50\")"
   ]
  },
  {
   "attachments": {},
   "cell_type": "markdown",
   "metadata": {},
   "source": [
    "We see that it works as supposed for the conditions that were defined. Moreover, unlike Python, function argument types are checked, which means that an error will occur if we try to call `chop` on a `Float32`, for example."
   ]
  },
  {
   "cell_type": "markdown",
   "metadata": {},
   "source": [
    "---\n",
    "Exercise 3: \n",
    "---\n",
    "\n",
    "1. Inspect the methods of the `+` function to see what types this is defined for\n",
    "2. Add some more methods to the `chop` function\n",
    "3. Experiment with defining methods and using positional and keyword arguments to define a function with several methods."
   ]
  },
  {
   "cell_type": "code",
   "execution_count": 28,
   "metadata": {},
   "outputs": [],
   "source": [
    "# Experiment here!"
   ]
  },
  {
   "cell_type": "markdown",
   "metadata": {},
   "source": [
    "---"
   ]
  },
  {
   "attachments": {},
   "cell_type": "markdown",
   "metadata": {},
   "source": [
    "## Control Flow\n",
    "You may have seen a slight hint of this already, but our programs in Julia can also be composed of several control flow elements. The  components in Julia are:\n",
    "* conditional statements (if, else, elseif)\n",
    "* loops (for, while)\n",
    "* compounding (begin)\n",
    "* short-circuiting (&&, ||, chaining)\n",
    "* exception handling (try, catch, finally)\n",
    "* tasks or coroutines (yieldto)\n",
    "\n",
    "We will discuss all of them, except the last two, which are only mentioned for completeness, and are better discussed in a more advanced tutorial."
   ]
  },
  {
   "attachments": {},
   "cell_type": "markdown",
   "metadata": {},
   "source": [
    "### Conditional Statements and Loops\n",
    "In Julia, we can make conditional expressions using `if`, similarly to Python and Matlab. The syntax is generally equal to the current MATLAB syntax, requiring an `end` keyword to close the expression. Tabs do not have any syntactic meaning, and are generally only included for readability. The other keywords are `elseif` and `else`. An example:"
   ]
  },
  {
   "cell_type": "code",
   "execution_count": 29,
   "metadata": {},
   "outputs": [
    {
     "name": "stdout",
     "output_type": "stream",
     "text": [
      "Your input is 4, which is positive\n",
      "Your input is -12, which is negative\n",
      "Your input is 0, which is neither negative, nor positive\n",
      "Your input is 0, which is neither negative, nor positive\n"
     ]
    }
   ],
   "source": [
    "function conditions(x)\n",
    "\n",
    "    if x > 0\n",
    "        println(\"Your input is $(x), which is positive\")\n",
    "    elseif x < 0\n",
    "        println(\"Your input is $(x), which is negative\")\n",
    "    else\n",
    "        println(\"Your input is $(x), which is neither negative, nor positive\")\n",
    "    end\n",
    "end\n",
    "\n",
    "conditions(4)\n",
    "conditions(-12)\n",
    "conditions(0)\n",
    "conditions(-0)"
   ]
  },
  {
   "attachments": {},
   "cell_type": "markdown",
   "metadata": {},
   "source": [
    "An important difference between Julia, and Matlab & Python, is that the values in conditional expressions *must* be boolean, which means that the Pythonic way of checking if a list or string is empty through `if x` raises an error in Julia code. "
   ]
  },
  {
   "attachments": {},
   "cell_type": "markdown",
   "metadata": {},
   "source": [
    "#### Loops\n",
    "Loops are also syntactically similar to Matlab. We can use the `for` keyword to loop over a predefined set of values, and the `while` keyword to continue repetitive execution until some condition is met. We also close loops with `end`. The `for`-statement can have either the MATLAB or the Python syntax, so writing `for i = 1:10` is equal to writing `for i in 1:10` in terms of the resulting behavior. A small example is given."
   ]
  },
  {
   "cell_type": "code",
   "execution_count": 30,
   "metadata": {},
   "outputs": [
    {
     "name": "stdout",
     "output_type": "stream",
     "text": [
      "1, 2, 3, 4, 5, 6, 7, 8, 9, 10, \n",
      "1, 2, 3, 4, 5, 6, 7, 8, 9, 10, "
     ]
    }
   ],
   "source": [
    "for i = 1:10\n",
    "    print(\"$(i), \")\n",
    "end\n",
    "print(\"\\n\")\n",
    "for i in 1:10\n",
    "    print(\"$(i), \")\n",
    "end"
   ]
  },
  {
   "attachments": {},
   "cell_type": "markdown",
   "metadata": {},
   "source": [
    "Looping through indices of an array can also be done similarly to MATLAB in Python, but because Julia does not necessarily enforce users to adapt its 1-based index (and therefore allows users to change the way arrays or custom objects are indexed), Julia has the `eachindex()` expression to safely loop through all indices in an object."
   ]
  },
  {
   "cell_type": "code",
   "execution_count": 31,
   "metadata": {},
   "outputs": [
    {
     "name": "stdout",
     "output_type": "stream",
     "text": [
      "0.0\n",
      "10.0\n",
      "4.0\n",
      "102.0\n"
     ]
    }
   ],
   "source": [
    "arr = [0., 10., 4., 102.]\n",
    "for i in eachindex(arr)\n",
    "    println(arr[i])\n",
    "end"
   ]
  },
  {
   "attachments": {},
   "cell_type": "markdown",
   "metadata": {},
   "source": [
    "*Note: in older Julia code, you may sometimes encounter the `@inbounds for i in 1:length(x)` way of safe indexing. However, the `eachindex` style is preferred*"
   ]
  },
  {
   "attachments": {},
   "cell_type": "markdown",
   "metadata": {},
   "source": [
    "### Compounding\n",
    "Compound expressions can be created using the `begin` and `end` keywords, and act as a group of expressions that can be executed to yield a single result."
   ]
  },
  {
   "cell_type": "code",
   "execution_count": 32,
   "metadata": {},
   "outputs": [
    {
     "data": {
      "text/plain": [
       "2"
      ]
     },
     "metadata": {},
     "output_type": "display_data"
    }
   ],
   "source": [
    "z = begin\n",
    "    x = 3\n",
    "    y = 1\n",
    "    x-y\n",
    "end"
   ]
  },
  {
   "attachments": {},
   "cell_type": "markdown",
   "metadata": {},
   "source": [
    "A shorthand way of compounding is done using `;` in this way:"
   ]
  },
  {
   "cell_type": "code",
   "execution_count": 33,
   "metadata": {},
   "outputs": [
    {
     "data": {
      "text/plain": [
       "5"
      ]
     },
     "metadata": {},
     "output_type": "display_data"
    }
   ],
   "source": [
    "z = (x = 3; y = 2; x+y)"
   ]
  },
  {
   "attachments": {},
   "cell_type": "markdown",
   "metadata": {},
   "source": [
    "### Short-Circuit Evaluations\n",
    "This type of control flow has already been hinted at. In Julia, the expressions `||` and `&&` depict short-circuited versions of the `or` (`|`) and `and` (`&`) operations. This means that for `||`, the next expression is only executed if the preceding expressions are all `false`, and in `&&`, the next expressions are only executed if all preceding expressions evaluate to `true`. "
   ]
  },
  {
   "cell_type": "markdown",
   "metadata": {},
   "source": [
    "---\n",
    "Exercise 4:\n",
    "---\n",
    "Short-circuit evaluations can also be done to catch errors in functions.\n",
    "Inspect the function with two methods below.\n",
    "\n",
    "1. Modify the 'if-statement' control flow to a single-line short-circuit evaluation that has the same functionality\n",
    "2. Test out the implementation to see if it works."
   ]
  },
  {
   "cell_type": "code",
   "execution_count": 34,
   "metadata": {},
   "outputs": [
    {
     "data": {
      "text/plain": [
       "snake_stack (generic function with 2 methods)"
      ]
     },
     "metadata": {},
     "output_type": "display_data"
    }
   ],
   "source": [
    "\"\"\"\n",
    "  snake_stack(v1, v2, [vx...])\n",
    "\n",
    "Concatenates vectors v2 (and optionally more, specified in vx) to vector or matrix v1, reversing each concatenated vector if it belongs to an even column in the output matrix.\n",
    "\n",
    "# Arguments:\n",
    "```\n",
    "  v1::AbstractVecOrMat  : input vector or matrix\n",
    "  v2::AbstractVector    : vector to concatenate\n",
    "  [vx] (optional)       : other vectors to concatenate\n",
    "```\n",
    "Throws an ArgumentError if one of the vectors to concatenate does not match the dimension of concatenation, specified by size(v1, 1)\n",
    "\n",
    "# Examples\n",
    "\n",
    "```julia-repl\n",
    "julia> snake_stack([1,2,3], [4,5,6])\n",
    "1 6\n",
    "2 5\n",
    "3 4\n",
    "```\n",
    "\"\"\"\n",
    "function snake_stack(v1::AbstractVecOrMat, v2::AbstractVector)\n",
    "  if size(v1, 1) == size(v2, 1)\n",
    "    return size(v1, 2) % 2 == 0 ? [v1 v2] : [v1 reverse(v2)]\n",
    "  else\n",
    "    throw(ArgumentError(\"Concatenation dimensions of inputs are not equal: $(size(v1,1)) ≠ $(size(v2,1))\"))\n",
    "  end\n",
    "end\n",
    "\n",
    "function snake_stack(v1, v2, vx...)\n",
    "  snake_stack(snake_stack(v1, v2), vx...)\n",
    "end"
   ]
  },
  {
   "cell_type": "code",
   "execution_count": 35,
   "metadata": {},
   "outputs": [],
   "source": [
    "# Put your testing code here!"
   ]
  },
  {
   "cell_type": "markdown",
   "metadata": {},
   "source": [
    "---"
   ]
  },
  {
   "cell_type": "markdown",
   "metadata": {},
   "source": [
    "## Scope of Variables\n",
    "The scope of a variable is the region in the code where the variable can be accessed. Scoping avoids conflicts with naming of variables. In Julia, the scoping rules can seem slightly difficult at first. But there are good reasons for this behavior.\n",
    "\n",
    "Initially, Julia uses a so-called *lexical scope*, which is the most common scope paradigm in modern programming languages. This means that the scope of a variable is determined by its location in the written code, contrarily to *dynamic scope*, where a variable's scope is determined by the program's state during runtime. \n",
    "\n",
    "Now we can forget about this and just look at the scoping rules for Julia. Scopes are divided into two main categories: global and local. The global scope is the outermost scope in a Julia program, and is constructed by *modules*. Modules are not covered in this tutorial, as they are generally only used in package development, but all you need to know is that Julia variable definitions are always coupled to the module in which they are defined. While variables from other modules can be read, they can *only* be modified within the module where they are defined. Practically, this will not have a lot of consequences, but we can look at an example."
   ]
  },
  {
   "cell_type": "code",
   "execution_count": 36,
   "metadata": {},
   "outputs": [
    {
     "name": "stdout",
     "output_type": "stream",
     "text": [
      "4\n",
      "3\n"
     ]
    }
   ],
   "source": [
    "# define module\n",
    "module Foo\n",
    "  x = 3\n",
    "  foo() = x\n",
    "end\n",
    "\n",
    "# we can import the module\n",
    "using .Foo\n",
    "\n",
    "x = 4\n",
    "println(x)\n",
    "println(Foo.x)"
   ]
  },
  {
   "cell_type": "markdown",
   "metadata": {},
   "source": [
    "We can see from this example that even though we modify `x` in the outer global scope, the `x` defined within the global scope of the module `Foo` remains bound to its original value. If we want to modify the `x` within `Foo`, we could do:"
   ]
  },
  {
   "cell_type": "code",
   "execution_count": 37,
   "metadata": {},
   "outputs": [
    {
     "data": {
      "text/plain": [
       "7"
      ]
     },
     "metadata": {},
     "output_type": "display_data"
    }
   ],
   "source": [
    "Foo.x = 7\n",
    "Foo.foo()"
   ]
  },
  {
   "cell_type": "markdown",
   "metadata": {},
   "source": [
    "And we see that even the function `foo()` that just returns the global `x` returns the new value. In practice, each module has its own global scope. More on modules can be found in [the documentation](https://docs.julialang.org/en/v1/manual/modules/). Now, let's move on to the local scope.\n",
    "\n",
    "The lcoal scope is constructed by other block constructors such as `struct`, `for`, `while`, `macro`, among others. Blocks that do **not** define a new local scope are `begin`-blocks and `if`-blocks. Two types of local scopes exist: the hard local and the soft local. Hard local scopes are created by `do`-blocks, `let`-blocks, functions, comprehensions and generators, while loops, structs and `try`-blocks create soft local scopes. The difference between soft and hard local scopes is in the way they handle variable assignment when a global variable with the same name exists. \n",
    "\n",
    "### Hard Local\n",
    "If a global variable exists, and it a variable with the same name is assigned in a hard local scope, the global variable remains assigned in the global scope, and a new local variable with the same name is created. This does not lead to problems, because the local variable is not accessible in the global scope anyway. This can be illustrated:"
   ]
  },
  {
   "cell_type": "code",
   "execution_count": 38,
   "metadata": {},
   "outputs": [
    {
     "name": "stdout",
     "output_type": "stream",
     "text": [
      "z has the value 12\n",
      "y has the value 30\n"
     ]
    }
   ],
   "source": [
    "# we define y and z\n",
    "y = 30\n",
    "z = 12\n",
    "function dothis()\n",
    "  y = z + 2\n",
    "  return y\n",
    "end\n",
    "\n",
    "println(\"z has the value $(z)\")\n",
    "println(\"y has the value $(y)\")"
   ]
  },
  {
   "cell_type": "markdown",
   "metadata": {},
   "source": [
    "We see that even though we \"reassigned\" `y` within the function, this does not affect the global `y`. What is also apparent from this example is that we can read global variables from a local scope as well. This is a general rule, as inner scopes can **always** access variables from their outer scopes."
   ]
  },
  {
   "cell_type": "markdown",
   "metadata": {},
   "source": [
    "### Soft local\n",
    "The soft local scope is slightly more complicated, as its behavior differs based on the way code is executed. If a local variable is defined within a soft local scope, while a global variable exists, one of two things can happen:\n",
    "* In *non-interactive* context: an ambiguity warning is printed, and a new local is created in the scope of the assignment (same behavior as hard-local, but with a warning)\n",
    "* In *interactive* context: the global variable is assigned.\n",
    "\n",
    "**Why this difference?**\n",
    "\n",
    "This difference is a result of both community wants, and the way interactive and non-interactive contexts are used differently. In a non-interactive context, such as a script that we import, we don't necessarily want to interact with variables assigned within this script. Usually, non-interactive contexts are sets of functions that we import or include in a script. In interactive contexts, we usually directly interact with the variables we define. An example illustrates this difference nicely:\n"
   ]
  },
  {
   "cell_type": "markdown",
   "metadata": {},
   "source": [
    "In an interactive context, code like the one below is not uncommon to encounter:"
   ]
  },
  {
   "cell_type": "code",
   "execution_count": 39,
   "metadata": {},
   "outputs": [
    {
     "name": "stdout",
     "output_type": "stream",
     "text": [
      "13\n"
     ]
    }
   ],
   "source": [
    "x = 3\n",
    "for i in 1:10\n",
    "  x = x + 1\n",
    "end\n",
    "println(x)"
   ]
  },
  {
   "cell_type": "markdown",
   "metadata": {},
   "source": [
    "However, when we look at the difference in scoping, if `for` defined a hard scope, the `x` defined within the for-loop would not modify the globally defined `x`. But to make life easier for people, Julia implicitly assumes that this is something you want to do in an interactive context, and behaves that way. However, in a non-interactive context, such as a file you import, the code above is something you would only want to encounter *within* a function, so *within* a **local scope**, instead of a global scope. Let's see what happens if we include a julia file, where a for-loop modifies a global variable."
   ]
  },
  {
   "cell_type": "code",
   "execution_count": 40,
   "metadata": {},
   "outputs": [
    {
     "name": "stderr",
     "output_type": "stream",
     "text": [
      "┌ Warning: Assignment to `x` in soft scope is ambiguous because a global variable by the same name exists: `x` will be treated as a new local. Disambiguate by using `local x` to suppress this warning or `global x` to assign to the existing global variable.\n",
      "└ @ nothing string:3\n"
     ]
    },
    {
     "data": {
      "text/plain": [
       "LoadError(\"string\", 2, UndefVarError(:x))"
      ]
     },
     "metadata": {},
     "output_type": "display_data"
    }
   ],
   "source": [
    "code = \"\"\"\n",
    "  x = 3\n",
    "  for i in 1:10\n",
    "    x = x + 1\n",
    "  end\n",
    "  println(x)\n",
    "\"\"\"\n",
    "\n",
    "# This is going to error, so I put it in a try-catch statement\n",
    "try\n",
    "  include_string(Main, code)\n",
    "catch e\n",
    "  e\n",
    "end"
   ]
  },
  {
   "cell_type": "markdown",
   "metadata": {},
   "source": [
    "So now let's analyze what happens in the code we just wrote:\n",
    "1. We assign a global `x`\n",
    "2. We start a for-loop, constructing a soft local scope\n",
    "3. We reassign `x` to be `x+1`, defining `x` as a new local\n",
    "4. We then move to the next run of the for-loop, where `x = x + 1` errors, because the compiler assumed we would add 1 to the global `x`, but `x` is now local, and is therefore undefined.\n",
    "\n",
    "This seems inconvenient, but see what happens if we import this as a function:"
   ]
  },
  {
   "cell_type": "code",
   "execution_count": 41,
   "metadata": {},
   "outputs": [
    {
     "data": {
      "text/plain": [
       "13"
      ]
     },
     "metadata": {},
     "output_type": "display_data"
    }
   ],
   "source": [
    "code = \"\"\"\n",
    "  function add_to_three(n)\n",
    "    x = 3\n",
    "    for i in 1:n\n",
    "      x = x + 1\n",
    "    end\n",
    "    x\n",
    "  end\n",
    "\"\"\"\n",
    "\n",
    "include_string(Main, code)\n",
    "add_to_three(10)"
   ]
  },
  {
   "cell_type": "markdown",
   "metadata": {},
   "source": [
    "Now it works! This is because we defined `x` in a local scope. As `x` is already local, we can just modify its value. Therefore, when defining code in separate scripts, it is best practice to define functions or modules, to separate scopes! We can illustrate what could happen if you don't by explicitly indicating that we want to modify globals:"
   ]
  },
  {
   "cell_type": "code",
   "execution_count": 42,
   "metadata": {},
   "outputs": [],
   "source": [
    "# code we import\n",
    "code = \"\"\"\n",
    "  x = 3\n",
    "  for i in 1:10\n",
    "    global x = x + 1\n",
    "  end\n",
    "\"\"\";"
   ]
  },
  {
   "cell_type": "code",
   "execution_count": 43,
   "metadata": {},
   "outputs": [
    {
     "name": "stdout",
     "output_type": "stream",
     "text": [
      "13\n"
     ]
    }
   ],
   "source": [
    "# At the start of a long script\n",
    "x = 123\n",
    "include_string(Main, code)\n",
    "# .\n",
    "# .\n",
    "# .\n",
    "# below we finally use x\n",
    "println(x)"
   ]
  },
  {
   "cell_type": "markdown",
   "metadata": {},
   "source": [
    "We see that the include function modifies our globally defined `x = 123` to `x = 13`, but we can only see this if we explicitly look at the file that we import (which can be incredibly long as well). These things cause a lot of bugs and therefore the Julia developers determined this scoping behavior."
   ]
  },
  {
   "cell_type": "markdown",
   "metadata": {},
   "source": [
    "### Comparison with Python\n",
    "To conclude, a short comparison with Python. In Python, scoping only applies to classes, and each file has its own scope (from which elements have to be explicitly imported using `from <file> import <thing>`). This means that in loops, such as this while-loop below, we can define a new variable, which will be valid even when we exit the loop, while in Julia, this *local* variable is not valid anymore after the while loop ends. However, in Julia this only works in an interactive environment, of course, because otherwise we would get an ambiguity warning for `x`, followed by an error.\n",
    "\n",
    "Observe the following difference:"
   ]
  },
  {
   "cell_type": "markdown",
   "metadata": {},
   "source": [
    "#### Python\n",
    "```python\n",
    "\n",
    "x = 0\n",
    "while x < 3:\n",
    "  y = x\n",
    "  x = y + 1\n",
    "\n",
    "print(x) # 3 \n",
    "print(y) # 2\n",
    "```\n",
    "\n",
    "#### Julia\n",
    "```julia\n",
    "x = 0\n",
    "while x < 3\n",
    "  y = x # assign new 'local' y\n",
    "  x = y + 1 # soft-scope + interactive: x is already 'global', so assign to 'x'\n",
    "end\n",
    "\n",
    "println(x) # 3\n",
    "println(y) # ERROR: UndefVarError: `y` not defined \n",
    "```"
   ]
  },
  {
   "cell_type": "markdown",
   "metadata": {},
   "source": [
    "## The Package Manager (Pkg)\n",
    "\n",
    "Packages are a large component of any programming language, and large scale adaptation of a language for a specific purpose is strongly dependent on the availability of sufficient and useful packages. To illustrate the availability of packages in Julia, see the figure below to get an indication of packages available to Julia that are useful for biologists:\n",
    "\n",
    "![Julia Ecosystem](../figures/ecosystem.webp)\n",
    "*Figure from [Julia for Biologists](https://www.nature.com/articles/s41592-023-01832-z)*\n",
    "\n",
    "As you can see, there is already a **huge** amount of available packages (and new packages are being continuously developed!).\n",
    "\n",
    "\n",
    "In Julia, the use of external code is facilitated through the package manager, or Pkg. From the Julia command line (REPL), you can access the package manager by pressing `]`. You will observe that `julia>` changes into `(<?>) pkg>` where <?> is the current environment that is loaded. \n",
    "\n",
    "### Project and Manifest files\n",
    "Pkg keeps track of all the project dependencies through the `Project.toml` and the `Manifest.toml` files. The `Project.toml` file is included in every Julia package and environment, and depicts the main dependencies of any environment. It also describes the different packages that can be loaded directly in Julia code in the environment. The project file also contains project metadata when developing packages, such as the authors and the package version. The manifest file is an automatically generated file that contains the *specific* environment state for the user. In general, you only share the `Project.toml` file when sharing code, while the manifest file is specific for the user. This contains the Julia version and all of the sub-dependencies of the packages available in the project.\n",
    "\n",
    "### The Global Environment\n",
    "When loading Pkg in a new Julia REPL, the global environment is automatically activated. This is visible as `(@v1.x)` where 1.x indicates the current Julia version. \n",
    "\n",
    "### Creating Environments\n",
    "To activate or create a new environment, you can navigate to your desired project folder, start up a Julia REPL in there (or use the cd() `Julia` command to navigate) and start Pkg by pressing `]`. You can then use the command `activate .` (with the dot to specify the current folder) to activate or create a new environment. To reactivate the global environment you can use `activate` without any other arguments.\n",
    "\n",
    "### Installing Packages\n",
    "Installing a package can be done with the `add` command, which will add the specific package to the `Project.toml` file and makes sure that the dependencies are installed and added to the `Manifest.toml` file. Removing packages can be done with the `rm` command.\n",
    "\n",
    "### Loading an Environment from a Project file\n",
    "To load and install all packages from a project file, start up a REPL in the folder containing the project-file, and open the package manager. Use the `instantiate` command to install the required packages.\n",
    "\n",
    "### Other Commands\n",
    "You can press `?` to view a list of all commands of Pkg, with a short explanation"
   ]
  },
  {
   "cell_type": "markdown",
   "metadata": {},
   "source": [
    "## Using Packages\n",
    "Installed packages can be used in Julia code with the `using` keyword to load all of the functions into the global namespace. In that case, you won't have to use the name of the package before every loaded function. You can also load (parts of) packages using the `import` keyword, but you will then have to use the name of the imported package before all used functions. In the current project-file, you can see that no package is loaded. However, we can already import some packages that are not imported by default, but are included in the Julia standard library. First, we activate and instantiate the current environment, which we can also do in a Julia script, instead of using the REPL."
   ]
  },
  {
   "cell_type": "markdown",
   "metadata": {},
   "source": [
    "```julia\n",
    "using Pkg # You can also load the package manager\n",
    "Pkg.activate(\"../.\")\n",
    "Pkg.instantiate()\n",
    "```"
   ]
  },
  {
   "cell_type": "markdown",
   "metadata": {},
   "source": [
    "Now we can load the statistics package to use its functions. This package is currently included in the Standard Library, which means that we can use its functions once we import the package, and that we do not have to install the package separately. When developing a package, however, it is recommended to add the package to the Project-file using the `add` command anyway, to prevent future compatibility issues, in case the package is removed from the standard library in a newer version of Julia."
   ]
  },
  {
   "cell_type": "code",
   "execution_count": 44,
   "metadata": {},
   "outputs": [
    {
     "name": "stdout",
     "output_type": "stream",
     "text": [
      "2.2\n"
     ]
    }
   ],
   "source": [
    "using Statistics\n",
    "\n",
    "arr = [4., 1.5, 2.3, 1.]\n",
    "println(mean(arr))"
   ]
  },
  {
   "cell_type": "markdown",
   "metadata": {},
   "source": [
    "We can also use the import statement to load only specific functions, such as the determninant function from the LinearAlgebra package (also standard library)."
   ]
  },
  {
   "cell_type": "code",
   "execution_count": 45,
   "metadata": {},
   "outputs": [
    {
     "data": {
      "text/plain": [
       "104.0"
      ]
     },
     "metadata": {},
     "output_type": "display_data"
    }
   ],
   "source": [
    "import LinearAlgebra.det # Import the specific function from a library\n",
    "\n",
    "A = [1 2 3; 4 1 6; 7 8 1]\n",
    "det(A)"
   ]
  },
  {
   "cell_type": "markdown",
   "metadata": {},
   "source": [
    "In case we want a nonstandard package included in our project, we must first add it to our project using the package manager. However, in this case, the `Project.toml`-file already contains all the packages you will need in this tutorial. Therefore, the `instantiate()`-command will have made sure all of these packages are accessible and usable. For example, the nonstandard package `Plots.jl` can be loaded into this project without any problems, and this enables us to make figures."
   ]
  },
  {
   "cell_type": "code",
   "execution_count": 47,
   "metadata": {},
   "outputs": [
    {
     "data": {
      "image/png": "[encoded data removed]",
      "image/svg+xml": [
       "<?xml version=\"1.0\" encoding=\"utf-8\"?>\n",
       "<svg xmlns=\"http://www.w3.org/2000/svg\" xmlns:xlink=\"http://www.w3.org/1999/xlink\" width=\"600\" height=\"400\" viewBox=\"0 0 2400 1600\">\n",
       "<defs>\n",
       "  <clipPath id=\"clip140\">\n",
       "    <rect x=\"0\" y=\"0\" width=\"2400\" height=\"1600\"/>\n",
       "  </clipPath>\n",
       "</defs>\n",
       "<path clip-path=\"url(#clip140)\" d=\"M0 1600 L2400 1600 L2400 0 L0 0  Z\" fill=\"#ffffff\" fill-rule=\"evenodd\" fill-opacity=\"1\"/>\n",
       "<defs>\n",
       "  <clipPath id=\"clip141\">\n",
       "    <rect x=\"480\" y=\"0\" width=\"1681\" height=\"1600\"/>\n",
       "  </clipPath>\n",
       "</defs>\n",
       "<path clip-path=\"url(#clip140)\" d=\"M147.478 1486.45 L2352.76 1486.45 L2352.76 47.2441 L147.478 47.2441  Z\" fill=\"#ffffff\" fill-rule=\"evenodd\" fill-opacity=\"1\"/>\n",
       "<defs>\n",
       "  <clipPath id=\"clip142\">\n",
       "    <rect x=\"147\" y=\"47\" width=\"2206\" height=\"1440\"/>\n",
       "  </clipPath>\n",
       "</defs>\n",
       "<polyline clip-path=\"url(#clip142)\" style=\"stroke:#000000; stroke-linecap:round; stroke-linejoin:round; stroke-width:2; stroke-opacity:0.1; fill:none\" points=\"430.734,1486.45 430.734,47.2441 \"/>\n",
       "<polyline clip-path=\"url(#clip142)\" style=\"stroke:#000000; stroke-linecap:round; stroke-linejoin:round; stroke-width:2; stroke-opacity:0.1; fill:none\" points=\"779.572,1486.45 779.572,47.2441 \"/>\n",
       "<polyline clip-path=\"url(#clip142)\" style=\"stroke:#000000; stroke-linecap:round; stroke-linejoin:round; stroke-width:2; stroke-opacity:0.1; fill:none\" points=\"1128.41,1486.45 1128.41,47.2441 \"/>\n",
       "<polyline clip-path=\"url(#clip142)\" style=\"stroke:#000000; stroke-linecap:round; stroke-linejoin:round; stroke-width:2; stroke-opacity:0.1; fill:none\" points=\"1477.25,1486.45 1477.25,47.2441 \"/>\n",
       "<polyline clip-path=\"url(#clip142)\" style=\"stroke:#000000; stroke-linecap:round; stroke-linejoin:round; stroke-width:2; stroke-opacity:0.1; fill:none\" points=\"1826.08,1486.45 1826.08,47.2441 \"/>\n",
       "<polyline clip-path=\"url(#clip142)\" style=\"stroke:#000000; stroke-linecap:round; stroke-linejoin:round; stroke-width:2; stroke-opacity:0.1; fill:none\" points=\"2174.92,1486.45 2174.92,47.2441 \"/>\n",
       "<polyline clip-path=\"url(#clip140)\" style=\"stroke:#000000; stroke-linecap:round; stroke-linejoin:round; stroke-width:4; stroke-opacity:1; fill:none\" points=\"147.478,1486.45 2352.76,1486.45 \"/>\n",
       "<polyline clip-path=\"url(#clip140)\" style=\"stroke:#000000; stroke-linecap:round; stroke-linejoin:round; stroke-width:4; stroke-opacity:1; fill:none\" points=\"430.734,1486.45 430.734,1467.55 \"/>\n",
       "<polyline clip-path=\"url(#clip140)\" style=\"stroke:#000000; stroke-linecap:round; stroke-linejoin:round; stroke-width:4; stroke-opacity:1; fill:none\" points=\"779.572,1486.45 779.572,1467.55 \"/>\n",
       "<polyline clip-path=\"url(#clip140)\" style=\"stroke:#000000; stroke-linecap:round; stroke-linejoin:round; stroke-width:4; stroke-opacity:1; fill:none\" points=\"1128.41,1486.45 1128.41,1467.55 \"/>\n",
       "<polyline clip-path=\"url(#clip140)\" style=\"stroke:#000000; stroke-linecap:round; stroke-linejoin:round; stroke-width:4; stroke-opacity:1; fill:none\" points=\"1477.25,1486.45 1477.25,1467.55 \"/>\n",
       "<polyline clip-path=\"url(#clip140)\" style=\"stroke:#000000; stroke-linecap:round; stroke-linejoin:round; stroke-width:4; stroke-opacity:1; fill:none\" points=\"1826.08,1486.45 1826.08,1467.55 \"/>\n",
       "<polyline clip-path=\"url(#clip140)\" style=\"stroke:#000000; stroke-linecap:round; stroke-linejoin:round; stroke-width:4; stroke-opacity:1; fill:none\" points=\"2174.92,1486.45 2174.92,1467.55 \"/>\n",
       "<path clip-path=\"url(#clip140)\" d=\"M377.76 1532.02 L407.435 1532.02 L407.435 1535.95 L377.76 1535.95 L377.76 1532.02 Z\" fill=\"#000000\" fill-rule=\"nonzero\" fill-opacity=\"1\" /><path clip-path=\"url(#clip140)\" d=\"M418.338 1544.91 L425.977 1544.91 L425.977 1518.55 L417.667 1520.21 L417.667 1515.95 L425.931 1514.29 L430.607 1514.29 L430.607 1544.91 L438.245 1544.91 L438.245 1548.85 L418.338 1548.85 L418.338 1544.91 Z\" fill=\"#000000\" fill-rule=\"nonzero\" fill-opacity=\"1\" /><path clip-path=\"url(#clip140)\" d=\"M447.69 1542.97 L452.574 1542.97 L452.574 1548.85 L447.69 1548.85 L447.69 1542.97 Z\" fill=\"#000000\" fill-rule=\"nonzero\" fill-opacity=\"1\" /><path clip-path=\"url(#clip140)\" d=\"M462.805 1514.29 L481.162 1514.29 L481.162 1518.22 L467.088 1518.22 L467.088 1526.7 Q468.106 1526.35 469.125 1526.19 Q470.143 1526 471.162 1526 Q476.949 1526 480.328 1529.17 Q483.708 1532.34 483.708 1537.76 Q483.708 1543.34 480.236 1546.44 Q476.764 1549.52 470.444 1549.52 Q468.268 1549.52 466 1549.15 Q463.755 1548.78 461.347 1548.04 L461.347 1543.34 Q463.43 1544.47 465.653 1545.03 Q467.875 1545.58 470.352 1545.58 Q474.356 1545.58 476.694 1543.48 Q479.032 1541.37 479.032 1537.76 Q479.032 1534.15 476.694 1532.04 Q474.356 1529.94 470.352 1529.94 Q468.477 1529.94 466.602 1530.35 Q464.75 1530.77 462.805 1531.65 L462.805 1514.29 Z\" fill=\"#000000\" fill-rule=\"nonzero\" fill-opacity=\"1\" /><path clip-path=\"url(#clip140)\" d=\"M726.1 1532.02 L755.775 1532.02 L755.775 1535.95 L726.1 1535.95 L726.1 1532.02 Z\" fill=\"#000000\" fill-rule=\"nonzero\" fill-opacity=\"1\" /><path clip-path=\"url(#clip140)\" d=\"M766.678 1544.91 L774.317 1544.91 L774.317 1518.55 L766.007 1520.21 L766.007 1515.95 L774.271 1514.29 L778.947 1514.29 L778.947 1544.91 L786.585 1544.91 L786.585 1548.85 L766.678 1548.85 L766.678 1544.91 Z\" fill=\"#000000\" fill-rule=\"nonzero\" fill-opacity=\"1\" /><path clip-path=\"url(#clip140)\" d=\"M796.03 1542.97 L800.914 1542.97 L800.914 1548.85 L796.03 1548.85 L796.03 1542.97 Z\" fill=\"#000000\" fill-rule=\"nonzero\" fill-opacity=\"1\" /><path clip-path=\"url(#clip140)\" d=\"M821.099 1517.37 Q817.488 1517.37 815.659 1520.93 Q813.854 1524.47 813.854 1531.6 Q813.854 1538.71 815.659 1542.27 Q817.488 1545.82 821.099 1545.82 Q824.733 1545.82 826.539 1542.27 Q828.368 1538.71 828.368 1531.6 Q828.368 1524.47 826.539 1520.93 Q824.733 1517.37 821.099 1517.37 M821.099 1513.66 Q826.909 1513.66 829.965 1518.27 Q833.043 1522.85 833.043 1531.6 Q833.043 1540.33 829.965 1544.94 Q826.909 1549.52 821.099 1549.52 Q815.289 1549.52 812.21 1544.94 Q809.155 1540.33 809.155 1531.6 Q809.155 1522.85 812.21 1518.27 Q815.289 1513.66 821.099 1513.66 Z\" fill=\"#000000\" fill-rule=\"nonzero\" fill-opacity=\"1\" /><path clip-path=\"url(#clip140)\" d=\"M1075.43 1532.02 L1105.11 1532.02 L1105.11 1535.95 L1075.43 1535.95 L1075.43 1532.02 Z\" fill=\"#000000\" fill-rule=\"nonzero\" fill-opacity=\"1\" /><path clip-path=\"url(#clip140)\" d=\"M1125.2 1517.37 Q1121.59 1517.37 1119.76 1520.93 Q1117.96 1524.47 1117.96 1531.6 Q1117.96 1538.71 1119.76 1542.27 Q1121.59 1545.82 1125.2 1545.82 Q1128.84 1545.82 1130.64 1542.27 Q1132.47 1538.71 1132.47 1531.6 Q1132.47 1524.47 1130.64 1520.93 Q1128.84 1517.37 1125.2 1517.37 M1125.2 1513.66 Q1131.01 1513.66 1134.07 1518.27 Q1137.15 1522.85 1137.15 1531.6 Q1137.15 1540.33 1134.07 1544.94 Q1131.01 1549.52 1125.2 1549.52 Q1119.39 1549.52 1116.31 1544.94 Q1113.26 1540.33 1113.26 1531.6 Q1113.26 1522.85 1116.31 1518.27 Q1119.39 1513.66 1125.2 1513.66 Z\" fill=\"#000000\" fill-rule=\"nonzero\" fill-opacity=\"1\" /><path clip-path=\"url(#clip140)\" d=\"M1145.37 1542.97 L1150.25 1542.97 L1150.25 1548.85 L1145.37 1548.85 L1145.37 1542.97 Z\" fill=\"#000000\" fill-rule=\"nonzero\" fill-opacity=\"1\" /><path clip-path=\"url(#clip140)\" d=\"M1160.48 1514.29 L1178.84 1514.29 L1178.84 1518.22 L1164.76 1518.22 L1164.76 1526.7 Q1165.78 1526.35 1166.8 1526.19 Q1167.82 1526 1168.84 1526 Q1174.62 1526 1178 1529.17 Q1181.38 1532.34 1181.38 1537.76 Q1181.38 1543.34 1177.91 1546.44 Q1174.44 1549.52 1168.12 1549.52 Q1165.94 1549.52 1163.68 1549.15 Q1161.43 1548.78 1159.02 1548.04 L1159.02 1543.34 Q1161.11 1544.47 1163.33 1545.03 Q1165.55 1545.58 1168.03 1545.58 Q1172.03 1545.58 1174.37 1543.48 Q1176.71 1541.37 1176.71 1537.76 Q1176.71 1534.15 1174.37 1532.04 Q1172.03 1529.94 1168.03 1529.94 Q1166.15 1529.94 1164.28 1530.35 Q1162.43 1530.77 1160.48 1531.65 L1160.48 1514.29 Z\" fill=\"#000000\" fill-rule=\"nonzero\" fill-opacity=\"1\" /><path clip-path=\"url(#clip140)\" d=\"M1454.63 1517.37 Q1451.02 1517.37 1449.19 1520.93 Q1447.39 1524.47 1447.39 1531.6 Q1447.39 1538.71 1449.19 1542.27 Q1451.02 1545.82 1454.63 1545.82 Q1458.27 1545.82 1460.07 1542.27 Q1461.9 1538.71 1461.9 1531.6 Q1461.9 1524.47 1460.07 1520.93 Q1458.27 1517.37 1454.63 1517.37 M1454.63 1513.66 Q1460.44 1513.66 1463.5 1518.27 Q1466.58 1522.85 1466.58 1531.6 Q1466.58 1540.33 1463.5 1544.94 Q1460.44 1549.52 1454.63 1549.52 Q1448.82 1549.52 1445.74 1544.94 Q1442.69 1540.33 1442.69 1531.6 Q1442.69 1522.85 1445.74 1518.27 Q1448.82 1513.66 1454.63 1513.66 Z\" fill=\"#000000\" fill-rule=\"nonzero\" fill-opacity=\"1\" /><path clip-path=\"url(#clip140)\" d=\"M1474.79 1542.97 L1479.68 1542.97 L1479.68 1548.85 L1474.79 1548.85 L1474.79 1542.97 Z\" fill=\"#000000\" fill-rule=\"nonzero\" fill-opacity=\"1\" /><path clip-path=\"url(#clip140)\" d=\"M1499.86 1517.37 Q1496.25 1517.37 1494.42 1520.93 Q1492.62 1524.47 1492.62 1531.6 Q1492.62 1538.71 1494.42 1542.27 Q1496.25 1545.82 1499.86 1545.82 Q1503.5 1545.82 1505.3 1542.27 Q1507.13 1538.71 1507.13 1531.6 Q1507.13 1524.47 1505.3 1520.93 Q1503.5 1517.37 1499.86 1517.37 M1499.86 1513.66 Q1505.67 1513.66 1508.73 1518.27 Q1511.81 1522.85 1511.81 1531.6 Q1511.81 1540.33 1508.73 1544.94 Q1505.67 1549.52 1499.86 1549.52 Q1494.05 1549.52 1490.97 1544.94 Q1487.92 1540.33 1487.92 1531.6 Q1487.92 1522.85 1490.97 1518.27 Q1494.05 1513.66 1499.86 1513.66 Z\" fill=\"#000000\" fill-rule=\"nonzero\" fill-opacity=\"1\" /><path clip-path=\"url(#clip140)\" d=\"M1803.97 1517.37 Q1800.36 1517.37 1798.53 1520.93 Q1796.72 1524.47 1796.72 1531.6 Q1796.72 1538.71 1798.53 1542.27 Q1800.36 1545.82 1803.97 1545.82 Q1807.6 1545.82 1809.41 1542.27 Q1811.24 1538.71 1811.24 1531.6 Q1811.24 1524.47 1809.41 1520.93 Q1807.6 1517.37 1803.97 1517.37 M1803.97 1513.66 Q1809.78 1513.66 1812.83 1518.27 Q1815.91 1522.85 1815.91 1531.6 Q1815.91 1540.33 1812.83 1544.94 Q1809.78 1549.52 1803.97 1549.52 Q1798.16 1549.52 1795.08 1544.94 Q1792.02 1540.33 1792.02 1531.6 Q1792.02 1522.85 1795.08 1518.27 Q1798.16 1513.66 1803.97 1513.66 Z\" fill=\"#000000\" fill-rule=\"nonzero\" fill-opacity=\"1\" /><path clip-path=\"url(#clip140)\" d=\"M1824.13 1542.97 L1829.01 1542.97 L1829.01 1548.85 L1824.13 1548.85 L1824.13 1542.97 Z\" fill=\"#000000\" fill-rule=\"nonzero\" fill-opacity=\"1\" /><path clip-path=\"url(#clip140)\" d=\"M1839.24 1514.29 L1857.6 1514.29 L1857.6 1518.22 L1843.53 1518.22 L1843.53 1526.7 Q1844.55 1526.35 1845.56 1526.19 Q1846.58 1526 1847.6 1526 Q1853.39 1526 1856.77 1529.17 Q1860.15 1532.34 1860.15 1537.76 Q1860.15 1543.34 1856.67 1546.44 Q1853.2 1549.52 1846.88 1549.52 Q1844.71 1549.52 1842.44 1549.15 Q1840.19 1548.78 1837.79 1548.04 L1837.79 1543.34 Q1839.87 1544.47 1842.09 1545.03 Q1844.31 1545.58 1846.79 1545.58 Q1850.8 1545.58 1853.13 1543.48 Q1855.47 1541.37 1855.47 1537.76 Q1855.47 1534.15 1853.13 1532.04 Q1850.8 1529.94 1846.79 1529.94 Q1844.92 1529.94 1843.04 1530.35 Q1841.19 1530.77 1839.24 1531.65 L1839.24 1514.29 Z\" fill=\"#000000\" fill-rule=\"nonzero\" fill-opacity=\"1\" /><path clip-path=\"url(#clip140)\" d=\"M2142.08 1544.91 L2149.71 1544.91 L2149.71 1518.55 L2141.4 1520.21 L2141.4 1515.95 L2149.67 1514.29 L2154.34 1514.29 L2154.34 1544.91 L2161.98 1544.91 L2161.98 1548.85 L2142.08 1548.85 L2142.08 1544.91 Z\" fill=\"#000000\" fill-rule=\"nonzero\" fill-opacity=\"1\" /><path clip-path=\"url(#clip140)\" d=\"M2171.43 1542.97 L2176.31 1542.97 L2176.31 1548.85 L2171.43 1548.85 L2171.43 1542.97 Z\" fill=\"#000000\" fill-rule=\"nonzero\" fill-opacity=\"1\" /><path clip-path=\"url(#clip140)\" d=\"M2196.5 1517.37 Q2192.89 1517.37 2191.06 1520.93 Q2189.25 1524.47 2189.25 1531.6 Q2189.25 1538.71 2191.06 1542.27 Q2192.89 1545.82 2196.5 1545.82 Q2200.13 1545.82 2201.94 1542.27 Q2203.76 1538.71 2203.76 1531.6 Q2203.76 1524.47 2201.94 1520.93 Q2200.13 1517.37 2196.5 1517.37 M2196.5 1513.66 Q2202.31 1513.66 2205.36 1518.27 Q2208.44 1522.85 2208.44 1531.6 Q2208.44 1540.33 2205.36 1544.94 Q2202.31 1549.52 2196.5 1549.52 Q2190.69 1549.52 2187.61 1544.94 Q2184.55 1540.33 2184.55 1531.6 Q2184.55 1522.85 2187.61 1518.27 Q2190.69 1513.66 2196.5 1513.66 Z\" fill=\"#000000\" fill-rule=\"nonzero\" fill-opacity=\"1\" /><polyline clip-path=\"url(#clip142)\" style=\"stroke:#000000; stroke-linecap:round; stroke-linejoin:round; stroke-width:2; stroke-opacity:0.1; fill:none\" points=\"147.478,1404.1 2352.76,1404.1 \"/>\n",
       "<polyline clip-path=\"url(#clip142)\" style=\"stroke:#000000; stroke-linecap:round; stroke-linejoin:round; stroke-width:2; stroke-opacity:0.1; fill:none\" points=\"147.478,1048.09 2352.76,1048.09 \"/>\n",
       "<polyline clip-path=\"url(#clip142)\" style=\"stroke:#000000; stroke-linecap:round; stroke-linejoin:round; stroke-width:2; stroke-opacity:0.1; fill:none\" points=\"147.478,692.09 2352.76,692.09 \"/>\n",
       "<polyline clip-path=\"url(#clip142)\" style=\"stroke:#000000; stroke-linecap:round; stroke-linejoin:round; stroke-width:2; stroke-opacity:0.1; fill:none\" points=\"147.478,336.085 2352.76,336.085 \"/>\n",
       "<polyline clip-path=\"url(#clip140)\" style=\"stroke:#000000; stroke-linecap:round; stroke-linejoin:round; stroke-width:4; stroke-opacity:1; fill:none\" points=\"147.478,1486.45 147.478,47.2441 \"/>\n",
       "<polyline clip-path=\"url(#clip140)\" style=\"stroke:#000000; stroke-linecap:round; stroke-linejoin:round; stroke-width:4; stroke-opacity:1; fill:none\" points=\"147.478,1404.1 166.376,1404.1 \"/>\n",
       "<polyline clip-path=\"url(#clip140)\" style=\"stroke:#000000; stroke-linecap:round; stroke-linejoin:round; stroke-width:4; stroke-opacity:1; fill:none\" points=\"147.478,1048.09 166.376,1048.09 \"/>\n",
       "<polyline clip-path=\"url(#clip140)\" style=\"stroke:#000000; stroke-linecap:round; stroke-linejoin:round; stroke-width:4; stroke-opacity:1; fill:none\" points=\"147.478,692.09 166.376,692.09 \"/>\n",
       "<polyline clip-path=\"url(#clip140)\" style=\"stroke:#000000; stroke-linecap:round; stroke-linejoin:round; stroke-width:4; stroke-opacity:1; fill:none\" points=\"147.478,336.085 166.376,336.085 \"/>\n",
       "<path clip-path=\"url(#clip140)\" d=\"M51.3625 1404.55 L81.0383 1404.55 L81.0383 1408.49 L51.3625 1408.49 L51.3625 1404.55 Z\" fill=\"#000000\" fill-rule=\"nonzero\" fill-opacity=\"1\" /><path clip-path=\"url(#clip140)\" d=\"M95.1586 1417.44 L111.478 1417.44 L111.478 1421.38 L89.5336 1421.38 L89.5336 1417.44 Q92.1956 1414.69 96.7789 1410.06 Q101.385 1405.41 102.566 1404.06 Q104.811 1401.54 105.691 1399.8 Q106.594 1398.05 106.594 1396.36 Q106.594 1393.6 104.649 1391.87 Q102.728 1390.13 99.6261 1390.13 Q97.4271 1390.13 94.9734 1390.89 Q92.5428 1391.66 89.7651 1393.21 L89.7651 1388.49 Q92.5891 1387.35 95.0428 1386.77 Q97.4965 1386.19 99.5335 1386.19 Q104.904 1386.19 108.098 1388.88 Q111.293 1391.56 111.293 1396.06 Q111.293 1398.18 110.483 1400.11 Q109.696 1402 107.589 1404.6 Q107.01 1405.27 103.909 1408.49 Q100.807 1411.68 95.1586 1417.44 Z\" fill=\"#000000\" fill-rule=\"nonzero\" fill-opacity=\"1\" /><path clip-path=\"url(#clip140)\" d=\"M50.9921 1048.55 L80.6679 1048.55 L80.6679 1052.48 L50.9921 1052.48 L50.9921 1048.55 Z\" fill=\"#000000\" fill-rule=\"nonzero\" fill-opacity=\"1\" /><path clip-path=\"url(#clip140)\" d=\"M91.5706 1061.44 L99.2095 1061.44 L99.2095 1035.07 L90.8993 1036.74 L90.8993 1032.48 L99.1632 1030.81 L103.839 1030.81 L103.839 1061.44 L111.478 1061.44 L111.478 1065.37 L91.5706 1065.37 L91.5706 1061.44 Z\" fill=\"#000000\" fill-rule=\"nonzero\" fill-opacity=\"1\" /><path clip-path=\"url(#clip140)\" d=\"M99.5335 677.888 Q95.9224 677.888 94.0937 681.453 Q92.2882 684.995 92.2882 692.124 Q92.2882 699.231 94.0937 702.796 Q95.9224 706.337 99.5335 706.337 Q103.168 706.337 104.973 702.796 Q106.802 699.231 106.802 692.124 Q106.802 684.995 104.973 681.453 Q103.168 677.888 99.5335 677.888 M99.5335 674.185 Q105.344 674.185 108.399 678.791 Q111.478 683.374 111.478 692.124 Q111.478 700.851 108.399 705.458 Q105.344 710.041 99.5335 710.041 Q93.7234 710.041 90.6447 705.458 Q87.5892 700.851 87.5892 692.124 Q87.5892 683.374 90.6447 678.791 Q93.7234 674.185 99.5335 674.185 Z\" fill=\"#000000\" fill-rule=\"nonzero\" fill-opacity=\"1\" /><path clip-path=\"url(#clip140)\" d=\"M91.5706 349.43 L99.2095 349.43 L99.2095 323.064 L90.8993 324.731 L90.8993 320.472 L99.1632 318.805 L103.839 318.805 L103.839 349.43 L111.478 349.43 L111.478 353.365 L91.5706 353.365 L91.5706 349.43 Z\" fill=\"#000000\" fill-rule=\"nonzero\" fill-opacity=\"1\" /><circle clip-path=\"url(#clip142)\" cx=\"1239.61\" cy=\"87.9763\" r=\"14.4\" fill=\"#009af9\" fill-rule=\"evenodd\" fill-opacity=\"1\" stroke=\"#000000\" stroke-opacity=\"1\" stroke-width=\"3.2\"/>\n",
       "<circle clip-path=\"url(#clip142)\" cx=\"1747.74\" cy=\"1043.74\" r=\"14.4\" fill=\"#009af9\" fill-rule=\"evenodd\" fill-opacity=\"1\" stroke=\"#000000\" stroke-opacity=\"1\" stroke-width=\"3.2\"/>\n",
       "<circle clip-path=\"url(#clip142)\" cx=\"1670.26\" cy=\"972.055\" r=\"14.4\" fill=\"#009af9\" fill-rule=\"evenodd\" fill-opacity=\"1\" stroke=\"#000000\" stroke-opacity=\"1\" stroke-width=\"3.2\"/>\n",
       "<circle clip-path=\"url(#clip142)\" cx=\"2290.34\" cy=\"584.094\" r=\"14.4\" fill=\"#009af9\" fill-rule=\"evenodd\" fill-opacity=\"1\" stroke=\"#000000\" stroke-opacity=\"1\" stroke-width=\"3.2\"/>\n",
       "<circle clip-path=\"url(#clip142)\" cx=\"2046.31\" cy=\"284.182\" r=\"14.4\" fill=\"#009af9\" fill-rule=\"evenodd\" fill-opacity=\"1\" stroke=\"#000000\" stroke-opacity=\"1\" stroke-width=\"3.2\"/>\n",
       "<circle clip-path=\"url(#clip142)\" cx=\"1289.09\" cy=\"292.699\" r=\"14.4\" fill=\"#009af9\" fill-rule=\"evenodd\" fill-opacity=\"1\" stroke=\"#000000\" stroke-opacity=\"1\" stroke-width=\"3.2\"/>\n",
       "<circle clip-path=\"url(#clip142)\" cx=\"209.891\" cy=\"1105.46\" r=\"14.4\" fill=\"#009af9\" fill-rule=\"evenodd\" fill-opacity=\"1\" stroke=\"#000000\" stroke-opacity=\"1\" stroke-width=\"3.2\"/>\n",
       "<circle clip-path=\"url(#clip142)\" cx=\"1590.74\" cy=\"1041.98\" r=\"14.4\" fill=\"#009af9\" fill-rule=\"evenodd\" fill-opacity=\"1\" stroke=\"#000000\" stroke-opacity=\"1\" stroke-width=\"3.2\"/>\n",
       "<circle clip-path=\"url(#clip142)\" cx=\"1142.56\" cy=\"445.388\" r=\"14.4\" fill=\"#009af9\" fill-rule=\"evenodd\" fill-opacity=\"1\" stroke=\"#000000\" stroke-opacity=\"1\" stroke-width=\"3.2\"/>\n",
       "<circle clip-path=\"url(#clip142)\" cx=\"1586.64\" cy=\"653.773\" r=\"14.4\" fill=\"#009af9\" fill-rule=\"evenodd\" fill-opacity=\"1\" stroke=\"#000000\" stroke-opacity=\"1\" stroke-width=\"3.2\"/>\n",
       "<circle clip-path=\"url(#clip142)\" cx=\"815.512\" cy=\"669.913\" r=\"14.4\" fill=\"#009af9\" fill-rule=\"evenodd\" fill-opacity=\"1\" stroke=\"#000000\" stroke-opacity=\"1\" stroke-width=\"3.2\"/>\n",
       "<circle clip-path=\"url(#clip142)\" cx=\"1669.75\" cy=\"291.583\" r=\"14.4\" fill=\"#009af9\" fill-rule=\"evenodd\" fill-opacity=\"1\" stroke=\"#000000\" stroke-opacity=\"1\" stroke-width=\"3.2\"/>\n",
       "<circle clip-path=\"url(#clip142)\" cx=\"1108.55\" cy=\"1088.02\" r=\"14.4\" fill=\"#009af9\" fill-rule=\"evenodd\" fill-opacity=\"1\" stroke=\"#000000\" stroke-opacity=\"1\" stroke-width=\"3.2\"/>\n",
       "<circle clip-path=\"url(#clip142)\" cx=\"1332.17\" cy=\"1445.72\" r=\"14.4\" fill=\"#009af9\" fill-rule=\"evenodd\" fill-opacity=\"1\" stroke=\"#000000\" stroke-opacity=\"1\" stroke-width=\"3.2\"/>\n",
       "<path clip-path=\"url(#clip140)\" d=\"M220.987 198.898 L493.945 198.898 L493.945 95.2176 L220.987 95.2176  Z\" fill=\"#ffffff\" fill-rule=\"evenodd\" fill-opacity=\"1\"/>\n",
       "<polyline clip-path=\"url(#clip140)\" style=\"stroke:#000000; stroke-linecap:round; stroke-linejoin:round; stroke-width:4; stroke-opacity:1; fill:none\" points=\"220.987,198.898 493.945,198.898 493.945,95.2176 220.987,95.2176 220.987,198.898 \"/>\n",
       "<circle clip-path=\"url(#clip140)\" cx=\"319\" cy=\"147.058\" r=\"20.48\" fill=\"#009af9\" fill-rule=\"evenodd\" fill-opacity=\"1\" stroke=\"#000000\" stroke-opacity=\"1\" stroke-width=\"4.55111\"/>\n",
       "<path clip-path=\"url(#clip140)\" d=\"M430.854 166.745 Q429.049 171.375 427.336 172.787 Q425.623 174.199 422.753 174.199 L419.35 174.199 L419.35 170.634 L421.85 170.634 Q423.609 170.634 424.581 169.8 Q425.554 168.967 426.734 165.865 L427.498 163.921 L417.012 138.412 L421.526 138.412 L429.628 158.689 L437.729 138.412 L442.243 138.412 L430.854 166.745 Z\" fill=\"#000000\" fill-rule=\"nonzero\" fill-opacity=\"1\" /><path clip-path=\"url(#clip140)\" d=\"M449.535 160.402 L457.174 160.402 L457.174 134.037 L448.864 135.703 L448.864 131.444 L457.127 129.778 L461.803 129.778 L461.803 160.402 L469.442 160.402 L469.442 164.338 L449.535 164.338 L449.535 160.402 Z\" fill=\"#000000\" fill-rule=\"nonzero\" fill-opacity=\"1\" /></svg>\n"
      ],
      "text/html": [
       "<?xml version=\"1.0\" encoding=\"utf-8\"?>\n",
       "<svg xmlns=\"http://www.w3.org/2000/svg\" xmlns:xlink=\"http://www.w3.org/1999/xlink\" width=\"600\" height=\"400\" viewBox=\"0 0 2400 1600\">\n",
       "<defs>\n",
       "  <clipPath id=\"clip190\">\n",
       "    <rect x=\"0\" y=\"0\" width=\"2400\" height=\"1600\"/>\n",
       "  </clipPath>\n",
       "</defs>\n",
       "<path clip-path=\"url(#clip190)\" d=\"M0 1600 L2400 1600 L2400 0 L0 0  Z\" fill=\"#ffffff\" fill-rule=\"evenodd\" fill-opacity=\"1\"/>\n",
       "<defs>\n",
       "  <clipPath id=\"clip191\">\n",
       "    <rect x=\"480\" y=\"0\" width=\"1681\" height=\"1600\"/>\n",
       "  </clipPath>\n",
       "</defs>\n",
       "<path clip-path=\"url(#clip190)\" d=\"M147.478 1486.45 L2352.76 1486.45 L2352.76 47.2441 L147.478 47.2441  Z\" fill=\"#ffffff\" fill-rule=\"evenodd\" fill-opacity=\"1\"/>\n",
       "<defs>\n",
       "  <clipPath id=\"clip192\">\n",
       "    <rect x=\"147\" y=\"47\" width=\"2206\" height=\"1440\"/>\n",
       "  </clipPath>\n",
       "</defs>\n",
       "<polyline clip-path=\"url(#clip192)\" style=\"stroke:#000000; stroke-linecap:round; stroke-linejoin:round; stroke-width:2; stroke-opacity:0.1; fill:none\" points=\"430.734,1486.45 430.734,47.2441 \"/>\n",
       "<polyline clip-path=\"url(#clip192)\" style=\"stroke:#000000; stroke-linecap:round; stroke-linejoin:round; stroke-width:2; stroke-opacity:0.1; fill:none\" points=\"779.572,1486.45 779.572,47.2441 \"/>\n",
       "<polyline clip-path=\"url(#clip192)\" style=\"stroke:#000000; stroke-linecap:round; stroke-linejoin:round; stroke-width:2; stroke-opacity:0.1; fill:none\" points=\"1128.41,1486.45 1128.41,47.2441 \"/>\n",
       "<polyline clip-path=\"url(#clip192)\" style=\"stroke:#000000; stroke-linecap:round; stroke-linejoin:round; stroke-width:2; stroke-opacity:0.1; fill:none\" points=\"1477.25,1486.45 1477.25,47.2441 \"/>\n",
       "<polyline clip-path=\"url(#clip192)\" style=\"stroke:#000000; stroke-linecap:round; stroke-linejoin:round; stroke-width:2; stroke-opacity:0.1; fill:none\" points=\"1826.08,1486.45 1826.08,47.2441 \"/>\n",
       "<polyline clip-path=\"url(#clip192)\" style=\"stroke:#000000; stroke-linecap:round; stroke-linejoin:round; stroke-width:2; stroke-opacity:0.1; fill:none\" points=\"2174.92,1486.45 2174.92,47.2441 \"/>\n",
       "<polyline clip-path=\"url(#clip190)\" style=\"stroke:#000000; stroke-linecap:round; stroke-linejoin:round; stroke-width:4; stroke-opacity:1; fill:none\" points=\"147.478,1486.45 2352.76,1486.45 \"/>\n",
       "<polyline clip-path=\"url(#clip190)\" style=\"stroke:#000000; stroke-linecap:round; stroke-linejoin:round; stroke-width:4; stroke-opacity:1; fill:none\" points=\"430.734,1486.45 430.734,1467.55 \"/>\n",
       "<polyline clip-path=\"url(#clip190)\" style=\"stroke:#000000; stroke-linecap:round; stroke-linejoin:round; stroke-width:4; stroke-opacity:1; fill:none\" points=\"779.572,1486.45 779.572,1467.55 \"/>\n",
       "<polyline clip-path=\"url(#clip190)\" style=\"stroke:#000000; stroke-linecap:round; stroke-linejoin:round; stroke-width:4; stroke-opacity:1; fill:none\" points=\"1128.41,1486.45 1128.41,1467.55 \"/>\n",
       "<polyline clip-path=\"url(#clip190)\" style=\"stroke:#000000; stroke-linecap:round; stroke-linejoin:round; stroke-width:4; stroke-opacity:1; fill:none\" points=\"1477.25,1486.45 1477.25,1467.55 \"/>\n",
       "<polyline clip-path=\"url(#clip190)\" style=\"stroke:#000000; stroke-linecap:round; stroke-linejoin:round; stroke-width:4; stroke-opacity:1; fill:none\" points=\"1826.08,1486.45 1826.08,1467.55 \"/>\n",
       "<polyline clip-path=\"url(#clip190)\" style=\"stroke:#000000; stroke-linecap:round; stroke-linejoin:round; stroke-width:4; stroke-opacity:1; fill:none\" points=\"2174.92,1486.45 2174.92,1467.55 \"/>\n",
       "<path clip-path=\"url(#clip190)\" d=\"M377.76 1532.02 L407.435 1532.02 L407.435 1535.95 L377.76 1535.95 L377.76 1532.02 Z\" fill=\"#000000\" fill-rule=\"nonzero\" fill-opacity=\"1\" /><path clip-path=\"url(#clip190)\" d=\"M418.338 1544.91 L425.977 1544.91 L425.977 1518.55 L417.667 1520.21 L417.667 1515.95 L425.931 1514.29 L430.607 1514.29 L430.607 1544.91 L438.245 1544.91 L438.245 1548.85 L418.338 1548.85 L418.338 1544.91 Z\" fill=\"#000000\" fill-rule=\"nonzero\" fill-opacity=\"1\" /><path clip-path=\"url(#clip190)\" d=\"M447.69 1542.97 L452.574 1542.97 L452.574 1548.85 L447.69 1548.85 L447.69 1542.97 Z\" fill=\"#000000\" fill-rule=\"nonzero\" fill-opacity=\"1\" /><path clip-path=\"url(#clip190)\" d=\"M462.805 1514.29 L481.162 1514.29 L481.162 1518.22 L467.088 1518.22 L467.088 1526.7 Q468.106 1526.35 469.125 1526.19 Q470.143 1526 471.162 1526 Q476.949 1526 480.328 1529.17 Q483.708 1532.34 483.708 1537.76 Q483.708 1543.34 480.236 1546.44 Q476.764 1549.52 470.444 1549.52 Q468.268 1549.52 466 1549.15 Q463.755 1548.78 461.347 1548.04 L461.347 1543.34 Q463.43 1544.47 465.653 1545.03 Q467.875 1545.58 470.352 1545.58 Q474.356 1545.58 476.694 1543.48 Q479.032 1541.37 479.032 1537.76 Q479.032 1534.15 476.694 1532.04 Q474.356 1529.94 470.352 1529.94 Q468.477 1529.94 466.602 1530.35 Q464.75 1530.77 462.805 1531.65 L462.805 1514.29 Z\" fill=\"#000000\" fill-rule=\"nonzero\" fill-opacity=\"1\" /><path clip-path=\"url(#clip190)\" d=\"M726.1 1532.02 L755.775 1532.02 L755.775 1535.95 L726.1 1535.95 L726.1 1532.02 Z\" fill=\"#000000\" fill-rule=\"nonzero\" fill-opacity=\"1\" /><path clip-path=\"url(#clip190)\" d=\"M766.678 1544.91 L774.317 1544.91 L774.317 1518.55 L766.007 1520.21 L766.007 1515.95 L774.271 1514.29 L778.947 1514.29 L778.947 1544.91 L786.585 1544.91 L786.585 1548.85 L766.678 1548.85 L766.678 1544.91 Z\" fill=\"#000000\" fill-rule=\"nonzero\" fill-opacity=\"1\" /><path clip-path=\"url(#clip190)\" d=\"M796.03 1542.97 L800.914 1542.97 L800.914 1548.85 L796.03 1548.85 L796.03 1542.97 Z\" fill=\"#000000\" fill-rule=\"nonzero\" fill-opacity=\"1\" /><path clip-path=\"url(#clip190)\" d=\"M821.099 1517.37 Q817.488 1517.37 815.659 1520.93 Q813.854 1524.47 813.854 1531.6 Q813.854 1538.71 815.659 1542.27 Q817.488 1545.82 821.099 1545.82 Q824.733 1545.82 826.539 1542.27 Q828.368 1538.71 828.368 1531.6 Q828.368 1524.47 826.539 1520.93 Q824.733 1517.37 821.099 1517.37 M821.099 1513.66 Q826.909 1513.66 829.965 1518.27 Q833.043 1522.85 833.043 1531.6 Q833.043 1540.33 829.965 1544.94 Q826.909 1549.52 821.099 1549.52 Q815.289 1549.52 812.21 1544.94 Q809.155 1540.33 809.155 1531.6 Q809.155 1522.85 812.21 1518.27 Q815.289 1513.66 821.099 1513.66 Z\" fill=\"#000000\" fill-rule=\"nonzero\" fill-opacity=\"1\" /><path clip-path=\"url(#clip190)\" d=\"M1075.43 1532.02 L1105.11 1532.02 L1105.11 1535.95 L1075.43 1535.95 L1075.43 1532.02 Z\" fill=\"#000000\" fill-rule=\"nonzero\" fill-opacity=\"1\" /><path clip-path=\"url(#clip190)\" d=\"M1125.2 1517.37 Q1121.59 1517.37 1119.76 1520.93 Q1117.96 1524.47 1117.96 1531.6 Q1117.96 1538.71 1119.76 1542.27 Q1121.59 1545.82 1125.2 1545.82 Q1128.84 1545.82 1130.64 1542.27 Q1132.47 1538.71 1132.47 1531.6 Q1132.47 1524.47 1130.64 1520.93 Q1128.84 1517.37 1125.2 1517.37 M1125.2 1513.66 Q1131.01 1513.66 1134.07 1518.27 Q1137.15 1522.85 1137.15 1531.6 Q1137.15 1540.33 1134.07 1544.94 Q1131.01 1549.52 1125.2 1549.52 Q1119.39 1549.52 1116.31 1544.94 Q1113.26 1540.33 1113.26 1531.6 Q1113.26 1522.85 1116.31 1518.27 Q1119.39 1513.66 1125.2 1513.66 Z\" fill=\"#000000\" fill-rule=\"nonzero\" fill-opacity=\"1\" /><path clip-path=\"url(#clip190)\" d=\"M1145.37 1542.97 L1150.25 1542.97 L1150.25 1548.85 L1145.37 1548.85 L1145.37 1542.97 Z\" fill=\"#000000\" fill-rule=\"nonzero\" fill-opacity=\"1\" /><path clip-path=\"url(#clip190)\" d=\"M1160.48 1514.29 L1178.84 1514.29 L1178.84 1518.22 L1164.76 1518.22 L1164.76 1526.7 Q1165.78 1526.35 1166.8 1526.19 Q1167.82 1526 1168.84 1526 Q1174.62 1526 1178 1529.17 Q1181.38 1532.34 1181.38 1537.76 Q1181.38 1543.34 1177.91 1546.44 Q1174.44 1549.52 1168.12 1549.52 Q1165.94 1549.52 1163.68 1549.15 Q1161.43 1548.78 1159.02 1548.04 L1159.02 1543.34 Q1161.11 1544.47 1163.33 1545.03 Q1165.55 1545.58 1168.03 1545.58 Q1172.03 1545.58 1174.37 1543.48 Q1176.71 1541.37 1176.71 1537.76 Q1176.71 1534.15 1174.37 1532.04 Q1172.03 1529.94 1168.03 1529.94 Q1166.15 1529.94 1164.28 1530.35 Q1162.43 1530.77 1160.48 1531.65 L1160.48 1514.29 Z\" fill=\"#000000\" fill-rule=\"nonzero\" fill-opacity=\"1\" /><path clip-path=\"url(#clip190)\" d=\"M1454.63 1517.37 Q1451.02 1517.37 1449.19 1520.93 Q1447.39 1524.47 1447.39 1531.6 Q1447.39 1538.71 1449.19 1542.27 Q1451.02 1545.82 1454.63 1545.82 Q1458.27 1545.82 1460.07 1542.27 Q1461.9 1538.71 1461.9 1531.6 Q1461.9 1524.47 1460.07 1520.93 Q1458.27 1517.37 1454.63 1517.37 M1454.63 1513.66 Q1460.44 1513.66 1463.5 1518.27 Q1466.58 1522.85 1466.58 1531.6 Q1466.58 1540.33 1463.5 1544.94 Q1460.44 1549.52 1454.63 1549.52 Q1448.82 1549.52 1445.74 1544.94 Q1442.69 1540.33 1442.69 1531.6 Q1442.69 1522.85 1445.74 1518.27 Q1448.82 1513.66 1454.63 1513.66 Z\" fill=\"#000000\" fill-rule=\"nonzero\" fill-opacity=\"1\" /><path clip-path=\"url(#clip190)\" d=\"M1474.79 1542.97 L1479.68 1542.97 L1479.68 1548.85 L1474.79 1548.85 L1474.79 1542.97 Z\" fill=\"#000000\" fill-rule=\"nonzero\" fill-opacity=\"1\" /><path clip-path=\"url(#clip190)\" d=\"M1499.86 1517.37 Q1496.25 1517.37 1494.42 1520.93 Q1492.62 1524.47 1492.62 1531.6 Q1492.62 1538.71 1494.42 1542.27 Q1496.25 1545.82 1499.86 1545.82 Q1503.5 1545.82 1505.3 1542.27 Q1507.13 1538.71 1507.13 1531.6 Q1507.13 1524.47 1505.3 1520.93 Q1503.5 1517.37 1499.86 1517.37 M1499.86 1513.66 Q1505.67 1513.66 1508.73 1518.27 Q1511.81 1522.85 1511.81 1531.6 Q1511.81 1540.33 1508.73 1544.94 Q1505.67 1549.52 1499.86 1549.52 Q1494.05 1549.52 1490.97 1544.94 Q1487.92 1540.33 1487.92 1531.6 Q1487.92 1522.85 1490.97 1518.27 Q1494.05 1513.66 1499.86 1513.66 Z\" fill=\"#000000\" fill-rule=\"nonzero\" fill-opacity=\"1\" /><path clip-path=\"url(#clip190)\" d=\"M1803.97 1517.37 Q1800.36 1517.37 1798.53 1520.93 Q1796.72 1524.47 1796.72 1531.6 Q1796.72 1538.71 1798.53 1542.27 Q1800.36 1545.82 1803.97 1545.82 Q1807.6 1545.82 1809.41 1542.27 Q1811.24 1538.71 1811.24 1531.6 Q1811.24 1524.47 1809.41 1520.93 Q1807.6 1517.37 1803.97 1517.37 M1803.97 1513.66 Q1809.78 1513.66 1812.83 1518.27 Q1815.91 1522.85 1815.91 1531.6 Q1815.91 1540.33 1812.83 1544.94 Q1809.78 1549.52 1803.97 1549.52 Q1798.16 1549.52 1795.08 1544.94 Q1792.02 1540.33 1792.02 1531.6 Q1792.02 1522.85 1795.08 1518.27 Q1798.16 1513.66 1803.97 1513.66 Z\" fill=\"#000000\" fill-rule=\"nonzero\" fill-opacity=\"1\" /><path clip-path=\"url(#clip190)\" d=\"M1824.13 1542.97 L1829.01 1542.97 L1829.01 1548.85 L1824.13 1548.85 L1824.13 1542.97 Z\" fill=\"#000000\" fill-rule=\"nonzero\" fill-opacity=\"1\" /><path clip-path=\"url(#clip190)\" d=\"M1839.24 1514.29 L1857.6 1514.29 L1857.6 1518.22 L1843.53 1518.22 L1843.53 1526.7 Q1844.55 1526.35 1845.56 1526.19 Q1846.58 1526 1847.6 1526 Q1853.39 1526 1856.77 1529.17 Q1860.15 1532.34 1860.15 1537.76 Q1860.15 1543.34 1856.67 1546.44 Q1853.2 1549.52 1846.88 1549.52 Q1844.71 1549.52 1842.44 1549.15 Q1840.19 1548.78 1837.79 1548.04 L1837.79 1543.34 Q1839.87 1544.47 1842.09 1545.03 Q1844.31 1545.58 1846.79 1545.58 Q1850.8 1545.58 1853.13 1543.48 Q1855.47 1541.37 1855.47 1537.76 Q1855.47 1534.15 1853.13 1532.04 Q1850.8 1529.94 1846.79 1529.94 Q1844.92 1529.94 1843.04 1530.35 Q1841.19 1530.77 1839.24 1531.65 L1839.24 1514.29 Z\" fill=\"#000000\" fill-rule=\"nonzero\" fill-opacity=\"1\" /><path clip-path=\"url(#clip190)\" d=\"M2142.08 1544.91 L2149.71 1544.91 L2149.71 1518.55 L2141.4 1520.21 L2141.4 1515.95 L2149.67 1514.29 L2154.34 1514.29 L2154.34 1544.91 L2161.98 1544.91 L2161.98 1548.85 L2142.08 1548.85 L2142.08 1544.91 Z\" fill=\"#000000\" fill-rule=\"nonzero\" fill-opacity=\"1\" /><path clip-path=\"url(#clip190)\" d=\"M2171.43 1542.97 L2176.31 1542.97 L2176.31 1548.85 L2171.43 1548.85 L2171.43 1542.97 Z\" fill=\"#000000\" fill-rule=\"nonzero\" fill-opacity=\"1\" /><path clip-path=\"url(#clip190)\" d=\"M2196.5 1517.37 Q2192.89 1517.37 2191.06 1520.93 Q2189.25 1524.47 2189.25 1531.6 Q2189.25 1538.71 2191.06 1542.27 Q2192.89 1545.82 2196.5 1545.82 Q2200.13 1545.82 2201.94 1542.27 Q2203.76 1538.71 2203.76 1531.6 Q2203.76 1524.47 2201.94 1520.93 Q2200.13 1517.37 2196.5 1517.37 M2196.5 1513.66 Q2202.31 1513.66 2205.36 1518.27 Q2208.44 1522.85 2208.44 1531.6 Q2208.44 1540.33 2205.36 1544.94 Q2202.31 1549.52 2196.5 1549.52 Q2190.69 1549.52 2187.61 1544.94 Q2184.55 1540.33 2184.55 1531.6 Q2184.55 1522.85 2187.61 1518.27 Q2190.69 1513.66 2196.5 1513.66 Z\" fill=\"#000000\" fill-rule=\"nonzero\" fill-opacity=\"1\" /><polyline clip-path=\"url(#clip192)\" style=\"stroke:#000000; stroke-linecap:round; stroke-linejoin:round; stroke-width:2; stroke-opacity:0.1; fill:none\" points=\"147.478,1404.1 2352.76,1404.1 \"/>\n",
       "<polyline clip-path=\"url(#clip192)\" style=\"stroke:#000000; stroke-linecap:round; stroke-linejoin:round; stroke-width:2; stroke-opacity:0.1; fill:none\" points=\"147.478,1048.09 2352.76,1048.09 \"/>\n",
       "<polyline clip-path=\"url(#clip192)\" style=\"stroke:#000000; stroke-linecap:round; stroke-linejoin:round; stroke-width:2; stroke-opacity:0.1; fill:none\" points=\"147.478,692.09 2352.76,692.09 \"/>\n",
       "<polyline clip-path=\"url(#clip192)\" style=\"stroke:#000000; stroke-linecap:round; stroke-linejoin:round; stroke-width:2; stroke-opacity:0.1; fill:none\" points=\"147.478,336.085 2352.76,336.085 \"/>\n",
       "<polyline clip-path=\"url(#clip190)\" style=\"stroke:#000000; stroke-linecap:round; stroke-linejoin:round; stroke-width:4; stroke-opacity:1; fill:none\" points=\"147.478,1486.45 147.478,47.2441 \"/>\n",
       "<polyline clip-path=\"url(#clip190)\" style=\"stroke:#000000; stroke-linecap:round; stroke-linejoin:round; stroke-width:4; stroke-opacity:1; fill:none\" points=\"147.478,1404.1 166.376,1404.1 \"/>\n",
       "<polyline clip-path=\"url(#clip190)\" style=\"stroke:#000000; stroke-linecap:round; stroke-linejoin:round; stroke-width:4; stroke-opacity:1; fill:none\" points=\"147.478,1048.09 166.376,1048.09 \"/>\n",
       "<polyline clip-path=\"url(#clip190)\" style=\"stroke:#000000; stroke-linecap:round; stroke-linejoin:round; stroke-width:4; stroke-opacity:1; fill:none\" points=\"147.478,692.09 166.376,692.09 \"/>\n",
       "<polyline clip-path=\"url(#clip190)\" style=\"stroke:#000000; stroke-linecap:round; stroke-linejoin:round; stroke-width:4; stroke-opacity:1; fill:none\" points=\"147.478,336.085 166.376,336.085 \"/>\n",
       "<path clip-path=\"url(#clip190)\" d=\"M51.3625 1404.55 L81.0383 1404.55 L81.0383 1408.49 L51.3625 1408.49 L51.3625 1404.55 Z\" fill=\"#000000\" fill-rule=\"nonzero\" fill-opacity=\"1\" /><path clip-path=\"url(#clip190)\" d=\"M95.1586 1417.44 L111.478 1417.44 L111.478 1421.38 L89.5336 1421.38 L89.5336 1417.44 Q92.1956 1414.69 96.7789 1410.06 Q101.385 1405.41 102.566 1404.06 Q104.811 1401.54 105.691 1399.8 Q106.594 1398.05 106.594 1396.36 Q106.594 1393.6 104.649 1391.87 Q102.728 1390.13 99.6261 1390.13 Q97.4271 1390.13 94.9734 1390.89 Q92.5428 1391.66 89.7651 1393.21 L89.7651 1388.49 Q92.5891 1387.35 95.0428 1386.77 Q97.4965 1386.19 99.5335 1386.19 Q104.904 1386.19 108.098 1388.88 Q111.293 1391.56 111.293 1396.06 Q111.293 1398.18 110.483 1400.11 Q109.696 1402 107.589 1404.6 Q107.01 1405.27 103.909 1408.49 Q100.807 1411.68 95.1586 1417.44 Z\" fill=\"#000000\" fill-rule=\"nonzero\" fill-opacity=\"1\" /><path clip-path=\"url(#clip190)\" d=\"M50.9921 1048.55 L80.6679 1048.55 L80.6679 1052.48 L50.9921 1052.48 L50.9921 1048.55 Z\" fill=\"#000000\" fill-rule=\"nonzero\" fill-opacity=\"1\" /><path clip-path=\"url(#clip190)\" d=\"M91.5706 1061.44 L99.2095 1061.44 L99.2095 1035.07 L90.8993 1036.74 L90.8993 1032.48 L99.1632 1030.81 L103.839 1030.81 L103.839 1061.44 L111.478 1061.44 L111.478 1065.37 L91.5706 1065.37 L91.5706 1061.44 Z\" fill=\"#000000\" fill-rule=\"nonzero\" fill-opacity=\"1\" /><path clip-path=\"url(#clip190)\" d=\"M99.5335 677.888 Q95.9224 677.888 94.0937 681.453 Q92.2882 684.995 92.2882 692.124 Q92.2882 699.231 94.0937 702.796 Q95.9224 706.337 99.5335 706.337 Q103.168 706.337 104.973 702.796 Q106.802 699.231 106.802 692.124 Q106.802 684.995 104.973 681.453 Q103.168 677.888 99.5335 677.888 M99.5335 674.185 Q105.344 674.185 108.399 678.791 Q111.478 683.374 111.478 692.124 Q111.478 700.851 108.399 705.458 Q105.344 710.041 99.5335 710.041 Q93.7234 710.041 90.6447 705.458 Q87.5892 700.851 87.5892 692.124 Q87.5892 683.374 90.6447 678.791 Q93.7234 674.185 99.5335 674.185 Z\" fill=\"#000000\" fill-rule=\"nonzero\" fill-opacity=\"1\" /><path clip-path=\"url(#clip190)\" d=\"M91.5706 349.43 L99.2095 349.43 L99.2095 323.064 L90.8993 324.731 L90.8993 320.472 L99.1632 318.805 L103.839 318.805 L103.839 349.43 L111.478 349.43 L111.478 353.365 L91.5706 353.365 L91.5706 349.43 Z\" fill=\"#000000\" fill-rule=\"nonzero\" fill-opacity=\"1\" /><circle clip-path=\"url(#clip192)\" cx=\"1239.61\" cy=\"87.9763\" r=\"14.4\" fill=\"#009af9\" fill-rule=\"evenodd\" fill-opacity=\"1\" stroke=\"#000000\" stroke-opacity=\"1\" stroke-width=\"3.2\"/>\n",
       "<circle clip-path=\"url(#clip192)\" cx=\"1747.74\" cy=\"1043.74\" r=\"14.4\" fill=\"#009af9\" fill-rule=\"evenodd\" fill-opacity=\"1\" stroke=\"#000000\" stroke-opacity=\"1\" stroke-width=\"3.2\"/>\n",
       "<circle clip-path=\"url(#clip192)\" cx=\"1670.26\" cy=\"972.055\" r=\"14.4\" fill=\"#009af9\" fill-rule=\"evenodd\" fill-opacity=\"1\" stroke=\"#000000\" stroke-opacity=\"1\" stroke-width=\"3.2\"/>\n",
       "<circle clip-path=\"url(#clip192)\" cx=\"2290.34\" cy=\"584.094\" r=\"14.4\" fill=\"#009af9\" fill-rule=\"evenodd\" fill-opacity=\"1\" stroke=\"#000000\" stroke-opacity=\"1\" stroke-width=\"3.2\"/>\n",
       "<circle clip-path=\"url(#clip192)\" cx=\"2046.31\" cy=\"284.182\" r=\"14.4\" fill=\"#009af9\" fill-rule=\"evenodd\" fill-opacity=\"1\" stroke=\"#000000\" stroke-opacity=\"1\" stroke-width=\"3.2\"/>\n",
       "<circle clip-path=\"url(#clip192)\" cx=\"1289.09\" cy=\"292.699\" r=\"14.4\" fill=\"#009af9\" fill-rule=\"evenodd\" fill-opacity=\"1\" stroke=\"#000000\" stroke-opacity=\"1\" stroke-width=\"3.2\"/>\n",
       "<circle clip-path=\"url(#clip192)\" cx=\"209.891\" cy=\"1105.46\" r=\"14.4\" fill=\"#009af9\" fill-rule=\"evenodd\" fill-opacity=\"1\" stroke=\"#000000\" stroke-opacity=\"1\" stroke-width=\"3.2\"/>\n",
       "<circle clip-path=\"url(#clip192)\" cx=\"1590.74\" cy=\"1041.98\" r=\"14.4\" fill=\"#009af9\" fill-rule=\"evenodd\" fill-opacity=\"1\" stroke=\"#000000\" stroke-opacity=\"1\" stroke-width=\"3.2\"/>\n",
       "<circle clip-path=\"url(#clip192)\" cx=\"1142.56\" cy=\"445.388\" r=\"14.4\" fill=\"#009af9\" fill-rule=\"evenodd\" fill-opacity=\"1\" stroke=\"#000000\" stroke-opacity=\"1\" stroke-width=\"3.2\"/>\n",
       "<circle clip-path=\"url(#clip192)\" cx=\"1586.64\" cy=\"653.773\" r=\"14.4\" fill=\"#009af9\" fill-rule=\"evenodd\" fill-opacity=\"1\" stroke=\"#000000\" stroke-opacity=\"1\" stroke-width=\"3.2\"/>\n",
       "<circle clip-path=\"url(#clip192)\" cx=\"815.512\" cy=\"669.913\" r=\"14.4\" fill=\"#009af9\" fill-rule=\"evenodd\" fill-opacity=\"1\" stroke=\"#000000\" stroke-opacity=\"1\" stroke-width=\"3.2\"/>\n",
       "<circle clip-path=\"url(#clip192)\" cx=\"1669.75\" cy=\"291.583\" r=\"14.4\" fill=\"#009af9\" fill-rule=\"evenodd\" fill-opacity=\"1\" stroke=\"#000000\" stroke-opacity=\"1\" stroke-width=\"3.2\"/>\n",
       "<circle clip-path=\"url(#clip192)\" cx=\"1108.55\" cy=\"1088.02\" r=\"14.4\" fill=\"#009af9\" fill-rule=\"evenodd\" fill-opacity=\"1\" stroke=\"#000000\" stroke-opacity=\"1\" stroke-width=\"3.2\"/>\n",
       "<circle clip-path=\"url(#clip192)\" cx=\"1332.17\" cy=\"1445.72\" r=\"14.4\" fill=\"#009af9\" fill-rule=\"evenodd\" fill-opacity=\"1\" stroke=\"#000000\" stroke-opacity=\"1\" stroke-width=\"3.2\"/>\n",
       "<path clip-path=\"url(#clip190)\" d=\"M220.987 198.898 L493.945 198.898 L493.945 95.2176 L220.987 95.2176  Z\" fill=\"#ffffff\" fill-rule=\"evenodd\" fill-opacity=\"1\"/>\n",
       "<polyline clip-path=\"url(#clip190)\" style=\"stroke:#000000; stroke-linecap:round; stroke-linejoin:round; stroke-width:4; stroke-opacity:1; fill:none\" points=\"220.987,198.898 493.945,198.898 493.945,95.2176 220.987,95.2176 220.987,198.898 \"/>\n",
       "<circle clip-path=\"url(#clip190)\" cx=\"319\" cy=\"147.058\" r=\"20.48\" fill=\"#009af9\" fill-rule=\"evenodd\" fill-opacity=\"1\" stroke=\"#000000\" stroke-opacity=\"1\" stroke-width=\"4.55111\"/>\n",
       "<path clip-path=\"url(#clip190)\" d=\"M430.854 166.745 Q429.049 171.375 427.336 172.787 Q425.623 174.199 422.753 174.199 L419.35 174.199 L419.35 170.634 L421.85 170.634 Q423.609 170.634 424.581 169.8 Q425.554 168.967 426.734 165.865 L427.498 163.921 L417.012 138.412 L421.526 138.412 L429.628 158.689 L437.729 138.412 L442.243 138.412 L430.854 166.745 Z\" fill=\"#000000\" fill-rule=\"nonzero\" fill-opacity=\"1\" /><path clip-path=\"url(#clip190)\" d=\"M449.535 160.402 L457.174 160.402 L457.174 134.037 L448.864 135.703 L448.864 131.444 L457.127 129.778 L461.803 129.778 L461.803 160.402 L469.442 160.402 L469.442 164.338 L449.535 164.338 L449.535 160.402 Z\" fill=\"#000000\" fill-rule=\"nonzero\" fill-opacity=\"1\" /></svg>\n"
      ]
     },
     "metadata": {},
     "output_type": "display_data"
    }
   ],
   "source": [
    "using Plots: scatter # load the Plots library (specifically the scatter function)\n",
    "using Random # load the random library (standard)\n",
    "\n",
    "x = randn(Float64, (14,))\n",
    "y = randn(Float64, (14,))\n",
    "scatter(x, y)"
   ]
  }
 ],
 "metadata": {
  "kernelspec": {
   "display_name": "Julia 1.9.0",
   "language": "julia",
   "name": "julia-1.9"
  },
  "language_info": {
   "file_extension": ".jl",
   "mimetype": "application/julia",
   "name": "julia",
   "version": "1.9.0"
  },
  "orig_nbformat": 4
 },
 "nbformat": 4,
 "nbformat_minor": 2
}
