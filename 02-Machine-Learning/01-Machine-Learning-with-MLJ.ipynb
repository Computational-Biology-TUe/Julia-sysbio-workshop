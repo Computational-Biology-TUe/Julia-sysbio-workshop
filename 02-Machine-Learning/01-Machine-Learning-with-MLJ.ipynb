{
 "cells": [
  {
   "cell_type": "markdown",
   "metadata": {},
   "source": [
    "## Predicting Crab Age from other Variables\n",
    "<img src=\"../figures/mlj.svg\" width=100 height=100>\n",
    "\n",
    "We now wish to predict the crab age from our various variables. Initially, we will start with a simple linear regression. For this purpose, we will use the `MLJ` package, which can be seen as a `scikit-learn` equivalent, containing many different models. First of all, we will load the MLJ package."
   ]
  },
  {
   "cell_type": "code",
   "execution_count": 1,
   "metadata": {},
   "outputs": [],
   "source": [
    "using MLJ\n",
    "using DataFrames\n",
    "using CSV\n",
    "using Plots\n",
    "using Statistics"
   ]
  },
  {
   "cell_type": "markdown",
   "metadata": {},
   "source": [
    "We'll load in the crab dataset from the previous part."
   ]
  },
  {
   "cell_type": "code",
   "execution_count": 2,
   "metadata": {},
   "outputs": [
    {
     "data": {
      "text/html": [
       "<div><div style = \"float: left;\"><span>5×9 DataFrame</span></div><div style = \"clear: both;\"></div></div><div class = \"data-frame\" style = \"overflow-x: scroll;\"><table class = \"data-frame\" style = \"margin-bottom: 6px;\"><thead><tr class = \"header\"><th class = \"rowNumber\" style = \"font-weight: bold; text-align: right;\">Row</th><th style = \"text-align: left;\">Sex</th><th style = \"text-align: left;\">Length</th><th style = \"text-align: left;\">Diameter</th><th style = \"text-align: left;\">Height</th><th style = \"text-align: left;\">Weight</th><th style = \"text-align: left;\">ShuckedWeight</th><th style = \"text-align: left;\">VisceraWeight</th><th style = \"text-align: left;\">ShellWeight</th><th style = \"text-align: left;\">Age</th></tr><tr class = \"subheader headerLastRow\"><th class = \"rowNumber\" style = \"font-weight: bold; text-align: right;\"></th><th title = \"String1\" style = \"text-align: left;\">String1</th><th title = \"Float64\" style = \"text-align: left;\">Float64</th><th title = \"Float64\" style = \"text-align: left;\">Float64</th><th title = \"Float64\" style = \"text-align: left;\">Float64</th><th title = \"Float64\" style = \"text-align: left;\">Float64</th><th title = \"Float64\" style = \"text-align: left;\">Float64</th><th title = \"Float64\" style = \"text-align: left;\">Float64</th><th title = \"Float64\" style = \"text-align: left;\">Float64</th><th title = \"Float64\" style = \"text-align: left;\">Float64</th></tr></thead><tbody><tr><td class = \"rowNumber\" style = \"font-weight: bold; text-align: right;\">1</td><td style = \"text-align: left;\">F</td><td style = \"text-align: right;\">1.4375</td><td style = \"text-align: right;\">1.175</td><td style = \"text-align: right;\">0.4125</td><td style = \"text-align: right;\">24.6357</td><td style = \"text-align: right;\">12.332</td><td style = \"text-align: right;\">5.58485</td><td style = \"text-align: right;\">6.74718</td><td style = \"text-align: right;\">9.0</td></tr><tr><td class = \"rowNumber\" style = \"font-weight: bold; text-align: right;\">2</td><td style = \"text-align: left;\">M</td><td style = \"text-align: right;\">0.8875</td><td style = \"text-align: right;\">0.65</td><td style = \"text-align: right;\">0.2125</td><td style = \"text-align: right;\">5.40058</td><td style = \"text-align: right;\">2.29631</td><td style = \"text-align: right;\">1.37495</td><td style = \"text-align: right;\">1.55922</td><td style = \"text-align: right;\">6.0</td></tr><tr><td class = \"rowNumber\" style = \"font-weight: bold; text-align: right;\">3</td><td style = \"text-align: left;\">I</td><td style = \"text-align: right;\">1.0375</td><td style = \"text-align: right;\">0.775</td><td style = \"text-align: right;\">0.25</td><td style = \"text-align: right;\">7.95203</td><td style = \"text-align: right;\">3.23184</td><td style = \"text-align: right;\">1.60175</td><td style = \"text-align: right;\">2.76408</td><td style = \"text-align: right;\">6.0</td></tr><tr><td class = \"rowNumber\" style = \"font-weight: bold; text-align: right;\">4</td><td style = \"text-align: left;\">F</td><td style = \"text-align: right;\">1.175</td><td style = \"text-align: right;\">0.8875</td><td style = \"text-align: right;\">0.25</td><td style = \"text-align: right;\">13.4802</td><td style = \"text-align: right;\">4.74854</td><td style = \"text-align: right;\">2.28213</td><td style = \"text-align: right;\">5.24466</td><td style = \"text-align: right;\">10.0</td></tr><tr><td class = \"rowNumber\" style = \"font-weight: bold; text-align: right;\">5</td><td style = \"text-align: left;\">I</td><td style = \"text-align: right;\">0.8875</td><td style = \"text-align: right;\">0.6625</td><td style = \"text-align: right;\">0.2125</td><td style = \"text-align: right;\">6.9031</td><td style = \"text-align: right;\">3.45864</td><td style = \"text-align: right;\">1.48835</td><td style = \"text-align: right;\">1.70097</td><td style = \"text-align: right;\">6.0</td></tr></tbody></table></div>"
      ],
      "text/latex": [
       "\\begin{tabular}{r|ccccccccc}\n",
       "\t& Sex & Length & Diameter & Height & Weight & ShuckedWeight & VisceraWeight & ShellWeight & \\\\\n",
       "\t\\hline\n",
       "\t& String1 & Float64 & Float64 & Float64 & Float64 & Float64 & Float64 & Float64 & \\\\\n",
       "\t\\hline\n",
       "\t1 & F & 1.4375 & 1.175 & 0.4125 & 24.6357 & 12.332 & 5.58485 & 6.74718 & $\\dots$ \\\\\n",
       "\t2 & M & 0.8875 & 0.65 & 0.2125 & 5.40058 & 2.29631 & 1.37495 & 1.55922 & $\\dots$ \\\\\n",
       "\t3 & I & 1.0375 & 0.775 & 0.25 & 7.95203 & 3.23184 & 1.60175 & 2.76408 & $\\dots$ \\\\\n",
       "\t4 & F & 1.175 & 0.8875 & 0.25 & 13.4802 & 4.74854 & 2.28213 & 5.24466 & $\\dots$ \\\\\n",
       "\t5 & I & 0.8875 & 0.6625 & 0.2125 & 6.9031 & 3.45864 & 1.48835 & 1.70097 & $\\dots$ \\\\\n",
       "\\end{tabular}\n"
      ],
      "text/plain": [
       "\u001b[1m5×9 DataFrame\u001b[0m\n",
       "\u001b[1m Row \u001b[0m│\u001b[1m Sex     \u001b[0m\u001b[1m Length  \u001b[0m\u001b[1m Diameter \u001b[0m\u001b[1m Height  \u001b[0m\u001b[1m Weight   \u001b[0m\u001b[1m ShuckedWeight \u001b[0m\u001b[1m VisceraWe\u001b[0m ⋯\n",
       "     │\u001b[90m String1 \u001b[0m\u001b[90m Float64 \u001b[0m\u001b[90m Float64  \u001b[0m\u001b[90m Float64 \u001b[0m\u001b[90m Float64  \u001b[0m\u001b[90m Float64       \u001b[0m\u001b[90m Float64  \u001b[0m ⋯\n",
       "─────┼──────────────────────────────────────────────────────────────────────────\n",
       "   1 │ F         1.4375    1.175    0.4125  24.6357        12.332          5.5 ⋯\n",
       "   2 │ M         0.8875    0.65     0.2125   5.40058        2.29631        1.3\n",
       "   3 │ I         1.0375    0.775    0.25     7.95203        3.23184        1.6\n",
       "   4 │ F         1.175     0.8875   0.25    13.4802         4.74854        2.2\n",
       "   5 │ I         0.8875    0.6625   0.2125   6.9031         3.45864        1.4 ⋯\n",
       "\u001b[36m                                                               3 columns omitted\u001b[0m"
      ]
     },
     "metadata": {},
     "output_type": "display_data"
    }
   ],
   "source": [
    "location = \"../datasets/CrabAge.csv\"\n",
    "dataset = DataFrame(CSV.File(location))\n",
    "dataset.Age = Float64.(dataset.Age) # convert to float for later\n",
    "# show the first five lines of the dataset\n",
    "first(dataset, 5)"
   ]
  },
  {
   "cell_type": "markdown",
   "metadata": {},
   "source": [
    "We need to split our data into train and validation sets. This can be easily done using the `partition` function."
   ]
  },
  {
   "cell_type": "code",
   "execution_count": 3,
   "metadata": {},
   "outputs": [],
   "source": [
    "train_rows, test_rows = partition(1:nrows(dataset), 0.8, rng=129);"
   ]
  },
  {
   "cell_type": "markdown",
   "metadata": {},
   "source": [
    "We then load the `LinearRegressor` for performing linear regression. In this case, we opt for the `MLJLinearModels` flavour."
   ]
  },
  {
   "cell_type": "code",
   "execution_count": 4,
   "metadata": {},
   "outputs": [
    {
     "name": "stderr",
     "output_type": "stream",
     "text": [
      "┌ Info: For silent loading, specify `verbosity=0`. \n",
      "└ @ Main /Users/max/.julia/packages/MLJModels/7apZ3/src/loading.jl:159\n"
     ]
    },
    {
     "name": "stdout",
     "output_type": "stream",
     "text": [
      "import MLJLinearModels"
     ]
    },
    {
     "name": "stdout",
     "output_type": "stream",
     "text": [
      " ✔\n"
     ]
    },
    {
     "data": {
      "text/plain": [
       "MLJLinearModels.LinearRegressor"
      ]
     },
     "metadata": {},
     "output_type": "display_data"
    }
   ],
   "source": [
    "LinearRegressor = @load LinearRegressor pkg=MLJLinearModels"
   ]
  },
  {
   "cell_type": "markdown",
   "metadata": {},
   "source": [
    "We then create a model instance using and bind this to training data. Then we can call `fit!()` to perform regression."
   ]
  },
  {
   "cell_type": "code",
   "execution_count": 5,
   "metadata": {},
   "outputs": [],
   "source": [
    "model = LinearRegressor() # default hyperparameters\n",
    "mach = machine(model, dataset[train_rows, 2:8], dataset[train_rows, :Age])\n",
    "fit!(mach, verbosity=0);"
   ]
  },
  {
   "cell_type": "markdown",
   "metadata": {},
   "source": [
    "We can also train and evaluate on the respective train and test sets in one call."
   ]
  },
  {
   "cell_type": "code",
   "execution_count": 6,
   "metadata": {},
   "outputs": [
    {
     "data": {
      "text/plain": [
       "PerformanceEvaluation object with these fields:\n",
       "  model, measure, operation, measurement, per_fold,\n",
       "  per_observation, fitted_params_per_fold,\n",
       "  report_per_fold, train_test_rows, resampling, repeats\n",
       "Extract:\n",
       "┌──────────┬───────────┬─────────────┬──────────┐\n",
       "│\u001b[22m measure  \u001b[0m│\u001b[22m operation \u001b[0m│\u001b[22m measurement \u001b[0m│\u001b[22m per_fold \u001b[0m│\n",
       "├──────────┼───────────┼─────────────┼──────────┤\n",
       "│ LPLoss(  │ predict   │ 5.71        │ [5.71]   │\n",
       "│   p = 2) │           │             │          │\n",
       "└──────────┴───────────┴─────────────┴──────────┘\n"
      ]
     },
     "metadata": {},
     "output_type": "display_data"
    }
   ],
   "source": [
    "evaluate(model, dataset[:, 2:8], dataset[!, :Age], resampling = [(train_rows, test_rows)], measure=l2, verbosity=0)"
   ]
  },
  {
   "cell_type": "markdown",
   "metadata": {},
   "source": [
    "The `MLJ` package has a huge amount of functionalities, which will not be discussed here, but can be found in their [documentation](https://alan-turing-institute.github.io/MLJ.jl/dev/). "
   ]
  },
  {
   "cell_type": "markdown",
   "metadata": {},
   "source": [
    "---\n",
    "Exercise 3\n",
    "---\n",
    "\n",
    "1. Here we trained a linear regression model using all features. However, our correlation plot in the previous part suggested that some features may not be as informative. Can you find a model with less features that performs (nearly) as well?\n",
    "2. Look to the MLJ documentation and try to train another type of regressor on the data (either from MLJLinearModels or MLJScikitLearnInterface)"
   ]
  },
  {
   "cell_type": "code",
   "execution_count": null,
   "metadata": {},
   "outputs": [],
   "source": [
    "# Expecting great things"
   ]
  },
  {
   "cell_type": "markdown",
   "metadata": {},
   "source": [
    "---"
   ]
  }
 ],
 "metadata": {
  "kernelspec": {
   "display_name": "Julia 1.9.0",
   "language": "julia",
   "name": "julia-1.9"
  },
  "language_info": {
   "file_extension": ".jl",
   "mimetype": "application/julia",
   "name": "julia",
   "version": "1.9.0"
  },
  "orig_nbformat": 4
 },
 "nbformat": 4,
 "nbformat_minor": 2
}
